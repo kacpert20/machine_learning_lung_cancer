{
 "cells": [
  {
   "cell_type": "code",
   "execution_count": 3,
   "metadata": {},
   "outputs": [
    {
     "name": "stderr",
     "output_type": "stream",
     "text": [
      "/usr/lib/python3/dist-packages/sklearn/base.py:376: InconsistentVersionWarning: Trying to unpickle estimator DecisionTreeClassifier from version 1.5.2 when using version 1.4.1.post1. This might lead to breaking code or invalid results. Use at your own risk. For more info please refer to:\n",
      "https://scikit-learn.org/stable/model_persistence.html#security-maintainability-limitations\n",
      "  warnings.warn(\n",
      "/usr/lib/python3/dist-packages/sklearn/base.py:376: InconsistentVersionWarning: Trying to unpickle estimator RandomForestClassifier from version 1.5.2 when using version 1.4.1.post1. This might lead to breaking code or invalid results. Use at your own risk. For more info please refer to:\n",
      "https://scikit-learn.org/stable/model_persistence.html#security-maintainability-limitations\n",
      "  warnings.warn(\n"
     ]
    },
    {
     "name": "stdout",
     "output_type": "stream",
     "text": [
      "Metryki na zbiorze walidacyjnym:\n",
      "Dokładność (Accuracy): 0.6057\n",
      "Precyzja (Precision):  0.6369\n",
      "Czułość (Recall):      0.6057\n",
      "F1-score:              0.6171\n",
      "\n",
      "Classification report:\n",
      "              precision    recall  f1-score   support\n",
      "\n",
      "           0       0.75      0.65      0.70     57589\n",
      "           1       0.38      0.49      0.43     25165\n",
      "\n",
      "    accuracy                           0.61     82754\n",
      "   macro avg       0.57      0.57      0.56     82754\n",
      "weighted avg       0.64      0.61      0.62     82754\n",
      "\n",
      "\n",
      "Walidacja krzyżowa (5-krotna):\n",
      "Średni F1-score (CV):     0.5964\n",
      "Średnia dokładność (CV):  0.5804\n"
     ]
    }
   ],
   "source": [
    "import pandas as pd\n",
    "import joblib\n",
    "from sklearn.metrics import accuracy_score, precision_score, recall_score, f1_score, classification_report\n",
    "from sklearn.model_selection import cross_val_score, StratifiedKFold\n",
    "\n",
    "# === 1. Wczytanie modelu i danych walidacyjnych ===\n",
    "model = joblib.load(\"best_model_rf.pkl\")\n",
    "df_val = pd.read_csv(\"validation_set.csv\")\n",
    "\n",
    "# Zmienna docelowa (zmień 'target' jeśli Twoja kolumna ma inną nazwę)\n",
    "target_column = 'target'\n",
    "X_val = df_val.drop(columns=[target_column])\n",
    "y_val = df_val[target_column]\n",
    "\n",
    "# === 2. Predykcja na zbiorze walidacyjnym ===\n",
    "y_pred = model.predict(X_val)\n",
    "\n",
    "# Metryki na zbiorze walidacyjnym\n",
    "acc = accuracy_score(y_val, y_pred)\n",
    "prec = precision_score(y_val, y_pred, average='weighted', zero_division=0)\n",
    "rec = recall_score(y_val, y_pred, average='weighted')\n",
    "f1 = f1_score(y_val, y_pred, average='weighted')\n",
    "\n",
    "print(\"Metryki na zbiorze walidacyjnym:\")\n",
    "print(f\"Dokładność (Accuracy): {acc:.4f}\")\n",
    "print(f\"Precyzja (Precision):  {prec:.4f}\")\n",
    "print(f\"Czułość (Recall):      {rec:.4f}\")\n",
    "print(f\"F1-score:              {f1:.4f}\")\n",
    "print(\"\\nClassification report:\")\n",
    "print(classification_report(y_val, y_pred, zero_division=0))\n",
    "\n",
    "# === 3. Walidacja krzyżowa (cross-validation) ===\n",
    "cv = StratifiedKFold(n_splits=5, shuffle=True, random_state=42)\n",
    "\n",
    "# F1-score z CV\n",
    "cv_f1_scores = cross_val_score(model, X_val, y_val, cv=cv, scoring='f1_weighted')\n",
    "# Accuracy z CV\n",
    "cv_acc_scores = cross_val_score(model, X_val, y_val, cv=cv, scoring='accuracy')\n",
    "\n",
    "print(\"\\nWalidacja krzyżowa (5-krotna):\")\n",
    "print(f\"Średni F1-score (CV):     {cv_f1_scores.mean():.4f}\")\n",
    "print(f\"Średnia dokładność (CV):  {cv_acc_scores.mean():.4f}\")\n",
    "\n"
   ]
  },
  {
   "cell_type": "markdown",
   "metadata": {},
   "source": [
    "Metryka             | Oryginalna grupa  | Nasza walidacja\n",
    "F1-score (Test)     | 0.4427            | 0.6171\n",
    "Dokładność (Test)   | 0.5804            | 0.6057\n",
    "Precyzja (Test)     | 0.3725            | 0.6369\n",
    "Czułość (Test)      | 0.5454            | 0.6057\n",
    "F1-score (CV)       | 0.4382            | 0.5964\n",
    "Dokładność (CV)     | 0.5936            | 0.5804"
   ]
  }
 ],
 "metadata": {
  "kernelspec": {
   "display_name": "Python 3",
   "language": "python",
   "name": "python3"
  },
  "language_info": {
   "codemirror_mode": {
    "name": "ipython",
    "version": 3
   },
   "file_extension": ".py",
   "mimetype": "text/x-python",
   "name": "python",
   "nbconvert_exporter": "python",
   "pygments_lexer": "ipython3",
   "version": "3.12.3"
  }
 },
 "nbformat": 4,
 "nbformat_minor": 2
}
