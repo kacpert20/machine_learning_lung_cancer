{
 "cells": [
  {
   "cell_type": "code",
   "execution_count": 37,
   "id": "32440a6c",
   "metadata": {},
   "outputs": [],
   "source": [
    "#CATBOOST - trening i wizualizacja, jak model działa"
   ]
  },
  {
   "cell_type": "code",
   "execution_count": null,
   "id": "3a0d9be2",
   "metadata": {},
   "outputs": [],
   "source": []
  },
  {
   "cell_type": "code",
   "execution_count": 38,
   "id": "52da5631",
   "metadata": {},
   "outputs": [],
   "source": [
    "from imblearn.over_sampling import RandomOverSampler, SMOTE, ADASYN\n",
    "from imblearn.under_sampling import RandomUnderSampler\n",
    "\n",
    "def random_undersample(X, y, random_state=42):\n",
    "    rus = RandomUnderSampler(random_state=random_state)\n",
    "    X_res, y_res = rus.fit_resample(X, y)\n",
    "    return X_res, y_res\n",
    "\n",
    "def random_oversample(X, y, random_state=42):\n",
    "    ros = RandomOverSampler(random_state=random_state)\n",
    "    X_res, y_res = ros.fit_resample(X, y)\n",
    "    return X_res, y_res\n",
    "\n",
    "def apply_smote(X, y, random_state=42, k_neighbors=5):\n",
    "    smote = SMOTE(random_state=random_state, k_neighbors=k_neighbors)\n",
    "    X_res, y_res = smote.fit_resample(X, y)\n",
    "    return X_res, y_res\n",
    "\n",
    "def apply_adasyn(X, y, random_state=42, n_neighbors=5):\n",
    "    adasyn = ADASYN(random_state=random_state, n_neighbors=n_neighbors)\n",
    "    X_res, y_res = adasyn.fit_resample(X, y)\n",
    "    return X_res, y_res"
   ]
  },
  {
   "cell_type": "code",
   "execution_count": 39,
   "id": "42924141",
   "metadata": {},
   "outputs": [
    {
     "name": "stderr",
     "output_type": "stream",
     "text": [
      "[I 2025-04-22 22:31:09,113] A new study created in memory with name: no-name-fdd610cd-74e2-44c9-b19f-23cc83bf0e74\n",
      "[I 2025-04-22 22:31:39,300] Trial 0 finished with value: 0.9756217930500931 and parameters: {'learning_rate': 0.06756001204992025, 'depth': 6, 'l2_leaf_reg': 3.6697303525885783, 'bagging_temperature': 0.4447990634146155, 'random_strength': 1.370801685509675, 'border_count': 194}. Best is trial 0 with value: 0.9756217930500931.\n",
      "[I 2025-04-22 22:32:10,021] Trial 1 finished with value: 0.9695757159489847 and parameters: {'learning_rate': 0.068369323266294, 'depth': 6, 'l2_leaf_reg': 7.114226831337325, 'bagging_temperature': 0.7049014641314838, 'random_strength': 8.340964766740303, 'border_count': 144}. Best is trial 0 with value: 0.9756217930500931.\n",
      "[I 2025-04-22 22:32:38,948] Trial 2 finished with value: 0.9289917049292874 and parameters: {'learning_rate': 0.010590803712480078, 'depth': 6, 'l2_leaf_reg': 1.9778545954331803, 'bagging_temperature': 0.5912412480150795, 'random_strength': 9.901385183200507, 'border_count': 222}. Best is trial 0 with value: 0.9756217930500931.\n",
      "[I 2025-04-22 22:33:02,652] Trial 3 finished with value: 0.9505265777865802 and parameters: {'learning_rate': 0.046630936719127915, 'depth': 4, 'l2_leaf_reg': 4.706573582390539, 'bagging_temperature': 0.2007916689818645, 'random_strength': 6.699681994027262, 'border_count': 161}. Best is trial 0 with value: 0.9756217930500931.\n",
      "[I 2025-04-22 22:33:28,992] Trial 4 finished with value: 0.9270067450073164 and parameters: {'learning_rate': 0.013171788708086012, 'depth': 5, 'l2_leaf_reg': 4.392743662126622, 'bagging_temperature': 0.04596605696134193, 'random_strength': 9.905116539142899, 'border_count': 184}. Best is trial 0 with value: 0.9756217930500931.\n",
      "[I 2025-04-22 22:33:55,229] Trial 5 finished with value: 0.9575797679646891 and parameters: {'learning_rate': 0.052150011581331375, 'depth': 5, 'l2_leaf_reg': 2.16660839415827, 'bagging_temperature': 0.1468276210003765, 'random_strength': 7.799021281819486, 'border_count': 109}. Best is trial 0 with value: 0.9756217930500931.\n",
      "[I 2025-04-22 22:34:22,887] Trial 6 finished with value: 0.9518448565846462 and parameters: {'learning_rate': 0.05618241424107588, 'depth': 5, 'l2_leaf_reg': 8.408621319592482, 'bagging_temperature': 0.32738691331256364, 'random_strength': 2.4438016612003577, 'border_count': 37}. Best is trial 0 with value: 0.9756217930500931.\n",
      "[I 2025-04-22 22:34:47,094] Trial 7 finished with value: 0.9511959416093348 and parameters: {'learning_rate': 0.06469474749085848, 'depth': 4, 'l2_leaf_reg': 7.629842008638946, 'bagging_temperature': 0.9236972055082464, 'random_strength': 7.925079766103066, 'border_count': 65}. Best is trial 0 with value: 0.9756217930500931.\n",
      "[I 2025-04-22 22:35:11,012] Trial 8 finished with value: 0.9552551177900943 and parameters: {'learning_rate': 0.0767086845488172, 'depth': 4, 'l2_leaf_reg': 7.609192772508083, 'bagging_temperature': 0.13519725024196794, 'random_strength': 7.918770868233808, 'border_count': 103}. Best is trial 0 with value: 0.9756217930500931.\n",
      "[I 2025-04-22 22:35:35,839] Trial 9 finished with value: 0.9646624350050718 and parameters: {'learning_rate': 0.08507478080485854, 'depth': 4, 'l2_leaf_reg': 2.9793002457042403, 'bagging_temperature': 0.055163980257531, 'random_strength': 8.600062210160326, 'border_count': 188}. Best is trial 0 with value: 0.9756217930500931.\n",
      "[I 2025-04-22 22:36:07,880] Trial 10 finished with value: 0.9799413244713685 and parameters: {'learning_rate': 0.09646391949110408, 'depth': 6, 'l2_leaf_reg': 9.720348194236, 'bagging_temperature': 0.4356122452135369, 'random_strength': 0.24564260931018467, 'border_count': 251}. Best is trial 10 with value: 0.9799413244713685.\n",
      "[I 2025-04-22 22:36:39,631] Trial 11 finished with value: 0.9801888864899806 and parameters: {'learning_rate': 0.0991285178805118, 'depth': 6, 'l2_leaf_reg': 9.841321241799447, 'bagging_temperature': 0.46083323891353645, 'random_strength': 0.2631749279220551, 'border_count': 252}. Best is trial 11 with value: 0.9801888864899806.\n",
      "[I 2025-04-22 22:37:10,927] Trial 12 finished with value: 0.9801034530177924 and parameters: {'learning_rate': 0.09817265695215947, 'depth': 6, 'l2_leaf_reg': 9.62184107734828, 'bagging_temperature': 0.4443549116084914, 'random_strength': 0.018771787764170267, 'border_count': 252}. Best is trial 11 with value: 0.9801888864899806.\n",
      "[I 2025-04-22 22:37:42,991] Trial 13 finished with value: 0.9796209746333865 and parameters: {'learning_rate': 0.09935234095721764, 'depth': 6, 'l2_leaf_reg': 9.871356279692192, 'bagging_temperature': 0.6373673837918283, 'random_strength': 3.4117951735383847, 'border_count': 250}. Best is trial 11 with value: 0.9801888864899806.\n",
      "[I 2025-04-22 22:38:14,413] Trial 14 finished with value: 0.9791645900599479 and parameters: {'learning_rate': 0.08628792026264395, 'depth': 6, 'l2_leaf_reg': 6.021012667919315, 'bagging_temperature': 0.8496688108033215, 'random_strength': 0.3227547586605545, 'border_count': 219}. Best is trial 11 with value: 0.9801888864899806.\n"
     ]
    },
    {
     "name": "stdout",
     "output_type": "stream",
     "text": [
      "Best parameters: {'learning_rate': 0.0991285178805118, 'depth': 6, 'l2_leaf_reg': 9.841321241799447, 'bagging_temperature': 0.46083323891353645, 'random_strength': 0.2631749279220551, 'border_count': 252}\n"
     ]
    }
   ],
   "source": [
    "import optuna\n",
    "from catboost import CatBoostClassifier\n",
    "from sklearn.metrics import f1_score, precision_score\n",
    "from sklearn.model_selection import cross_val_score\n",
    "import joblib\n",
    "import shap\n",
    "import matplotlib.pyplot as plt\n",
    "import numpy as np\n",
    "import pandas as pd\n",
    "\n",
    "df = pd.read_csv('70_percent_ls.csv')\n",
    "df.head()\n",
    "\n",
    "# Zakładamy, że kolumna celu nazywa się:\n",
    "target_column = 'Lung_Cancer_Diagnosis'\n",
    "\n",
    "X = df.drop(columns=[target_column])\n",
    "y = df[target_column]\n",
    "\n",
    "from sklearn.model_selection import train_test_split\n",
    "\n",
    "X_train_temp, X_test, y_train_temp, y_test = train_test_split(\n",
    "    X, y,\n",
    "    test_size=0.3,\n",
    "    stratify=y,        # zachowujemy proporcje klas!\n",
    "    random_state=42\n",
    ")\n",
    "\n",
    "\n",
    "\n",
    "X_train, y_train = apply_adasyn(X_train_temp,y_train_temp)\n",
    "\n",
    "\n",
    "\n",
    "def objective(trial):\n",
    "    params = {\n",
    "    \"iterations\": 500,\n",
    "    \"early_stopping_rounds\": 50,\n",
    "    \"learning_rate\": trial.suggest_float(\"learning_rate\", 0.01, 0.1),\n",
    "    \"scale_pos_weight\": 1.0,  # usuwamy wpływ\n",
    "    \"depth\": trial.suggest_int(\"depth\", 4, 6),\n",
    "    \"l2_leaf_reg\": trial.suggest_float(\"l2_leaf_reg\", 1.0, 10.0),\n",
    "    \"bagging_temperature\": trial.suggest_float(\"bagging_temperature\", 0.0, 1.0),\n",
    "    \"random_strength\": trial.suggest_float(\"random_strength\", 0.0, 10.0),\n",
    "    \"border_count\": trial.suggest_int(\"border_count\", 32, 255),\n",
    "    \"loss_function\": 'Logloss',\n",
    "    #\"eval_metric\": 'f1',  # lub 'Recall', lub 'AUC'\n",
    "    \"verbose\": 0,\n",
    "    \"random_state\": 42,\n",
    "}\n",
    "\n",
    "    model = CatBoostClassifier(**params)\n",
    "    \n",
    "    # używamy average_precision, bo lepiej działa na niezbalansowanych danych\n",
    "    score = cross_val_score(model, X_train, y_train, cv=3, scoring=\"average_precision\").mean()\n",
    "    return score\n",
    "\n",
    "study = optuna.create_study(direction=\"maximize\")\n",
    "study.optimize(objective, n_trials=15)#bo na razie nie mam czasu, a zaraz chce [przetestowac] co jak mi poszło\n",
    "\n",
    "print(\"Best parameters:\", study.best_params)\n"
   ]
  },
  {
   "cell_type": "code",
   "execution_count": 40,
   "id": "77dc6fc0",
   "metadata": {},
   "outputs": [
    {
     "name": "stdout",
     "output_type": "stream",
     "text": [
      "0:\tlearn: 0.6098614\ttotal: 28.7ms\tremaining: 28.7s\n",
      "1:\tlearn: 0.5602658\ttotal: 53ms\tremaining: 26.4s\n",
      "2:\tlearn: 0.5217627\ttotal: 77.4ms\tremaining: 25.7s\n",
      "3:\tlearn: 0.5095225\ttotal: 99.7ms\tremaining: 24.8s\n",
      "4:\tlearn: 0.4845174\ttotal: 126ms\tremaining: 25.2s\n",
      "5:\tlearn: 0.4707053\ttotal: 150ms\tremaining: 24.8s\n",
      "6:\tlearn: 0.4558607\ttotal: 172ms\tremaining: 24.4s\n",
      "7:\tlearn: 0.4446729\ttotal: 195ms\tremaining: 24.2s\n",
      "8:\tlearn: 0.4398647\ttotal: 221ms\tremaining: 24.3s\n",
      "9:\tlearn: 0.4262546\ttotal: 244ms\tremaining: 24.1s\n",
      "10:\tlearn: 0.4180991\ttotal: 269ms\tremaining: 24.2s\n",
      "11:\tlearn: 0.4077387\ttotal: 296ms\tremaining: 24.4s\n",
      "12:\tlearn: 0.4039685\ttotal: 321ms\tremaining: 24.4s\n",
      "13:\tlearn: 0.3932696\ttotal: 345ms\tremaining: 24.3s\n",
      "14:\tlearn: 0.3881819\ttotal: 370ms\tremaining: 24.3s\n",
      "15:\tlearn: 0.3854000\ttotal: 396ms\tremaining: 24.3s\n",
      "16:\tlearn: 0.3801549\ttotal: 423ms\tremaining: 24.5s\n",
      "17:\tlearn: 0.3744469\ttotal: 446ms\tremaining: 24.3s\n",
      "18:\tlearn: 0.3713085\ttotal: 471ms\tremaining: 24.3s\n",
      "19:\tlearn: 0.3696916\ttotal: 494ms\tremaining: 24.2s\n",
      "20:\tlearn: 0.3670117\ttotal: 521ms\tremaining: 24.3s\n",
      "21:\tlearn: 0.3644386\ttotal: 546ms\tremaining: 24.3s\n",
      "22:\tlearn: 0.3631637\ttotal: 569ms\tremaining: 24.1s\n",
      "23:\tlearn: 0.3614204\ttotal: 593ms\tremaining: 24.1s\n",
      "24:\tlearn: 0.3546480\ttotal: 617ms\tremaining: 24.1s\n",
      "25:\tlearn: 0.3536035\ttotal: 639ms\tremaining: 24s\n",
      "26:\tlearn: 0.3506080\ttotal: 665ms\tremaining: 24s\n",
      "27:\tlearn: 0.3495160\ttotal: 689ms\tremaining: 23.9s\n",
      "28:\tlearn: 0.3481870\ttotal: 712ms\tremaining: 23.9s\n",
      "29:\tlearn: 0.3474053\ttotal: 740ms\tremaining: 23.9s\n",
      "30:\tlearn: 0.3463554\ttotal: 764ms\tremaining: 23.9s\n",
      "31:\tlearn: 0.3453850\ttotal: 789ms\tremaining: 23.9s\n",
      "32:\tlearn: 0.3438746\ttotal: 814ms\tremaining: 23.8s\n",
      "33:\tlearn: 0.3431798\ttotal: 838ms\tremaining: 23.8s\n",
      "34:\tlearn: 0.3427152\ttotal: 862ms\tremaining: 23.8s\n",
      "35:\tlearn: 0.3413746\ttotal: 889ms\tremaining: 23.8s\n",
      "36:\tlearn: 0.3400524\ttotal: 915ms\tremaining: 23.8s\n",
      "37:\tlearn: 0.3378762\ttotal: 940ms\tremaining: 23.8s\n",
      "38:\tlearn: 0.3373181\ttotal: 964ms\tremaining: 23.7s\n",
      "39:\tlearn: 0.3359511\ttotal: 992ms\tremaining: 23.8s\n",
      "40:\tlearn: 0.3353441\ttotal: 1.01s\tremaining: 23.7s\n",
      "41:\tlearn: 0.3345284\ttotal: 1.04s\tremaining: 23.7s\n",
      "42:\tlearn: 0.3329725\ttotal: 1.06s\tremaining: 23.7s\n",
      "43:\tlearn: 0.3313701\ttotal: 1.09s\tremaining: 23.6s\n",
      "44:\tlearn: 0.3298031\ttotal: 1.11s\tremaining: 23.6s\n",
      "45:\tlearn: 0.3290785\ttotal: 1.13s\tremaining: 23.5s\n",
      "46:\tlearn: 0.3286368\ttotal: 1.16s\tremaining: 23.4s\n",
      "47:\tlearn: 0.3267238\ttotal: 1.18s\tremaining: 23.4s\n",
      "48:\tlearn: 0.3256934\ttotal: 1.21s\tremaining: 23.4s\n",
      "49:\tlearn: 0.3252580\ttotal: 1.23s\tremaining: 23.4s\n",
      "50:\tlearn: 0.3243099\ttotal: 1.26s\tremaining: 23.4s\n",
      "51:\tlearn: 0.3228522\ttotal: 1.28s\tremaining: 23.4s\n",
      "52:\tlearn: 0.3209945\ttotal: 1.31s\tremaining: 23.4s\n",
      "53:\tlearn: 0.3204611\ttotal: 1.33s\tremaining: 23.4s\n",
      "54:\tlearn: 0.3192624\ttotal: 1.36s\tremaining: 23.4s\n",
      "55:\tlearn: 0.3188166\ttotal: 1.38s\tremaining: 23.3s\n",
      "56:\tlearn: 0.3174236\ttotal: 1.41s\tremaining: 23.3s\n",
      "57:\tlearn: 0.3162800\ttotal: 1.44s\tremaining: 23.3s\n",
      "58:\tlearn: 0.3148949\ttotal: 1.46s\tremaining: 23.3s\n",
      "59:\tlearn: 0.3137265\ttotal: 1.49s\tremaining: 23.3s\n",
      "60:\tlearn: 0.3129634\ttotal: 1.51s\tremaining: 23.3s\n",
      "61:\tlearn: 0.3126983\ttotal: 1.54s\tremaining: 23.3s\n",
      "62:\tlearn: 0.3117987\ttotal: 1.57s\tremaining: 23.3s\n",
      "63:\tlearn: 0.3114690\ttotal: 1.59s\tremaining: 23.3s\n",
      "64:\tlearn: 0.3101196\ttotal: 1.61s\tremaining: 23.2s\n",
      "65:\tlearn: 0.3095522\ttotal: 1.64s\tremaining: 23.2s\n",
      "66:\tlearn: 0.3086825\ttotal: 1.66s\tremaining: 23.2s\n",
      "67:\tlearn: 0.3071407\ttotal: 1.69s\tremaining: 23.2s\n",
      "68:\tlearn: 0.3065325\ttotal: 1.71s\tremaining: 23.1s\n",
      "69:\tlearn: 0.3057897\ttotal: 1.73s\tremaining: 23s\n",
      "70:\tlearn: 0.3047861\ttotal: 1.76s\tremaining: 23s\n",
      "71:\tlearn: 0.3039630\ttotal: 1.78s\tremaining: 22.9s\n",
      "72:\tlearn: 0.3027078\ttotal: 1.8s\tremaining: 22.9s\n",
      "73:\tlearn: 0.3019023\ttotal: 1.83s\tremaining: 22.9s\n",
      "74:\tlearn: 0.3005953\ttotal: 1.86s\tremaining: 22.9s\n",
      "75:\tlearn: 0.2999196\ttotal: 1.88s\tremaining: 22.9s\n",
      "76:\tlearn: 0.2986916\ttotal: 1.91s\tremaining: 22.9s\n",
      "77:\tlearn: 0.2973180\ttotal: 1.94s\tremaining: 22.9s\n",
      "78:\tlearn: 0.2964972\ttotal: 1.96s\tremaining: 22.8s\n",
      "79:\tlearn: 0.2953834\ttotal: 1.99s\tremaining: 22.8s\n",
      "80:\tlearn: 0.2951129\ttotal: 2.01s\tremaining: 22.8s\n",
      "81:\tlearn: 0.2936330\ttotal: 2.03s\tremaining: 22.8s\n",
      "82:\tlearn: 0.2929821\ttotal: 2.06s\tremaining: 22.7s\n",
      "83:\tlearn: 0.2923158\ttotal: 2.08s\tremaining: 22.7s\n",
      "84:\tlearn: 0.2916362\ttotal: 2.11s\tremaining: 22.7s\n",
      "85:\tlearn: 0.2905105\ttotal: 2.14s\tremaining: 22.7s\n",
      "86:\tlearn: 0.2901567\ttotal: 2.17s\tremaining: 22.7s\n",
      "87:\tlearn: 0.2896515\ttotal: 2.19s\tremaining: 22.7s\n",
      "88:\tlearn: 0.2887691\ttotal: 2.22s\tremaining: 22.7s\n",
      "89:\tlearn: 0.2884987\ttotal: 2.24s\tremaining: 22.7s\n",
      "90:\tlearn: 0.2880679\ttotal: 2.27s\tremaining: 22.7s\n",
      "91:\tlearn: 0.2877761\ttotal: 2.3s\tremaining: 22.7s\n",
      "92:\tlearn: 0.2872841\ttotal: 2.32s\tremaining: 22.6s\n",
      "93:\tlearn: 0.2866388\ttotal: 2.34s\tremaining: 22.6s\n",
      "94:\tlearn: 0.2861922\ttotal: 2.37s\tremaining: 22.6s\n",
      "95:\tlearn: 0.2857847\ttotal: 2.4s\tremaining: 22.6s\n",
      "96:\tlearn: 0.2849164\ttotal: 2.42s\tremaining: 22.5s\n",
      "97:\tlearn: 0.2843980\ttotal: 2.45s\tremaining: 22.5s\n",
      "98:\tlearn: 0.2839153\ttotal: 2.48s\tremaining: 22.5s\n",
      "99:\tlearn: 0.2832388\ttotal: 2.5s\tremaining: 22.5s\n",
      "100:\tlearn: 0.2828392\ttotal: 2.53s\tremaining: 22.5s\n",
      "101:\tlearn: 0.2820276\ttotal: 2.55s\tremaining: 22.5s\n",
      "102:\tlearn: 0.2816876\ttotal: 2.58s\tremaining: 22.4s\n",
      "103:\tlearn: 0.2809846\ttotal: 2.6s\tremaining: 22.4s\n",
      "104:\tlearn: 0.2807724\ttotal: 2.63s\tremaining: 22.4s\n",
      "105:\tlearn: 0.2802985\ttotal: 2.65s\tremaining: 22.3s\n",
      "106:\tlearn: 0.2801160\ttotal: 2.67s\tremaining: 22.3s\n",
      "107:\tlearn: 0.2788270\ttotal: 2.7s\tremaining: 22.3s\n",
      "108:\tlearn: 0.2779729\ttotal: 2.73s\tremaining: 22.3s\n",
      "109:\tlearn: 0.2776541\ttotal: 2.75s\tremaining: 22.3s\n",
      "110:\tlearn: 0.2772685\ttotal: 2.78s\tremaining: 22.2s\n",
      "111:\tlearn: 0.2754040\ttotal: 2.8s\tremaining: 22.2s\n",
      "112:\tlearn: 0.2752607\ttotal: 2.82s\tremaining: 22.2s\n",
      "113:\tlearn: 0.2744931\ttotal: 2.85s\tremaining: 22.2s\n",
      "114:\tlearn: 0.2735717\ttotal: 2.88s\tremaining: 22.1s\n",
      "115:\tlearn: 0.2727543\ttotal: 2.9s\tremaining: 22.1s\n",
      "116:\tlearn: 0.2723592\ttotal: 2.93s\tremaining: 22.1s\n",
      "117:\tlearn: 0.2720064\ttotal: 2.96s\tremaining: 22.1s\n",
      "118:\tlearn: 0.2716283\ttotal: 2.98s\tremaining: 22.1s\n",
      "119:\tlearn: 0.2711051\ttotal: 3.01s\tremaining: 22.1s\n",
      "120:\tlearn: 0.2705897\ttotal: 3.04s\tremaining: 22.1s\n",
      "121:\tlearn: 0.2700160\ttotal: 3.06s\tremaining: 22s\n",
      "122:\tlearn: 0.2690420\ttotal: 3.09s\tremaining: 22s\n",
      "123:\tlearn: 0.2686560\ttotal: 3.12s\tremaining: 22s\n",
      "124:\tlearn: 0.2678537\ttotal: 3.14s\tremaining: 22s\n",
      "125:\tlearn: 0.2670665\ttotal: 3.17s\tremaining: 22s\n",
      "126:\tlearn: 0.2668911\ttotal: 3.2s\tremaining: 22s\n",
      "127:\tlearn: 0.2665260\ttotal: 3.22s\tremaining: 21.9s\n",
      "128:\tlearn: 0.2662088\ttotal: 3.25s\tremaining: 21.9s\n",
      "129:\tlearn: 0.2650158\ttotal: 3.27s\tremaining: 21.9s\n",
      "130:\tlearn: 0.2647077\ttotal: 3.3s\tremaining: 21.9s\n",
      "131:\tlearn: 0.2644547\ttotal: 3.32s\tremaining: 21.9s\n",
      "132:\tlearn: 0.2638099\ttotal: 3.35s\tremaining: 21.9s\n",
      "133:\tlearn: 0.2634727\ttotal: 3.38s\tremaining: 21.8s\n",
      "134:\tlearn: 0.2629238\ttotal: 3.4s\tremaining: 21.8s\n",
      "135:\tlearn: 0.2627659\ttotal: 3.43s\tremaining: 21.8s\n",
      "136:\tlearn: 0.2620866\ttotal: 3.45s\tremaining: 21.8s\n",
      "137:\tlearn: 0.2617726\ttotal: 3.48s\tremaining: 21.7s\n",
      "138:\tlearn: 0.2610018\ttotal: 3.5s\tremaining: 21.7s\n",
      "139:\tlearn: 0.2600704\ttotal: 3.53s\tremaining: 21.7s\n",
      "140:\tlearn: 0.2594878\ttotal: 3.56s\tremaining: 21.7s\n",
      "141:\tlearn: 0.2591968\ttotal: 3.58s\tremaining: 21.7s\n",
      "142:\tlearn: 0.2586179\ttotal: 3.61s\tremaining: 21.6s\n",
      "143:\tlearn: 0.2579791\ttotal: 3.63s\tremaining: 21.6s\n",
      "144:\tlearn: 0.2577898\ttotal: 3.66s\tremaining: 21.6s\n",
      "145:\tlearn: 0.2569975\ttotal: 3.69s\tremaining: 21.6s\n",
      "146:\tlearn: 0.2565198\ttotal: 3.71s\tremaining: 21.5s\n",
      "147:\tlearn: 0.2559484\ttotal: 3.74s\tremaining: 21.5s\n",
      "148:\tlearn: 0.2551644\ttotal: 3.77s\tremaining: 21.5s\n",
      "149:\tlearn: 0.2549598\ttotal: 3.79s\tremaining: 21.5s\n",
      "150:\tlearn: 0.2546969\ttotal: 3.82s\tremaining: 21.5s\n",
      "151:\tlearn: 0.2540611\ttotal: 3.85s\tremaining: 21.5s\n",
      "152:\tlearn: 0.2538162\ttotal: 3.87s\tremaining: 21.4s\n",
      "153:\tlearn: 0.2528280\ttotal: 3.9s\tremaining: 21.4s\n",
      "154:\tlearn: 0.2520956\ttotal: 3.92s\tremaining: 21.4s\n",
      "155:\tlearn: 0.2515081\ttotal: 3.95s\tremaining: 21.4s\n",
      "156:\tlearn: 0.2504521\ttotal: 3.97s\tremaining: 21.3s\n",
      "157:\tlearn: 0.2502192\ttotal: 4s\tremaining: 21.3s\n",
      "158:\tlearn: 0.2495175\ttotal: 4.03s\tremaining: 21.3s\n",
      "159:\tlearn: 0.2491272\ttotal: 4.05s\tremaining: 21.3s\n",
      "160:\tlearn: 0.2489935\ttotal: 4.08s\tremaining: 21.2s\n",
      "161:\tlearn: 0.2486436\ttotal: 4.1s\tremaining: 21.2s\n",
      "162:\tlearn: 0.2481920\ttotal: 4.13s\tremaining: 21.2s\n",
      "163:\tlearn: 0.2480103\ttotal: 4.15s\tremaining: 21.2s\n",
      "164:\tlearn: 0.2477268\ttotal: 4.17s\tremaining: 21.1s\n",
      "165:\tlearn: 0.2475677\ttotal: 4.2s\tremaining: 21.1s\n",
      "166:\tlearn: 0.2473861\ttotal: 4.22s\tremaining: 21.1s\n",
      "167:\tlearn: 0.2471663\ttotal: 4.25s\tremaining: 21s\n",
      "168:\tlearn: 0.2467806\ttotal: 4.28s\tremaining: 21s\n",
      "169:\tlearn: 0.2464778\ttotal: 4.3s\tremaining: 21s\n",
      "170:\tlearn: 0.2460189\ttotal: 4.33s\tremaining: 21s\n",
      "171:\tlearn: 0.2458030\ttotal: 4.35s\tremaining: 20.9s\n",
      "172:\tlearn: 0.2455648\ttotal: 4.37s\tremaining: 20.9s\n",
      "173:\tlearn: 0.2449420\ttotal: 4.4s\tremaining: 20.9s\n",
      "174:\tlearn: 0.2447564\ttotal: 4.42s\tremaining: 20.9s\n",
      "175:\tlearn: 0.2441494\ttotal: 4.45s\tremaining: 20.8s\n",
      "176:\tlearn: 0.2440049\ttotal: 4.47s\tremaining: 20.8s\n",
      "177:\tlearn: 0.2428056\ttotal: 4.5s\tremaining: 20.8s\n",
      "178:\tlearn: 0.2427031\ttotal: 4.52s\tremaining: 20.7s\n",
      "179:\tlearn: 0.2420680\ttotal: 4.55s\tremaining: 20.7s\n",
      "180:\tlearn: 0.2413202\ttotal: 4.58s\tremaining: 20.7s\n",
      "181:\tlearn: 0.2411692\ttotal: 4.6s\tremaining: 20.7s\n",
      "182:\tlearn: 0.2406169\ttotal: 4.62s\tremaining: 20.6s\n",
      "183:\tlearn: 0.2404446\ttotal: 4.65s\tremaining: 20.6s\n",
      "184:\tlearn: 0.2399624\ttotal: 4.67s\tremaining: 20.6s\n",
      "185:\tlearn: 0.2398063\ttotal: 4.7s\tremaining: 20.6s\n",
      "186:\tlearn: 0.2390734\ttotal: 4.72s\tremaining: 20.5s\n",
      "187:\tlearn: 0.2384045\ttotal: 4.75s\tremaining: 20.5s\n",
      "188:\tlearn: 0.2381569\ttotal: 4.77s\tremaining: 20.5s\n",
      "189:\tlearn: 0.2375328\ttotal: 4.8s\tremaining: 20.5s\n",
      "190:\tlearn: 0.2370133\ttotal: 4.82s\tremaining: 20.4s\n",
      "191:\tlearn: 0.2366546\ttotal: 4.85s\tremaining: 20.4s\n",
      "192:\tlearn: 0.2362126\ttotal: 4.87s\tremaining: 20.4s\n",
      "193:\tlearn: 0.2357632\ttotal: 4.89s\tremaining: 20.3s\n",
      "194:\tlearn: 0.2351466\ttotal: 4.92s\tremaining: 20.3s\n",
      "195:\tlearn: 0.2342861\ttotal: 4.95s\tremaining: 20.3s\n",
      "196:\tlearn: 0.2336277\ttotal: 4.97s\tremaining: 20.3s\n",
      "197:\tlearn: 0.2328989\ttotal: 5s\tremaining: 20.2s\n",
      "198:\tlearn: 0.2323626\ttotal: 5.02s\tremaining: 20.2s\n",
      "199:\tlearn: 0.2321889\ttotal: 5.05s\tremaining: 20.2s\n",
      "200:\tlearn: 0.2315322\ttotal: 5.07s\tremaining: 20.2s\n",
      "201:\tlearn: 0.2312383\ttotal: 5.1s\tremaining: 20.1s\n",
      "202:\tlearn: 0.2305713\ttotal: 5.12s\tremaining: 20.1s\n",
      "203:\tlearn: 0.2304199\ttotal: 5.15s\tremaining: 20.1s\n",
      "204:\tlearn: 0.2296334\ttotal: 5.17s\tremaining: 20.1s\n",
      "205:\tlearn: 0.2291049\ttotal: 5.2s\tremaining: 20.1s\n",
      "206:\tlearn: 0.2287713\ttotal: 5.23s\tremaining: 20s\n",
      "207:\tlearn: 0.2283556\ttotal: 5.25s\tremaining: 20s\n",
      "208:\tlearn: 0.2282311\ttotal: 5.28s\tremaining: 20s\n",
      "209:\tlearn: 0.2276071\ttotal: 5.3s\tremaining: 19.9s\n",
      "210:\tlearn: 0.2268730\ttotal: 5.33s\tremaining: 19.9s\n",
      "211:\tlearn: 0.2264797\ttotal: 5.36s\tremaining: 19.9s\n",
      "212:\tlearn: 0.2260440\ttotal: 5.38s\tremaining: 19.9s\n",
      "213:\tlearn: 0.2253531\ttotal: 5.41s\tremaining: 19.9s\n",
      "214:\tlearn: 0.2247039\ttotal: 5.43s\tremaining: 19.8s\n",
      "215:\tlearn: 0.2237067\ttotal: 5.46s\tremaining: 19.8s\n",
      "216:\tlearn: 0.2231259\ttotal: 5.49s\tremaining: 19.8s\n",
      "217:\tlearn: 0.2225900\ttotal: 5.51s\tremaining: 19.8s\n",
      "218:\tlearn: 0.2216216\ttotal: 5.54s\tremaining: 19.8s\n",
      "219:\tlearn: 0.2212062\ttotal: 5.56s\tremaining: 19.7s\n",
      "220:\tlearn: 0.2210288\ttotal: 5.59s\tremaining: 19.7s\n",
      "221:\tlearn: 0.2208658\ttotal: 5.61s\tremaining: 19.7s\n",
      "222:\tlearn: 0.2204901\ttotal: 5.64s\tremaining: 19.7s\n",
      "223:\tlearn: 0.2201609\ttotal: 5.67s\tremaining: 19.6s\n",
      "224:\tlearn: 0.2197177\ttotal: 5.69s\tremaining: 19.6s\n",
      "225:\tlearn: 0.2195719\ttotal: 5.72s\tremaining: 19.6s\n",
      "226:\tlearn: 0.2194490\ttotal: 5.74s\tremaining: 19.6s\n",
      "227:\tlearn: 0.2192776\ttotal: 5.77s\tremaining: 19.5s\n",
      "228:\tlearn: 0.2191172\ttotal: 5.79s\tremaining: 19.5s\n",
      "229:\tlearn: 0.2187673\ttotal: 5.82s\tremaining: 19.5s\n",
      "230:\tlearn: 0.2184119\ttotal: 5.84s\tremaining: 19.5s\n",
      "231:\tlearn: 0.2177340\ttotal: 5.87s\tremaining: 19.4s\n",
      "232:\tlearn: 0.2173631\ttotal: 5.9s\tremaining: 19.4s\n",
      "233:\tlearn: 0.2166423\ttotal: 5.93s\tremaining: 19.4s\n",
      "234:\tlearn: 0.2163963\ttotal: 5.95s\tremaining: 19.4s\n",
      "235:\tlearn: 0.2162184\ttotal: 5.97s\tremaining: 19.3s\n",
      "236:\tlearn: 0.2157862\ttotal: 6s\tremaining: 19.3s\n",
      "237:\tlearn: 0.2152512\ttotal: 6.03s\tremaining: 19.3s\n",
      "238:\tlearn: 0.2151667\ttotal: 6.05s\tremaining: 19.3s\n",
      "239:\tlearn: 0.2149249\ttotal: 6.08s\tremaining: 19.2s\n",
      "240:\tlearn: 0.2147201\ttotal: 6.1s\tremaining: 19.2s\n",
      "241:\tlearn: 0.2144582\ttotal: 6.12s\tremaining: 19.2s\n",
      "242:\tlearn: 0.2143277\ttotal: 6.15s\tremaining: 19.2s\n",
      "243:\tlearn: 0.2138582\ttotal: 6.17s\tremaining: 19.1s\n",
      "244:\tlearn: 0.2136538\ttotal: 6.2s\tremaining: 19.1s\n",
      "245:\tlearn: 0.2133046\ttotal: 6.22s\tremaining: 19.1s\n",
      "246:\tlearn: 0.2130217\ttotal: 6.25s\tremaining: 19s\n",
      "247:\tlearn: 0.2125377\ttotal: 6.27s\tremaining: 19s\n",
      "248:\tlearn: 0.2123343\ttotal: 6.3s\tremaining: 19s\n",
      "249:\tlearn: 0.2122201\ttotal: 6.33s\tremaining: 19s\n",
      "250:\tlearn: 0.2120735\ttotal: 6.35s\tremaining: 19s\n",
      "251:\tlearn: 0.2117487\ttotal: 6.38s\tremaining: 18.9s\n",
      "252:\tlearn: 0.2114551\ttotal: 6.4s\tremaining: 18.9s\n",
      "253:\tlearn: 0.2113454\ttotal: 6.43s\tremaining: 18.9s\n",
      "254:\tlearn: 0.2110361\ttotal: 6.45s\tremaining: 18.9s\n",
      "255:\tlearn: 0.2108707\ttotal: 6.48s\tremaining: 18.8s\n",
      "256:\tlearn: 0.2107962\ttotal: 6.5s\tremaining: 18.8s\n",
      "257:\tlearn: 0.2104771\ttotal: 6.53s\tremaining: 18.8s\n",
      "258:\tlearn: 0.2099501\ttotal: 6.55s\tremaining: 18.8s\n",
      "259:\tlearn: 0.2098473\ttotal: 6.58s\tremaining: 18.7s\n",
      "260:\tlearn: 0.2097267\ttotal: 6.6s\tremaining: 18.7s\n",
      "261:\tlearn: 0.2094011\ttotal: 6.63s\tremaining: 18.7s\n",
      "262:\tlearn: 0.2092629\ttotal: 6.66s\tremaining: 18.7s\n",
      "263:\tlearn: 0.2088561\ttotal: 6.69s\tremaining: 18.6s\n",
      "264:\tlearn: 0.2083813\ttotal: 6.71s\tremaining: 18.6s\n",
      "265:\tlearn: 0.2081922\ttotal: 6.74s\tremaining: 18.6s\n",
      "266:\tlearn: 0.2080372\ttotal: 6.76s\tremaining: 18.6s\n",
      "267:\tlearn: 0.2077041\ttotal: 6.79s\tremaining: 18.6s\n",
      "268:\tlearn: 0.2076438\ttotal: 6.82s\tremaining: 18.5s\n",
      "269:\tlearn: 0.2074045\ttotal: 6.84s\tremaining: 18.5s\n",
      "270:\tlearn: 0.2072326\ttotal: 6.87s\tremaining: 18.5s\n",
      "271:\tlearn: 0.2070831\ttotal: 6.89s\tremaining: 18.4s\n",
      "272:\tlearn: 0.2065961\ttotal: 6.92s\tremaining: 18.4s\n",
      "273:\tlearn: 0.2061692\ttotal: 6.95s\tremaining: 18.4s\n",
      "274:\tlearn: 0.2060729\ttotal: 6.97s\tremaining: 18.4s\n",
      "275:\tlearn: 0.2059419\ttotal: 6.99s\tremaining: 18.3s\n",
      "276:\tlearn: 0.2058142\ttotal: 7.02s\tremaining: 18.3s\n",
      "277:\tlearn: 0.2057285\ttotal: 7.04s\tremaining: 18.3s\n",
      "278:\tlearn: 0.2055423\ttotal: 7.07s\tremaining: 18.3s\n",
      "279:\tlearn: 0.2053079\ttotal: 7.09s\tremaining: 18.2s\n",
      "280:\tlearn: 0.2047910\ttotal: 7.12s\tremaining: 18.2s\n",
      "281:\tlearn: 0.2041109\ttotal: 7.15s\tremaining: 18.2s\n",
      "282:\tlearn: 0.2038426\ttotal: 7.19s\tremaining: 18.2s\n",
      "283:\tlearn: 0.2037748\ttotal: 7.22s\tremaining: 18.2s\n",
      "284:\tlearn: 0.2036433\ttotal: 7.25s\tremaining: 18.2s\n",
      "285:\tlearn: 0.2033426\ttotal: 7.27s\tremaining: 18.1s\n",
      "286:\tlearn: 0.2027459\ttotal: 7.29s\tremaining: 18.1s\n",
      "287:\tlearn: 0.2026625\ttotal: 7.32s\tremaining: 18.1s\n",
      "288:\tlearn: 0.2022338\ttotal: 7.34s\tremaining: 18.1s\n",
      "289:\tlearn: 0.2018205\ttotal: 7.37s\tremaining: 18s\n",
      "290:\tlearn: 0.2012689\ttotal: 7.39s\tremaining: 18s\n",
      "291:\tlearn: 0.2008382\ttotal: 7.42s\tremaining: 18s\n",
      "292:\tlearn: 0.2005029\ttotal: 7.45s\tremaining: 18s\n",
      "293:\tlearn: 0.2003587\ttotal: 7.47s\tremaining: 17.9s\n",
      "294:\tlearn: 0.2002761\ttotal: 7.5s\tremaining: 17.9s\n",
      "295:\tlearn: 0.1999701\ttotal: 7.52s\tremaining: 17.9s\n",
      "296:\tlearn: 0.1999056\ttotal: 7.54s\tremaining: 17.9s\n",
      "297:\tlearn: 0.1997728\ttotal: 7.57s\tremaining: 17.8s\n",
      "298:\tlearn: 0.1996133\ttotal: 7.6s\tremaining: 17.8s\n",
      "299:\tlearn: 0.1995267\ttotal: 7.63s\tremaining: 17.8s\n",
      "300:\tlearn: 0.1993498\ttotal: 7.65s\tremaining: 17.8s\n",
      "301:\tlearn: 0.1990725\ttotal: 7.67s\tremaining: 17.7s\n",
      "302:\tlearn: 0.1987944\ttotal: 7.7s\tremaining: 17.7s\n",
      "303:\tlearn: 0.1987027\ttotal: 7.72s\tremaining: 17.7s\n",
      "304:\tlearn: 0.1985730\ttotal: 7.75s\tremaining: 17.7s\n",
      "305:\tlearn: 0.1984555\ttotal: 7.77s\tremaining: 17.6s\n",
      "306:\tlearn: 0.1983251\ttotal: 7.8s\tremaining: 17.6s\n",
      "307:\tlearn: 0.1980061\ttotal: 7.82s\tremaining: 17.6s\n",
      "308:\tlearn: 0.1977948\ttotal: 7.85s\tremaining: 17.6s\n",
      "309:\tlearn: 0.1974205\ttotal: 7.87s\tremaining: 17.5s\n",
      "310:\tlearn: 0.1971268\ttotal: 7.9s\tremaining: 17.5s\n",
      "311:\tlearn: 0.1970390\ttotal: 7.92s\tremaining: 17.5s\n",
      "312:\tlearn: 0.1968907\ttotal: 7.95s\tremaining: 17.4s\n",
      "313:\tlearn: 0.1964344\ttotal: 7.97s\tremaining: 17.4s\n",
      "314:\tlearn: 0.1963211\ttotal: 8s\tremaining: 17.4s\n",
      "315:\tlearn: 0.1962536\ttotal: 8.02s\tremaining: 17.4s\n",
      "316:\tlearn: 0.1961745\ttotal: 8.05s\tremaining: 17.3s\n",
      "317:\tlearn: 0.1959260\ttotal: 8.08s\tremaining: 17.3s\n",
      "318:\tlearn: 0.1954200\ttotal: 8.1s\tremaining: 17.3s\n",
      "319:\tlearn: 0.1953328\ttotal: 8.13s\tremaining: 17.3s\n",
      "320:\tlearn: 0.1952049\ttotal: 8.15s\tremaining: 17.3s\n",
      "321:\tlearn: 0.1950977\ttotal: 8.18s\tremaining: 17.2s\n",
      "322:\tlearn: 0.1949337\ttotal: 8.21s\tremaining: 17.2s\n",
      "323:\tlearn: 0.1946661\ttotal: 8.23s\tremaining: 17.2s\n",
      "324:\tlearn: 0.1946004\ttotal: 8.26s\tremaining: 17.2s\n",
      "325:\tlearn: 0.1944939\ttotal: 8.29s\tremaining: 17.1s\n",
      "326:\tlearn: 0.1939494\ttotal: 8.31s\tremaining: 17.1s\n",
      "327:\tlearn: 0.1937357\ttotal: 8.34s\tremaining: 17.1s\n",
      "328:\tlearn: 0.1934870\ttotal: 8.36s\tremaining: 17.1s\n",
      "329:\tlearn: 0.1933512\ttotal: 8.38s\tremaining: 17s\n",
      "330:\tlearn: 0.1928996\ttotal: 8.41s\tremaining: 17s\n",
      "331:\tlearn: 0.1926165\ttotal: 8.44s\tremaining: 17s\n",
      "332:\tlearn: 0.1924280\ttotal: 8.46s\tremaining: 16.9s\n",
      "333:\tlearn: 0.1923437\ttotal: 8.49s\tremaining: 16.9s\n",
      "334:\tlearn: 0.1919024\ttotal: 8.52s\tremaining: 16.9s\n",
      "335:\tlearn: 0.1916620\ttotal: 8.55s\tremaining: 16.9s\n",
      "336:\tlearn: 0.1913817\ttotal: 8.57s\tremaining: 16.9s\n",
      "337:\tlearn: 0.1910793\ttotal: 8.6s\tremaining: 16.8s\n",
      "338:\tlearn: 0.1909301\ttotal: 8.62s\tremaining: 16.8s\n",
      "339:\tlearn: 0.1908607\ttotal: 8.65s\tremaining: 16.8s\n",
      "340:\tlearn: 0.1907390\ttotal: 8.68s\tremaining: 16.8s\n",
      "341:\tlearn: 0.1905506\ttotal: 8.7s\tremaining: 16.7s\n",
      "342:\tlearn: 0.1904939\ttotal: 8.72s\tremaining: 16.7s\n",
      "343:\tlearn: 0.1904204\ttotal: 8.75s\tremaining: 16.7s\n",
      "344:\tlearn: 0.1903320\ttotal: 8.78s\tremaining: 16.7s\n",
      "345:\tlearn: 0.1901134\ttotal: 8.8s\tremaining: 16.6s\n",
      "346:\tlearn: 0.1899954\ttotal: 8.82s\tremaining: 16.6s\n",
      "347:\tlearn: 0.1898808\ttotal: 8.85s\tremaining: 16.6s\n",
      "348:\tlearn: 0.1895910\ttotal: 8.87s\tremaining: 16.5s\n",
      "349:\tlearn: 0.1893579\ttotal: 8.9s\tremaining: 16.5s\n",
      "350:\tlearn: 0.1891338\ttotal: 8.93s\tremaining: 16.5s\n",
      "351:\tlearn: 0.1890338\ttotal: 8.95s\tremaining: 16.5s\n",
      "352:\tlearn: 0.1888039\ttotal: 8.97s\tremaining: 16.4s\n",
      "353:\tlearn: 0.1881712\ttotal: 9s\tremaining: 16.4s\n",
      "354:\tlearn: 0.1881149\ttotal: 9.02s\tremaining: 16.4s\n",
      "355:\tlearn: 0.1879022\ttotal: 9.05s\tremaining: 16.4s\n",
      "356:\tlearn: 0.1878426\ttotal: 9.08s\tremaining: 16.4s\n",
      "357:\tlearn: 0.1876554\ttotal: 9.11s\tremaining: 16.3s\n",
      "358:\tlearn: 0.1875786\ttotal: 9.15s\tremaining: 16.3s\n",
      "359:\tlearn: 0.1874798\ttotal: 9.17s\tremaining: 16.3s\n",
      "360:\tlearn: 0.1872933\ttotal: 9.2s\tremaining: 16.3s\n",
      "361:\tlearn: 0.1872210\ttotal: 9.23s\tremaining: 16.3s\n",
      "362:\tlearn: 0.1870293\ttotal: 9.25s\tremaining: 16.2s\n",
      "363:\tlearn: 0.1868851\ttotal: 9.28s\tremaining: 16.2s\n",
      "364:\tlearn: 0.1868288\ttotal: 9.31s\tremaining: 16.2s\n",
      "365:\tlearn: 0.1865461\ttotal: 9.33s\tremaining: 16.2s\n",
      "366:\tlearn: 0.1864341\ttotal: 9.36s\tremaining: 16.1s\n",
      "367:\tlearn: 0.1862406\ttotal: 9.38s\tremaining: 16.1s\n",
      "368:\tlearn: 0.1861678\ttotal: 9.41s\tremaining: 16.1s\n",
      "369:\tlearn: 0.1861050\ttotal: 9.43s\tremaining: 16.1s\n",
      "370:\tlearn: 0.1859692\ttotal: 9.46s\tremaining: 16s\n",
      "371:\tlearn: 0.1858476\ttotal: 9.48s\tremaining: 16s\n",
      "372:\tlearn: 0.1856603\ttotal: 9.51s\tremaining: 16s\n",
      "373:\tlearn: 0.1855840\ttotal: 9.53s\tremaining: 16s\n",
      "374:\tlearn: 0.1855298\ttotal: 9.56s\tremaining: 15.9s\n",
      "375:\tlearn: 0.1851306\ttotal: 9.59s\tremaining: 15.9s\n",
      "376:\tlearn: 0.1847701\ttotal: 9.62s\tremaining: 15.9s\n",
      "377:\tlearn: 0.1845263\ttotal: 9.64s\tremaining: 15.9s\n",
      "378:\tlearn: 0.1839713\ttotal: 9.67s\tremaining: 15.8s\n",
      "379:\tlearn: 0.1838871\ttotal: 9.72s\tremaining: 15.9s\n",
      "380:\tlearn: 0.1835395\ttotal: 9.77s\tremaining: 15.9s\n",
      "381:\tlearn: 0.1834715\ttotal: 9.8s\tremaining: 15.9s\n",
      "382:\tlearn: 0.1834054\ttotal: 9.83s\tremaining: 15.8s\n",
      "383:\tlearn: 0.1833083\ttotal: 9.86s\tremaining: 15.8s\n",
      "384:\tlearn: 0.1832164\ttotal: 9.88s\tremaining: 15.8s\n",
      "385:\tlearn: 0.1831390\ttotal: 9.91s\tremaining: 15.8s\n",
      "386:\tlearn: 0.1827549\ttotal: 9.94s\tremaining: 15.7s\n",
      "387:\tlearn: 0.1826683\ttotal: 9.96s\tremaining: 15.7s\n",
      "388:\tlearn: 0.1824703\ttotal: 9.98s\tremaining: 15.7s\n",
      "389:\tlearn: 0.1821147\ttotal: 10s\tremaining: 15.7s\n",
      "390:\tlearn: 0.1820178\ttotal: 10s\tremaining: 15.6s\n",
      "391:\tlearn: 0.1819162\ttotal: 10.1s\tremaining: 15.6s\n",
      "392:\tlearn: 0.1815435\ttotal: 10.1s\tremaining: 15.6s\n",
      "393:\tlearn: 0.1811012\ttotal: 10.1s\tremaining: 15.5s\n",
      "394:\tlearn: 0.1809236\ttotal: 10.1s\tremaining: 15.5s\n",
      "395:\tlearn: 0.1808335\ttotal: 10.2s\tremaining: 15.5s\n",
      "396:\tlearn: 0.1807538\ttotal: 10.2s\tremaining: 15.5s\n",
      "397:\tlearn: 0.1805811\ttotal: 10.2s\tremaining: 15.4s\n",
      "398:\tlearn: 0.1805335\ttotal: 10.2s\tremaining: 15.4s\n",
      "399:\tlearn: 0.1802155\ttotal: 10.3s\tremaining: 15.4s\n",
      "400:\tlearn: 0.1800080\ttotal: 10.3s\tremaining: 15.4s\n",
      "401:\tlearn: 0.1797647\ttotal: 10.3s\tremaining: 15.3s\n",
      "402:\tlearn: 0.1796935\ttotal: 10.3s\tremaining: 15.3s\n",
      "403:\tlearn: 0.1796214\ttotal: 10.4s\tremaining: 15.3s\n",
      "404:\tlearn: 0.1794981\ttotal: 10.4s\tremaining: 15.3s\n",
      "405:\tlearn: 0.1793189\ttotal: 10.4s\tremaining: 15.2s\n",
      "406:\tlearn: 0.1792607\ttotal: 10.4s\tremaining: 15.2s\n",
      "407:\tlearn: 0.1789703\ttotal: 10.5s\tremaining: 15.2s\n",
      "408:\tlearn: 0.1789264\ttotal: 10.5s\tremaining: 15.2s\n",
      "409:\tlearn: 0.1787139\ttotal: 10.5s\tremaining: 15.1s\n",
      "410:\tlearn: 0.1786498\ttotal: 10.6s\tremaining: 15.1s\n",
      "411:\tlearn: 0.1784717\ttotal: 10.6s\tremaining: 15.1s\n",
      "412:\tlearn: 0.1782713\ttotal: 10.6s\tremaining: 15.1s\n",
      "413:\tlearn: 0.1781186\ttotal: 10.6s\tremaining: 15s\n",
      "414:\tlearn: 0.1780381\ttotal: 10.6s\tremaining: 15s\n",
      "415:\tlearn: 0.1778658\ttotal: 10.7s\tremaining: 15s\n",
      "416:\tlearn: 0.1777879\ttotal: 10.7s\tremaining: 15s\n",
      "417:\tlearn: 0.1777415\ttotal: 10.7s\tremaining: 14.9s\n",
      "418:\tlearn: 0.1774827\ttotal: 10.8s\tremaining: 14.9s\n",
      "419:\tlearn: 0.1773515\ttotal: 10.8s\tremaining: 14.9s\n",
      "420:\tlearn: 0.1772412\ttotal: 10.8s\tremaining: 14.9s\n",
      "421:\tlearn: 0.1770868\ttotal: 10.8s\tremaining: 14.8s\n",
      "422:\tlearn: 0.1764912\ttotal: 10.8s\tremaining: 14.8s\n",
      "423:\tlearn: 0.1764252\ttotal: 10.9s\tremaining: 14.8s\n",
      "424:\tlearn: 0.1762649\ttotal: 10.9s\tremaining: 14.7s\n",
      "425:\tlearn: 0.1761752\ttotal: 10.9s\tremaining: 14.7s\n",
      "426:\tlearn: 0.1760144\ttotal: 10.9s\tremaining: 14.7s\n",
      "427:\tlearn: 0.1759560\ttotal: 11s\tremaining: 14.7s\n",
      "428:\tlearn: 0.1759036\ttotal: 11s\tremaining: 14.6s\n",
      "429:\tlearn: 0.1758431\ttotal: 11s\tremaining: 14.6s\n",
      "430:\tlearn: 0.1757844\ttotal: 11s\tremaining: 14.6s\n",
      "431:\tlearn: 0.1757113\ttotal: 11.1s\tremaining: 14.5s\n",
      "432:\tlearn: 0.1756693\ttotal: 11.1s\tremaining: 14.5s\n",
      "433:\tlearn: 0.1755545\ttotal: 11.1s\tremaining: 14.5s\n",
      "434:\tlearn: 0.1753827\ttotal: 11.1s\tremaining: 14.5s\n",
      "435:\tlearn: 0.1751435\ttotal: 11.1s\tremaining: 14.4s\n",
      "436:\tlearn: 0.1746063\ttotal: 11.2s\tremaining: 14.4s\n",
      "437:\tlearn: 0.1745261\ttotal: 11.2s\tremaining: 14.4s\n",
      "438:\tlearn: 0.1743999\ttotal: 11.2s\tremaining: 14.3s\n",
      "439:\tlearn: 0.1740137\ttotal: 11.3s\tremaining: 14.3s\n",
      "440:\tlearn: 0.1737378\ttotal: 11.3s\tremaining: 14.3s\n",
      "441:\tlearn: 0.1736885\ttotal: 11.3s\tremaining: 14.3s\n",
      "442:\tlearn: 0.1736531\ttotal: 11.3s\tremaining: 14.2s\n",
      "443:\tlearn: 0.1732771\ttotal: 11.3s\tremaining: 14.2s\n",
      "444:\tlearn: 0.1730185\ttotal: 11.4s\tremaining: 14.2s\n",
      "445:\tlearn: 0.1729411\ttotal: 11.4s\tremaining: 14.2s\n",
      "446:\tlearn: 0.1727621\ttotal: 11.4s\tremaining: 14.1s\n",
      "447:\tlearn: 0.1727236\ttotal: 11.4s\tremaining: 14.1s\n",
      "448:\tlearn: 0.1725869\ttotal: 11.5s\tremaining: 14.1s\n",
      "449:\tlearn: 0.1724590\ttotal: 11.5s\tremaining: 14s\n",
      "450:\tlearn: 0.1722594\ttotal: 11.5s\tremaining: 14s\n",
      "451:\tlearn: 0.1720898\ttotal: 11.5s\tremaining: 14s\n",
      "452:\tlearn: 0.1720421\ttotal: 11.6s\tremaining: 14s\n",
      "453:\tlearn: 0.1720072\ttotal: 11.6s\tremaining: 13.9s\n",
      "454:\tlearn: 0.1719117\ttotal: 11.6s\tremaining: 13.9s\n",
      "455:\tlearn: 0.1716141\ttotal: 11.6s\tremaining: 13.9s\n",
      "456:\tlearn: 0.1714731\ttotal: 11.7s\tremaining: 13.9s\n",
      "457:\tlearn: 0.1713194\ttotal: 11.7s\tremaining: 13.8s\n",
      "458:\tlearn: 0.1712561\ttotal: 11.7s\tremaining: 13.8s\n",
      "459:\tlearn: 0.1711699\ttotal: 11.7s\tremaining: 13.8s\n",
      "460:\tlearn: 0.1710764\ttotal: 11.8s\tremaining: 13.8s\n",
      "461:\tlearn: 0.1710179\ttotal: 11.8s\tremaining: 13.7s\n",
      "462:\tlearn: 0.1709746\ttotal: 11.8s\tremaining: 13.7s\n",
      "463:\tlearn: 0.1708027\ttotal: 11.8s\tremaining: 13.7s\n",
      "464:\tlearn: 0.1702231\ttotal: 11.9s\tremaining: 13.7s\n",
      "465:\tlearn: 0.1700106\ttotal: 11.9s\tremaining: 13.6s\n",
      "466:\tlearn: 0.1698915\ttotal: 11.9s\tremaining: 13.6s\n",
      "467:\tlearn: 0.1698256\ttotal: 11.9s\tremaining: 13.6s\n",
      "468:\tlearn: 0.1697634\ttotal: 12s\tremaining: 13.6s\n",
      "469:\tlearn: 0.1695632\ttotal: 12s\tremaining: 13.5s\n",
      "470:\tlearn: 0.1694889\ttotal: 12s\tremaining: 13.5s\n",
      "471:\tlearn: 0.1693509\ttotal: 12s\tremaining: 13.5s\n",
      "472:\tlearn: 0.1691078\ttotal: 12.1s\tremaining: 13.4s\n",
      "473:\tlearn: 0.1689329\ttotal: 12.1s\tremaining: 13.4s\n",
      "474:\tlearn: 0.1688081\ttotal: 12.1s\tremaining: 13.4s\n",
      "475:\tlearn: 0.1686973\ttotal: 12.1s\tremaining: 13.4s\n",
      "476:\tlearn: 0.1686255\ttotal: 12.2s\tremaining: 13.3s\n",
      "477:\tlearn: 0.1685770\ttotal: 12.2s\tremaining: 13.3s\n",
      "478:\tlearn: 0.1684574\ttotal: 12.2s\tremaining: 13.3s\n",
      "479:\tlearn: 0.1683971\ttotal: 12.2s\tremaining: 13.2s\n",
      "480:\tlearn: 0.1683431\ttotal: 12.3s\tremaining: 13.2s\n",
      "481:\tlearn: 0.1681396\ttotal: 12.3s\tremaining: 13.2s\n",
      "482:\tlearn: 0.1680080\ttotal: 12.3s\tremaining: 13.2s\n",
      "483:\tlearn: 0.1676620\ttotal: 12.3s\tremaining: 13.1s\n",
      "484:\tlearn: 0.1674469\ttotal: 12.4s\tremaining: 13.1s\n",
      "485:\tlearn: 0.1672644\ttotal: 12.4s\tremaining: 13.1s\n",
      "486:\tlearn: 0.1670433\ttotal: 12.4s\tremaining: 13.1s\n",
      "487:\tlearn: 0.1668235\ttotal: 12.4s\tremaining: 13s\n",
      "488:\tlearn: 0.1667474\ttotal: 12.5s\tremaining: 13s\n",
      "489:\tlearn: 0.1665640\ttotal: 12.5s\tremaining: 13s\n",
      "490:\tlearn: 0.1664348\ttotal: 12.5s\tremaining: 13s\n",
      "491:\tlearn: 0.1663528\ttotal: 12.5s\tremaining: 12.9s\n",
      "492:\tlearn: 0.1661784\ttotal: 12.6s\tremaining: 12.9s\n",
      "493:\tlearn: 0.1660652\ttotal: 12.6s\tremaining: 12.9s\n",
      "494:\tlearn: 0.1660273\ttotal: 12.6s\tremaining: 12.9s\n",
      "495:\tlearn: 0.1659765\ttotal: 12.6s\tremaining: 12.8s\n",
      "496:\tlearn: 0.1657648\ttotal: 12.6s\tremaining: 12.8s\n",
      "497:\tlearn: 0.1655466\ttotal: 12.7s\tremaining: 12.8s\n",
      "498:\tlearn: 0.1654756\ttotal: 12.7s\tremaining: 12.7s\n",
      "499:\tlearn: 0.1653713\ttotal: 12.7s\tremaining: 12.7s\n",
      "500:\tlearn: 0.1651833\ttotal: 12.7s\tremaining: 12.7s\n",
      "501:\tlearn: 0.1649960\ttotal: 12.8s\tremaining: 12.7s\n",
      "502:\tlearn: 0.1648804\ttotal: 12.8s\tremaining: 12.7s\n",
      "503:\tlearn: 0.1646830\ttotal: 12.8s\tremaining: 12.6s\n",
      "504:\tlearn: 0.1645162\ttotal: 12.9s\tremaining: 12.6s\n",
      "505:\tlearn: 0.1644242\ttotal: 12.9s\tremaining: 12.6s\n",
      "506:\tlearn: 0.1642907\ttotal: 12.9s\tremaining: 12.6s\n",
      "507:\tlearn: 0.1641198\ttotal: 12.9s\tremaining: 12.5s\n",
      "508:\tlearn: 0.1638900\ttotal: 13s\tremaining: 12.5s\n",
      "509:\tlearn: 0.1637339\ttotal: 13s\tremaining: 12.5s\n",
      "510:\tlearn: 0.1636060\ttotal: 13s\tremaining: 12.5s\n",
      "511:\tlearn: 0.1634323\ttotal: 13s\tremaining: 12.4s\n",
      "512:\tlearn: 0.1633774\ttotal: 13.1s\tremaining: 12.4s\n",
      "513:\tlearn: 0.1631802\ttotal: 13.1s\tremaining: 12.4s\n",
      "514:\tlearn: 0.1630476\ttotal: 13.1s\tremaining: 12.4s\n",
      "515:\tlearn: 0.1629605\ttotal: 13.1s\tremaining: 12.3s\n",
      "516:\tlearn: 0.1628176\ttotal: 13.2s\tremaining: 12.3s\n",
      "517:\tlearn: 0.1626277\ttotal: 13.2s\tremaining: 12.3s\n",
      "518:\tlearn: 0.1625153\ttotal: 13.2s\tremaining: 12.3s\n",
      "519:\tlearn: 0.1624212\ttotal: 13.2s\tremaining: 12.2s\n",
      "520:\tlearn: 0.1622594\ttotal: 13.3s\tremaining: 12.2s\n",
      "521:\tlearn: 0.1622031\ttotal: 13.3s\tremaining: 12.2s\n",
      "522:\tlearn: 0.1620929\ttotal: 13.3s\tremaining: 12.1s\n",
      "523:\tlearn: 0.1620282\ttotal: 13.3s\tremaining: 12.1s\n",
      "524:\tlearn: 0.1619762\ttotal: 13.4s\tremaining: 12.1s\n",
      "525:\tlearn: 0.1619425\ttotal: 13.4s\tremaining: 12.1s\n",
      "526:\tlearn: 0.1618934\ttotal: 13.4s\tremaining: 12s\n",
      "527:\tlearn: 0.1618414\ttotal: 13.4s\tremaining: 12s\n",
      "528:\tlearn: 0.1617885\ttotal: 13.5s\tremaining: 12s\n",
      "529:\tlearn: 0.1617251\ttotal: 13.5s\tremaining: 12s\n",
      "530:\tlearn: 0.1616343\ttotal: 13.5s\tremaining: 11.9s\n",
      "531:\tlearn: 0.1615465\ttotal: 13.5s\tremaining: 11.9s\n",
      "532:\tlearn: 0.1613829\ttotal: 13.6s\tremaining: 11.9s\n",
      "533:\tlearn: 0.1612169\ttotal: 13.6s\tremaining: 11.8s\n",
      "534:\tlearn: 0.1610622\ttotal: 13.6s\tremaining: 11.8s\n",
      "535:\tlearn: 0.1610079\ttotal: 13.6s\tremaining: 11.8s\n",
      "536:\tlearn: 0.1609665\ttotal: 13.6s\tremaining: 11.8s\n",
      "537:\tlearn: 0.1609026\ttotal: 13.7s\tremaining: 11.7s\n",
      "538:\tlearn: 0.1608631\ttotal: 13.7s\tremaining: 11.7s\n",
      "539:\tlearn: 0.1606736\ttotal: 13.7s\tremaining: 11.7s\n",
      "540:\tlearn: 0.1606118\ttotal: 13.7s\tremaining: 11.7s\n",
      "541:\tlearn: 0.1604651\ttotal: 13.8s\tremaining: 11.6s\n",
      "542:\tlearn: 0.1603965\ttotal: 13.8s\tremaining: 11.6s\n",
      "543:\tlearn: 0.1603646\ttotal: 13.8s\tremaining: 11.6s\n",
      "544:\tlearn: 0.1602601\ttotal: 13.9s\tremaining: 11.6s\n",
      "545:\tlearn: 0.1602116\ttotal: 13.9s\tremaining: 11.5s\n",
      "546:\tlearn: 0.1600854\ttotal: 13.9s\tremaining: 11.5s\n",
      "547:\tlearn: 0.1600498\ttotal: 13.9s\tremaining: 11.5s\n",
      "548:\tlearn: 0.1599022\ttotal: 14s\tremaining: 11.5s\n",
      "549:\tlearn: 0.1598311\ttotal: 14s\tremaining: 11.4s\n",
      "550:\tlearn: 0.1597885\ttotal: 14s\tremaining: 11.4s\n",
      "551:\tlearn: 0.1597529\ttotal: 14s\tremaining: 11.4s\n",
      "552:\tlearn: 0.1597144\ttotal: 14.1s\tremaining: 11.4s\n",
      "553:\tlearn: 0.1596739\ttotal: 14.1s\tremaining: 11.3s\n",
      "554:\tlearn: 0.1595213\ttotal: 14.1s\tremaining: 11.3s\n",
      "555:\tlearn: 0.1594774\ttotal: 14.1s\tremaining: 11.3s\n",
      "556:\tlearn: 0.1594141\ttotal: 14.1s\tremaining: 11.2s\n",
      "557:\tlearn: 0.1592208\ttotal: 14.2s\tremaining: 11.2s\n",
      "558:\tlearn: 0.1591745\ttotal: 14.2s\tremaining: 11.2s\n",
      "559:\tlearn: 0.1590465\ttotal: 14.2s\tremaining: 11.2s\n",
      "560:\tlearn: 0.1590164\ttotal: 14.2s\tremaining: 11.1s\n",
      "561:\tlearn: 0.1588392\ttotal: 14.3s\tremaining: 11.1s\n",
      "562:\tlearn: 0.1588030\ttotal: 14.3s\tremaining: 11.1s\n",
      "563:\tlearn: 0.1587139\ttotal: 14.3s\tremaining: 11.1s\n",
      "564:\tlearn: 0.1586376\ttotal: 14.3s\tremaining: 11s\n",
      "565:\tlearn: 0.1585832\ttotal: 14.4s\tremaining: 11s\n",
      "566:\tlearn: 0.1584844\ttotal: 14.4s\tremaining: 11s\n",
      "567:\tlearn: 0.1583336\ttotal: 14.4s\tremaining: 11s\n",
      "568:\tlearn: 0.1582711\ttotal: 14.4s\tremaining: 10.9s\n",
      "569:\tlearn: 0.1581099\ttotal: 14.5s\tremaining: 10.9s\n",
      "570:\tlearn: 0.1580147\ttotal: 14.5s\tremaining: 10.9s\n",
      "571:\tlearn: 0.1579844\ttotal: 14.5s\tremaining: 10.9s\n",
      "572:\tlearn: 0.1579201\ttotal: 14.5s\tremaining: 10.8s\n",
      "573:\tlearn: 0.1578296\ttotal: 14.6s\tremaining: 10.8s\n",
      "574:\tlearn: 0.1577468\ttotal: 14.6s\tremaining: 10.8s\n",
      "575:\tlearn: 0.1576715\ttotal: 14.6s\tremaining: 10.7s\n",
      "576:\tlearn: 0.1575093\ttotal: 14.6s\tremaining: 10.7s\n",
      "577:\tlearn: 0.1574589\ttotal: 14.6s\tremaining: 10.7s\n",
      "578:\tlearn: 0.1573834\ttotal: 14.7s\tremaining: 10.7s\n",
      "579:\tlearn: 0.1572704\ttotal: 14.7s\tremaining: 10.6s\n",
      "580:\tlearn: 0.1570752\ttotal: 14.7s\tremaining: 10.6s\n",
      "581:\tlearn: 0.1569662\ttotal: 14.7s\tremaining: 10.6s\n",
      "582:\tlearn: 0.1569339\ttotal: 14.8s\tremaining: 10.6s\n",
      "583:\tlearn: 0.1568893\ttotal: 14.8s\tremaining: 10.5s\n",
      "584:\tlearn: 0.1567873\ttotal: 14.8s\tremaining: 10.5s\n",
      "585:\tlearn: 0.1567431\ttotal: 14.8s\tremaining: 10.5s\n",
      "586:\tlearn: 0.1565805\ttotal: 14.9s\tremaining: 10.5s\n",
      "587:\tlearn: 0.1565397\ttotal: 14.9s\tremaining: 10.4s\n",
      "588:\tlearn: 0.1564959\ttotal: 14.9s\tremaining: 10.4s\n",
      "589:\tlearn: 0.1564406\ttotal: 14.9s\tremaining: 10.4s\n",
      "590:\tlearn: 0.1563906\ttotal: 15s\tremaining: 10.4s\n",
      "591:\tlearn: 0.1563570\ttotal: 15s\tremaining: 10.3s\n",
      "592:\tlearn: 0.1563228\ttotal: 15s\tremaining: 10.3s\n",
      "593:\tlearn: 0.1562792\ttotal: 15s\tremaining: 10.3s\n",
      "594:\tlearn: 0.1561173\ttotal: 15.1s\tremaining: 10.2s\n",
      "595:\tlearn: 0.1560077\ttotal: 15.1s\tremaining: 10.2s\n",
      "596:\tlearn: 0.1559152\ttotal: 15.1s\tremaining: 10.2s\n",
      "597:\tlearn: 0.1556429\ttotal: 15.1s\tremaining: 10.2s\n",
      "598:\tlearn: 0.1556128\ttotal: 15.2s\tremaining: 10.1s\n",
      "599:\tlearn: 0.1555804\ttotal: 15.2s\tremaining: 10.1s\n",
      "600:\tlearn: 0.1554468\ttotal: 15.2s\tremaining: 10.1s\n",
      "601:\tlearn: 0.1553679\ttotal: 15.2s\tremaining: 10.1s\n",
      "602:\tlearn: 0.1553288\ttotal: 15.3s\tremaining: 10s\n",
      "603:\tlearn: 0.1552544\ttotal: 15.3s\tremaining: 10s\n",
      "604:\tlearn: 0.1551870\ttotal: 15.3s\tremaining: 9.99s\n",
      "605:\tlearn: 0.1551253\ttotal: 15.3s\tremaining: 9.96s\n",
      "606:\tlearn: 0.1550443\ttotal: 15.3s\tremaining: 9.93s\n",
      "607:\tlearn: 0.1550140\ttotal: 15.4s\tremaining: 9.9s\n",
      "608:\tlearn: 0.1548379\ttotal: 15.4s\tremaining: 9.88s\n",
      "609:\tlearn: 0.1546018\ttotal: 15.4s\tremaining: 9.85s\n",
      "610:\tlearn: 0.1544360\ttotal: 15.4s\tremaining: 9.82s\n",
      "611:\tlearn: 0.1543802\ttotal: 15.5s\tremaining: 9.8s\n",
      "612:\tlearn: 0.1543476\ttotal: 15.5s\tremaining: 9.77s\n",
      "613:\tlearn: 0.1542739\ttotal: 15.5s\tremaining: 9.75s\n",
      "614:\tlearn: 0.1540772\ttotal: 15.5s\tremaining: 9.72s\n",
      "615:\tlearn: 0.1538379\ttotal: 15.6s\tremaining: 9.7s\n",
      "616:\tlearn: 0.1537474\ttotal: 15.6s\tremaining: 9.67s\n",
      "617:\tlearn: 0.1536558\ttotal: 15.6s\tremaining: 9.64s\n",
      "618:\tlearn: 0.1536013\ttotal: 15.6s\tremaining: 9.62s\n",
      "619:\tlearn: 0.1534726\ttotal: 15.6s\tremaining: 9.59s\n",
      "620:\tlearn: 0.1533460\ttotal: 15.7s\tremaining: 9.56s\n",
      "621:\tlearn: 0.1532577\ttotal: 15.7s\tremaining: 9.54s\n",
      "622:\tlearn: 0.1532237\ttotal: 15.7s\tremaining: 9.51s\n",
      "623:\tlearn: 0.1531730\ttotal: 15.7s\tremaining: 9.48s\n",
      "624:\tlearn: 0.1529860\ttotal: 15.8s\tremaining: 9.46s\n",
      "625:\tlearn: 0.1529396\ttotal: 15.8s\tremaining: 9.43s\n",
      "626:\tlearn: 0.1528972\ttotal: 15.8s\tremaining: 9.4s\n",
      "627:\tlearn: 0.1528322\ttotal: 15.8s\tremaining: 9.37s\n",
      "628:\tlearn: 0.1525061\ttotal: 15.8s\tremaining: 9.35s\n",
      "629:\tlearn: 0.1522954\ttotal: 15.9s\tremaining: 9.32s\n",
      "630:\tlearn: 0.1521091\ttotal: 15.9s\tremaining: 9.3s\n",
      "631:\tlearn: 0.1519558\ttotal: 15.9s\tremaining: 9.27s\n",
      "632:\tlearn: 0.1517901\ttotal: 15.9s\tremaining: 9.25s\n",
      "633:\tlearn: 0.1516717\ttotal: 16s\tremaining: 9.22s\n",
      "634:\tlearn: 0.1516581\ttotal: 16s\tremaining: 9.2s\n",
      "635:\tlearn: 0.1516244\ttotal: 16s\tremaining: 9.17s\n",
      "636:\tlearn: 0.1514651\ttotal: 16s\tremaining: 9.14s\n",
      "637:\tlearn: 0.1513283\ttotal: 16.1s\tremaining: 9.12s\n",
      "638:\tlearn: 0.1510734\ttotal: 16.1s\tremaining: 9.09s\n",
      "639:\tlearn: 0.1509636\ttotal: 16.1s\tremaining: 9.07s\n",
      "640:\tlearn: 0.1508748\ttotal: 16.1s\tremaining: 9.04s\n",
      "641:\tlearn: 0.1508219\ttotal: 16.2s\tremaining: 9.02s\n",
      "642:\tlearn: 0.1506183\ttotal: 16.2s\tremaining: 8.99s\n",
      "643:\tlearn: 0.1505768\ttotal: 16.2s\tremaining: 8.96s\n",
      "644:\tlearn: 0.1505063\ttotal: 16.2s\tremaining: 8.94s\n",
      "645:\tlearn: 0.1503980\ttotal: 16.3s\tremaining: 8.91s\n",
      "646:\tlearn: 0.1503175\ttotal: 16.3s\tremaining: 8.88s\n",
      "647:\tlearn: 0.1502230\ttotal: 16.3s\tremaining: 8.86s\n",
      "648:\tlearn: 0.1501918\ttotal: 16.3s\tremaining: 8.83s\n",
      "649:\tlearn: 0.1500408\ttotal: 16.4s\tremaining: 8.81s\n",
      "650:\tlearn: 0.1499997\ttotal: 16.4s\tremaining: 8.78s\n",
      "651:\tlearn: 0.1498943\ttotal: 16.4s\tremaining: 8.76s\n",
      "652:\tlearn: 0.1498615\ttotal: 16.4s\tremaining: 8.73s\n",
      "653:\tlearn: 0.1497413\ttotal: 16.5s\tremaining: 8.7s\n",
      "654:\tlearn: 0.1496223\ttotal: 16.5s\tremaining: 8.68s\n",
      "655:\tlearn: 0.1494981\ttotal: 16.5s\tremaining: 8.65s\n",
      "656:\tlearn: 0.1494631\ttotal: 16.5s\tremaining: 8.63s\n",
      "657:\tlearn: 0.1494213\ttotal: 16.5s\tremaining: 8.6s\n",
      "658:\tlearn: 0.1493844\ttotal: 16.6s\tremaining: 8.57s\n",
      "659:\tlearn: 0.1493183\ttotal: 16.6s\tremaining: 8.55s\n",
      "660:\tlearn: 0.1492126\ttotal: 16.6s\tremaining: 8.52s\n",
      "661:\tlearn: 0.1491367\ttotal: 16.6s\tremaining: 8.5s\n",
      "662:\tlearn: 0.1490172\ttotal: 16.7s\tremaining: 8.47s\n",
      "663:\tlearn: 0.1489297\ttotal: 16.7s\tremaining: 8.45s\n",
      "664:\tlearn: 0.1487840\ttotal: 16.7s\tremaining: 8.42s\n",
      "665:\tlearn: 0.1487526\ttotal: 16.7s\tremaining: 8.39s\n",
      "666:\tlearn: 0.1487222\ttotal: 16.8s\tremaining: 8.37s\n",
      "667:\tlearn: 0.1485456\ttotal: 16.8s\tremaining: 8.34s\n",
      "668:\tlearn: 0.1484898\ttotal: 16.8s\tremaining: 8.31s\n",
      "669:\tlearn: 0.1483646\ttotal: 16.8s\tremaining: 8.29s\n",
      "670:\tlearn: 0.1482873\ttotal: 16.8s\tremaining: 8.26s\n",
      "671:\tlearn: 0.1482696\ttotal: 16.9s\tremaining: 8.23s\n",
      "672:\tlearn: 0.1482157\ttotal: 16.9s\tremaining: 8.21s\n",
      "673:\tlearn: 0.1481450\ttotal: 16.9s\tremaining: 8.18s\n",
      "674:\tlearn: 0.1479425\ttotal: 16.9s\tremaining: 8.15s\n",
      "675:\tlearn: 0.1478564\ttotal: 17s\tremaining: 8.13s\n",
      "676:\tlearn: 0.1478065\ttotal: 17s\tremaining: 8.1s\n",
      "677:\tlearn: 0.1477604\ttotal: 17s\tremaining: 8.07s\n",
      "678:\tlearn: 0.1477267\ttotal: 17s\tremaining: 8.05s\n",
      "679:\tlearn: 0.1476363\ttotal: 17s\tremaining: 8.02s\n",
      "680:\tlearn: 0.1476123\ttotal: 17.1s\tremaining: 8s\n",
      "681:\tlearn: 0.1475823\ttotal: 17.1s\tremaining: 7.97s\n",
      "682:\tlearn: 0.1474898\ttotal: 17.1s\tremaining: 7.94s\n",
      "683:\tlearn: 0.1474646\ttotal: 17.1s\tremaining: 7.92s\n",
      "684:\tlearn: 0.1474315\ttotal: 17.2s\tremaining: 7.89s\n",
      "685:\tlearn: 0.1473538\ttotal: 17.2s\tremaining: 7.87s\n",
      "686:\tlearn: 0.1473049\ttotal: 17.2s\tremaining: 7.84s\n",
      "687:\tlearn: 0.1471654\ttotal: 17.2s\tremaining: 7.82s\n",
      "688:\tlearn: 0.1471063\ttotal: 17.3s\tremaining: 7.79s\n",
      "689:\tlearn: 0.1470590\ttotal: 17.3s\tremaining: 7.77s\n",
      "690:\tlearn: 0.1469900\ttotal: 17.3s\tremaining: 7.74s\n",
      "691:\tlearn: 0.1469573\ttotal: 17.3s\tremaining: 7.72s\n",
      "692:\tlearn: 0.1465611\ttotal: 17.4s\tremaining: 7.69s\n",
      "693:\tlearn: 0.1464983\ttotal: 17.4s\tremaining: 7.67s\n",
      "694:\tlearn: 0.1463757\ttotal: 17.4s\tremaining: 7.64s\n",
      "695:\tlearn: 0.1463448\ttotal: 17.4s\tremaining: 7.62s\n",
      "696:\tlearn: 0.1461943\ttotal: 17.5s\tremaining: 7.59s\n",
      "697:\tlearn: 0.1461644\ttotal: 17.5s\tremaining: 7.57s\n",
      "698:\tlearn: 0.1460382\ttotal: 17.5s\tremaining: 7.54s\n",
      "699:\tlearn: 0.1459934\ttotal: 17.5s\tremaining: 7.52s\n",
      "700:\tlearn: 0.1458959\ttotal: 17.6s\tremaining: 7.49s\n",
      "701:\tlearn: 0.1457802\ttotal: 17.6s\tremaining: 7.47s\n",
      "702:\tlearn: 0.1457225\ttotal: 17.6s\tremaining: 7.44s\n",
      "703:\tlearn: 0.1456232\ttotal: 17.6s\tremaining: 7.42s\n",
      "704:\tlearn: 0.1455919\ttotal: 17.7s\tremaining: 7.39s\n",
      "705:\tlearn: 0.1455435\ttotal: 17.7s\tremaining: 7.36s\n",
      "706:\tlearn: 0.1455249\ttotal: 17.7s\tremaining: 7.34s\n",
      "707:\tlearn: 0.1454845\ttotal: 17.7s\tremaining: 7.31s\n",
      "708:\tlearn: 0.1453730\ttotal: 17.8s\tremaining: 7.29s\n",
      "709:\tlearn: 0.1452358\ttotal: 17.8s\tremaining: 7.26s\n",
      "710:\tlearn: 0.1451916\ttotal: 17.8s\tremaining: 7.24s\n",
      "711:\tlearn: 0.1451267\ttotal: 17.8s\tremaining: 7.21s\n",
      "712:\tlearn: 0.1450339\ttotal: 17.9s\tremaining: 7.18s\n",
      "713:\tlearn: 0.1449680\ttotal: 17.9s\tremaining: 7.16s\n",
      "714:\tlearn: 0.1448586\ttotal: 17.9s\tremaining: 7.13s\n",
      "715:\tlearn: 0.1447658\ttotal: 17.9s\tremaining: 7.11s\n",
      "716:\tlearn: 0.1447361\ttotal: 17.9s\tremaining: 7.08s\n",
      "717:\tlearn: 0.1447206\ttotal: 18s\tremaining: 7.06s\n",
      "718:\tlearn: 0.1446967\ttotal: 18s\tremaining: 7.03s\n",
      "719:\tlearn: 0.1446612\ttotal: 18s\tremaining: 7.01s\n",
      "720:\tlearn: 0.1446136\ttotal: 18s\tremaining: 6.98s\n",
      "721:\tlearn: 0.1445384\ttotal: 18.1s\tremaining: 6.96s\n",
      "722:\tlearn: 0.1444710\ttotal: 18.1s\tremaining: 6.93s\n",
      "723:\tlearn: 0.1444105\ttotal: 18.1s\tremaining: 6.9s\n",
      "724:\tlearn: 0.1443622\ttotal: 18.1s\tremaining: 6.88s\n",
      "725:\tlearn: 0.1442992\ttotal: 18.2s\tremaining: 6.85s\n",
      "726:\tlearn: 0.1442494\ttotal: 18.2s\tremaining: 6.83s\n",
      "727:\tlearn: 0.1442000\ttotal: 18.2s\tremaining: 6.8s\n",
      "728:\tlearn: 0.1441125\ttotal: 18.2s\tremaining: 6.78s\n",
      "729:\tlearn: 0.1440938\ttotal: 18.2s\tremaining: 6.75s\n",
      "730:\tlearn: 0.1439787\ttotal: 18.3s\tremaining: 6.72s\n",
      "731:\tlearn: 0.1439551\ttotal: 18.3s\tremaining: 6.7s\n",
      "732:\tlearn: 0.1438822\ttotal: 18.3s\tremaining: 6.67s\n",
      "733:\tlearn: 0.1438543\ttotal: 18.4s\tremaining: 6.65s\n",
      "734:\tlearn: 0.1438023\ttotal: 18.4s\tremaining: 6.62s\n",
      "735:\tlearn: 0.1437123\ttotal: 18.4s\tremaining: 6.6s\n",
      "736:\tlearn: 0.1436729\ttotal: 18.4s\tremaining: 6.57s\n",
      "737:\tlearn: 0.1436403\ttotal: 18.4s\tremaining: 6.55s\n",
      "738:\tlearn: 0.1435959\ttotal: 18.5s\tremaining: 6.52s\n",
      "739:\tlearn: 0.1435599\ttotal: 18.5s\tremaining: 6.5s\n",
      "740:\tlearn: 0.1435287\ttotal: 18.5s\tremaining: 6.47s\n",
      "741:\tlearn: 0.1434274\ttotal: 18.5s\tremaining: 6.45s\n",
      "742:\tlearn: 0.1433471\ttotal: 18.6s\tremaining: 6.42s\n",
      "743:\tlearn: 0.1432443\ttotal: 18.6s\tremaining: 6.4s\n",
      "744:\tlearn: 0.1431996\ttotal: 18.6s\tremaining: 6.37s\n",
      "745:\tlearn: 0.1431690\ttotal: 18.6s\tremaining: 6.35s\n",
      "746:\tlearn: 0.1431356\ttotal: 18.7s\tremaining: 6.32s\n",
      "747:\tlearn: 0.1430943\ttotal: 18.7s\tremaining: 6.29s\n",
      "748:\tlearn: 0.1430587\ttotal: 18.7s\tremaining: 6.27s\n",
      "749:\tlearn: 0.1430166\ttotal: 18.7s\tremaining: 6.24s\n",
      "750:\tlearn: 0.1429917\ttotal: 18.8s\tremaining: 6.22s\n",
      "751:\tlearn: 0.1429774\ttotal: 18.8s\tremaining: 6.19s\n",
      "752:\tlearn: 0.1429444\ttotal: 18.8s\tremaining: 6.17s\n",
      "753:\tlearn: 0.1428241\ttotal: 18.8s\tremaining: 6.14s\n",
      "754:\tlearn: 0.1427984\ttotal: 18.9s\tremaining: 6.12s\n",
      "755:\tlearn: 0.1426782\ttotal: 18.9s\tremaining: 6.09s\n",
      "756:\tlearn: 0.1426502\ttotal: 18.9s\tremaining: 6.07s\n",
      "757:\tlearn: 0.1425949\ttotal: 18.9s\tremaining: 6.04s\n",
      "758:\tlearn: 0.1425697\ttotal: 18.9s\tremaining: 6.01s\n",
      "759:\tlearn: 0.1425484\ttotal: 19s\tremaining: 5.99s\n",
      "760:\tlearn: 0.1424637\ttotal: 19s\tremaining: 5.96s\n",
      "761:\tlearn: 0.1424435\ttotal: 19s\tremaining: 5.94s\n",
      "762:\tlearn: 0.1423793\ttotal: 19s\tremaining: 5.91s\n",
      "763:\tlearn: 0.1423433\ttotal: 19.1s\tremaining: 5.89s\n",
      "764:\tlearn: 0.1422728\ttotal: 19.1s\tremaining: 5.86s\n",
      "765:\tlearn: 0.1422025\ttotal: 19.1s\tremaining: 5.83s\n",
      "766:\tlearn: 0.1421064\ttotal: 19.1s\tremaining: 5.81s\n",
      "767:\tlearn: 0.1420809\ttotal: 19.1s\tremaining: 5.78s\n",
      "768:\tlearn: 0.1420543\ttotal: 19.2s\tremaining: 5.76s\n",
      "769:\tlearn: 0.1420017\ttotal: 19.2s\tremaining: 5.73s\n",
      "770:\tlearn: 0.1419654\ttotal: 19.2s\tremaining: 5.71s\n",
      "771:\tlearn: 0.1418669\ttotal: 19.2s\tremaining: 5.68s\n",
      "772:\tlearn: 0.1418254\ttotal: 19.3s\tremaining: 5.66s\n",
      "773:\tlearn: 0.1415785\ttotal: 19.3s\tremaining: 5.63s\n",
      "774:\tlearn: 0.1414478\ttotal: 19.3s\tremaining: 5.61s\n",
      "775:\tlearn: 0.1413932\ttotal: 19.3s\tremaining: 5.58s\n",
      "776:\tlearn: 0.1412653\ttotal: 19.4s\tremaining: 5.56s\n",
      "777:\tlearn: 0.1412348\ttotal: 19.4s\tremaining: 5.53s\n",
      "778:\tlearn: 0.1412097\ttotal: 19.4s\tremaining: 5.51s\n",
      "779:\tlearn: 0.1411253\ttotal: 19.4s\tremaining: 5.48s\n",
      "780:\tlearn: 0.1410681\ttotal: 19.5s\tremaining: 5.46s\n",
      "781:\tlearn: 0.1409602\ttotal: 19.5s\tremaining: 5.43s\n",
      "782:\tlearn: 0.1409043\ttotal: 19.5s\tremaining: 5.41s\n",
      "783:\tlearn: 0.1408773\ttotal: 19.5s\tremaining: 5.38s\n",
      "784:\tlearn: 0.1407607\ttotal: 19.6s\tremaining: 5.36s\n",
      "785:\tlearn: 0.1407420\ttotal: 19.6s\tremaining: 5.33s\n",
      "786:\tlearn: 0.1407218\ttotal: 19.6s\tremaining: 5.31s\n",
      "787:\tlearn: 0.1406820\ttotal: 19.6s\tremaining: 5.28s\n",
      "788:\tlearn: 0.1406386\ttotal: 19.7s\tremaining: 5.25s\n",
      "789:\tlearn: 0.1405217\ttotal: 19.7s\tremaining: 5.23s\n",
      "790:\tlearn: 0.1404926\ttotal: 19.7s\tremaining: 5.21s\n",
      "791:\tlearn: 0.1404134\ttotal: 19.7s\tremaining: 5.18s\n",
      "792:\tlearn: 0.1403117\ttotal: 19.7s\tremaining: 5.15s\n",
      "793:\tlearn: 0.1402774\ttotal: 19.8s\tremaining: 5.13s\n",
      "794:\tlearn: 0.1401189\ttotal: 19.8s\tremaining: 5.1s\n",
      "795:\tlearn: 0.1400065\ttotal: 19.8s\tremaining: 5.08s\n",
      "796:\tlearn: 0.1399748\ttotal: 19.8s\tremaining: 5.05s\n",
      "797:\tlearn: 0.1399310\ttotal: 19.9s\tremaining: 5.03s\n",
      "798:\tlearn: 0.1398294\ttotal: 19.9s\tremaining: 5s\n",
      "799:\tlearn: 0.1397108\ttotal: 19.9s\tremaining: 4.98s\n",
      "800:\tlearn: 0.1396829\ttotal: 19.9s\tremaining: 4.95s\n",
      "801:\tlearn: 0.1396509\ttotal: 20s\tremaining: 4.93s\n",
      "802:\tlearn: 0.1395908\ttotal: 20s\tremaining: 4.9s\n",
      "803:\tlearn: 0.1395607\ttotal: 20s\tremaining: 4.88s\n",
      "804:\tlearn: 0.1395199\ttotal: 20s\tremaining: 4.85s\n",
      "805:\tlearn: 0.1394874\ttotal: 20.1s\tremaining: 4.83s\n",
      "806:\tlearn: 0.1394303\ttotal: 20.1s\tremaining: 4.8s\n",
      "807:\tlearn: 0.1393790\ttotal: 20.1s\tremaining: 4.78s\n",
      "808:\tlearn: 0.1393493\ttotal: 20.1s\tremaining: 4.75s\n",
      "809:\tlearn: 0.1393131\ttotal: 20.1s\tremaining: 4.72s\n",
      "810:\tlearn: 0.1392557\ttotal: 20.2s\tremaining: 4.7s\n",
      "811:\tlearn: 0.1391690\ttotal: 20.2s\tremaining: 4.67s\n",
      "812:\tlearn: 0.1391453\ttotal: 20.2s\tremaining: 4.65s\n",
      "813:\tlearn: 0.1391304\ttotal: 20.2s\tremaining: 4.62s\n",
      "814:\tlearn: 0.1390983\ttotal: 20.3s\tremaining: 4.6s\n",
      "815:\tlearn: 0.1390697\ttotal: 20.3s\tremaining: 4.57s\n",
      "816:\tlearn: 0.1389815\ttotal: 20.3s\tremaining: 4.55s\n",
      "817:\tlearn: 0.1389615\ttotal: 20.3s\tremaining: 4.52s\n",
      "818:\tlearn: 0.1389185\ttotal: 20.3s\tremaining: 4.5s\n",
      "819:\tlearn: 0.1388948\ttotal: 20.4s\tremaining: 4.47s\n",
      "820:\tlearn: 0.1388257\ttotal: 20.4s\tremaining: 4.45s\n",
      "821:\tlearn: 0.1388005\ttotal: 20.4s\tremaining: 4.42s\n",
      "822:\tlearn: 0.1387686\ttotal: 20.4s\tremaining: 4.39s\n",
      "823:\tlearn: 0.1387465\ttotal: 20.5s\tremaining: 4.37s\n",
      "824:\tlearn: 0.1387179\ttotal: 20.5s\tremaining: 4.34s\n",
      "825:\tlearn: 0.1386913\ttotal: 20.5s\tremaining: 4.32s\n",
      "826:\tlearn: 0.1386721\ttotal: 20.5s\tremaining: 4.29s\n",
      "827:\tlearn: 0.1385854\ttotal: 20.6s\tremaining: 4.27s\n",
      "828:\tlearn: 0.1385259\ttotal: 20.6s\tremaining: 4.24s\n",
      "829:\tlearn: 0.1384947\ttotal: 20.6s\tremaining: 4.22s\n",
      "830:\tlearn: 0.1384611\ttotal: 20.6s\tremaining: 4.19s\n",
      "831:\tlearn: 0.1383741\ttotal: 20.6s\tremaining: 4.17s\n",
      "832:\tlearn: 0.1381916\ttotal: 20.7s\tremaining: 4.15s\n",
      "833:\tlearn: 0.1380575\ttotal: 20.7s\tremaining: 4.12s\n",
      "834:\tlearn: 0.1380186\ttotal: 20.7s\tremaining: 4.1s\n",
      "835:\tlearn: 0.1379590\ttotal: 20.8s\tremaining: 4.07s\n",
      "836:\tlearn: 0.1378895\ttotal: 20.8s\tremaining: 4.05s\n",
      "837:\tlearn: 0.1377575\ttotal: 20.8s\tremaining: 4.02s\n",
      "838:\tlearn: 0.1377234\ttotal: 20.8s\tremaining: 4s\n",
      "839:\tlearn: 0.1376434\ttotal: 20.9s\tremaining: 3.97s\n",
      "840:\tlearn: 0.1376000\ttotal: 20.9s\tremaining: 3.95s\n",
      "841:\tlearn: 0.1375640\ttotal: 20.9s\tremaining: 3.92s\n",
      "842:\tlearn: 0.1375359\ttotal: 20.9s\tremaining: 3.9s\n",
      "843:\tlearn: 0.1375137\ttotal: 20.9s\tremaining: 3.87s\n",
      "844:\tlearn: 0.1374537\ttotal: 21s\tremaining: 3.85s\n",
      "845:\tlearn: 0.1373677\ttotal: 21s\tremaining: 3.83s\n",
      "846:\tlearn: 0.1372895\ttotal: 21.1s\tremaining: 3.8s\n",
      "847:\tlearn: 0.1371698\ttotal: 21.1s\tremaining: 3.78s\n",
      "848:\tlearn: 0.1371403\ttotal: 21.1s\tremaining: 3.75s\n",
      "849:\tlearn: 0.1370615\ttotal: 21.1s\tremaining: 3.73s\n",
      "850:\tlearn: 0.1370376\ttotal: 21.2s\tremaining: 3.7s\n",
      "851:\tlearn: 0.1369997\ttotal: 21.2s\tremaining: 3.68s\n",
      "852:\tlearn: 0.1369403\ttotal: 21.2s\tremaining: 3.65s\n",
      "853:\tlearn: 0.1369130\ttotal: 21.2s\tremaining: 3.63s\n",
      "854:\tlearn: 0.1368796\ttotal: 21.2s\tremaining: 3.6s\n",
      "855:\tlearn: 0.1368682\ttotal: 21.3s\tremaining: 3.58s\n",
      "856:\tlearn: 0.1368304\ttotal: 21.3s\tremaining: 3.55s\n",
      "857:\tlearn: 0.1367448\ttotal: 21.3s\tremaining: 3.53s\n",
      "858:\tlearn: 0.1366660\ttotal: 21.3s\tremaining: 3.5s\n",
      "859:\tlearn: 0.1366028\ttotal: 21.4s\tremaining: 3.48s\n",
      "860:\tlearn: 0.1365104\ttotal: 21.4s\tremaining: 3.45s\n",
      "861:\tlearn: 0.1364032\ttotal: 21.4s\tremaining: 3.43s\n",
      "862:\tlearn: 0.1363203\ttotal: 21.4s\tremaining: 3.4s\n",
      "863:\tlearn: 0.1363039\ttotal: 21.5s\tremaining: 3.38s\n",
      "864:\tlearn: 0.1362770\ttotal: 21.5s\tremaining: 3.35s\n",
      "865:\tlearn: 0.1362295\ttotal: 21.5s\tremaining: 3.33s\n",
      "866:\tlearn: 0.1361635\ttotal: 21.5s\tremaining: 3.3s\n",
      "867:\tlearn: 0.1361021\ttotal: 21.6s\tremaining: 3.28s\n",
      "868:\tlearn: 0.1360688\ttotal: 21.6s\tremaining: 3.25s\n",
      "869:\tlearn: 0.1360415\ttotal: 21.6s\tremaining: 3.23s\n",
      "870:\tlearn: 0.1359683\ttotal: 21.6s\tremaining: 3.2s\n",
      "871:\tlearn: 0.1359243\ttotal: 21.6s\tremaining: 3.18s\n",
      "872:\tlearn: 0.1357840\ttotal: 21.7s\tremaining: 3.15s\n",
      "873:\tlearn: 0.1357080\ttotal: 21.7s\tremaining: 3.13s\n",
      "874:\tlearn: 0.1356898\ttotal: 21.7s\tremaining: 3.1s\n",
      "875:\tlearn: 0.1356705\ttotal: 21.7s\tremaining: 3.08s\n",
      "876:\tlearn: 0.1356398\ttotal: 21.8s\tremaining: 3.05s\n",
      "877:\tlearn: 0.1356158\ttotal: 21.8s\tremaining: 3.03s\n",
      "878:\tlearn: 0.1355838\ttotal: 21.8s\tremaining: 3s\n",
      "879:\tlearn: 0.1355494\ttotal: 21.8s\tremaining: 2.98s\n",
      "880:\tlearn: 0.1355243\ttotal: 21.9s\tremaining: 2.95s\n",
      "881:\tlearn: 0.1354831\ttotal: 21.9s\tremaining: 2.93s\n",
      "882:\tlearn: 0.1353570\ttotal: 21.9s\tremaining: 2.9s\n",
      "883:\tlearn: 0.1352489\ttotal: 21.9s\tremaining: 2.88s\n",
      "884:\tlearn: 0.1351084\ttotal: 22s\tremaining: 2.85s\n",
      "885:\tlearn: 0.1350657\ttotal: 22s\tremaining: 2.83s\n",
      "886:\tlearn: 0.1349667\ttotal: 22s\tremaining: 2.8s\n",
      "887:\tlearn: 0.1349356\ttotal: 22s\tremaining: 2.78s\n",
      "888:\tlearn: 0.1349166\ttotal: 22s\tremaining: 2.75s\n",
      "889:\tlearn: 0.1348655\ttotal: 22.1s\tremaining: 2.73s\n",
      "890:\tlearn: 0.1348145\ttotal: 22.1s\tremaining: 2.7s\n",
      "891:\tlearn: 0.1347813\ttotal: 22.1s\tremaining: 2.68s\n",
      "892:\tlearn: 0.1347423\ttotal: 22.1s\tremaining: 2.65s\n",
      "893:\tlearn: 0.1347170\ttotal: 22.2s\tremaining: 2.63s\n",
      "894:\tlearn: 0.1346571\ttotal: 22.2s\tremaining: 2.6s\n",
      "895:\tlearn: 0.1346430\ttotal: 22.2s\tremaining: 2.58s\n",
      "896:\tlearn: 0.1346173\ttotal: 22.2s\tremaining: 2.55s\n",
      "897:\tlearn: 0.1345137\ttotal: 22.2s\tremaining: 2.53s\n",
      "898:\tlearn: 0.1344605\ttotal: 22.3s\tremaining: 2.5s\n",
      "899:\tlearn: 0.1344335\ttotal: 22.3s\tremaining: 2.48s\n",
      "900:\tlearn: 0.1344044\ttotal: 22.3s\tremaining: 2.45s\n",
      "901:\tlearn: 0.1343792\ttotal: 22.3s\tremaining: 2.43s\n",
      "902:\tlearn: 0.1343568\ttotal: 22.4s\tremaining: 2.4s\n",
      "903:\tlearn: 0.1343409\ttotal: 22.4s\tremaining: 2.38s\n",
      "904:\tlearn: 0.1343198\ttotal: 22.4s\tremaining: 2.35s\n",
      "905:\tlearn: 0.1342634\ttotal: 22.4s\tremaining: 2.33s\n",
      "906:\tlearn: 0.1342468\ttotal: 22.4s\tremaining: 2.3s\n",
      "907:\tlearn: 0.1341957\ttotal: 22.5s\tremaining: 2.28s\n",
      "908:\tlearn: 0.1341698\ttotal: 22.5s\tremaining: 2.25s\n",
      "909:\tlearn: 0.1340974\ttotal: 22.5s\tremaining: 2.23s\n",
      "910:\tlearn: 0.1340405\ttotal: 22.5s\tremaining: 2.2s\n",
      "911:\tlearn: 0.1339481\ttotal: 22.6s\tremaining: 2.18s\n",
      "912:\tlearn: 0.1339196\ttotal: 22.6s\tremaining: 2.15s\n",
      "913:\tlearn: 0.1338325\ttotal: 22.6s\tremaining: 2.13s\n",
      "914:\tlearn: 0.1337269\ttotal: 22.6s\tremaining: 2.1s\n",
      "915:\tlearn: 0.1337086\ttotal: 22.7s\tremaining: 2.08s\n",
      "916:\tlearn: 0.1336818\ttotal: 22.7s\tremaining: 2.05s\n",
      "917:\tlearn: 0.1336195\ttotal: 22.7s\tremaining: 2.03s\n",
      "918:\tlearn: 0.1335902\ttotal: 22.7s\tremaining: 2s\n",
      "919:\tlearn: 0.1335693\ttotal: 22.8s\tremaining: 1.98s\n",
      "920:\tlearn: 0.1335443\ttotal: 22.8s\tremaining: 1.96s\n",
      "921:\tlearn: 0.1335133\ttotal: 22.8s\tremaining: 1.93s\n",
      "922:\tlearn: 0.1334325\ttotal: 22.8s\tremaining: 1.91s\n",
      "923:\tlearn: 0.1334054\ttotal: 22.9s\tremaining: 1.88s\n",
      "924:\tlearn: 0.1333697\ttotal: 22.9s\tremaining: 1.85s\n",
      "925:\tlearn: 0.1333446\ttotal: 22.9s\tremaining: 1.83s\n",
      "926:\tlearn: 0.1333151\ttotal: 22.9s\tremaining: 1.8s\n",
      "927:\tlearn: 0.1332891\ttotal: 23s\tremaining: 1.78s\n",
      "928:\tlearn: 0.1332227\ttotal: 23s\tremaining: 1.76s\n",
      "929:\tlearn: 0.1331994\ttotal: 23s\tremaining: 1.73s\n",
      "930:\tlearn: 0.1331209\ttotal: 23s\tremaining: 1.71s\n",
      "931:\tlearn: 0.1330932\ttotal: 23.1s\tremaining: 1.68s\n",
      "932:\tlearn: 0.1330589\ttotal: 23.1s\tremaining: 1.66s\n",
      "933:\tlearn: 0.1329579\ttotal: 23.1s\tremaining: 1.63s\n",
      "934:\tlearn: 0.1328403\ttotal: 23.1s\tremaining: 1.61s\n",
      "935:\tlearn: 0.1327166\ttotal: 23.2s\tremaining: 1.58s\n",
      "936:\tlearn: 0.1326496\ttotal: 23.2s\tremaining: 1.56s\n",
      "937:\tlearn: 0.1325739\ttotal: 23.2s\tremaining: 1.53s\n",
      "938:\tlearn: 0.1325520\ttotal: 23.2s\tremaining: 1.51s\n",
      "939:\tlearn: 0.1325353\ttotal: 23.2s\tremaining: 1.48s\n",
      "940:\tlearn: 0.1324843\ttotal: 23.3s\tremaining: 1.46s\n",
      "941:\tlearn: 0.1324210\ttotal: 23.3s\tremaining: 1.43s\n",
      "942:\tlearn: 0.1323922\ttotal: 23.3s\tremaining: 1.41s\n",
      "943:\tlearn: 0.1323118\ttotal: 23.3s\tremaining: 1.38s\n",
      "944:\tlearn: 0.1322860\ttotal: 23.4s\tremaining: 1.36s\n",
      "945:\tlearn: 0.1322437\ttotal: 23.4s\tremaining: 1.33s\n",
      "946:\tlearn: 0.1322162\ttotal: 23.4s\tremaining: 1.31s\n",
      "947:\tlearn: 0.1321564\ttotal: 23.4s\tremaining: 1.28s\n",
      "948:\tlearn: 0.1321322\ttotal: 23.5s\tremaining: 1.26s\n",
      "949:\tlearn: 0.1320767\ttotal: 23.5s\tremaining: 1.24s\n",
      "950:\tlearn: 0.1320479\ttotal: 23.5s\tremaining: 1.21s\n",
      "951:\tlearn: 0.1319982\ttotal: 23.5s\tremaining: 1.19s\n",
      "952:\tlearn: 0.1319197\ttotal: 23.6s\tremaining: 1.16s\n",
      "953:\tlearn: 0.1319025\ttotal: 23.6s\tremaining: 1.14s\n",
      "954:\tlearn: 0.1318804\ttotal: 23.6s\tremaining: 1.11s\n",
      "955:\tlearn: 0.1317376\ttotal: 23.6s\tremaining: 1.09s\n",
      "956:\tlearn: 0.1317145\ttotal: 23.7s\tremaining: 1.06s\n",
      "957:\tlearn: 0.1316916\ttotal: 23.7s\tremaining: 1.04s\n",
      "958:\tlearn: 0.1316580\ttotal: 23.7s\tremaining: 1.01s\n",
      "959:\tlearn: 0.1316375\ttotal: 23.7s\tremaining: 988ms\n",
      "960:\tlearn: 0.1316086\ttotal: 23.7s\tremaining: 964ms\n",
      "961:\tlearn: 0.1315551\ttotal: 23.8s\tremaining: 939ms\n",
      "962:\tlearn: 0.1315388\ttotal: 23.8s\tremaining: 914ms\n",
      "963:\tlearn: 0.1315185\ttotal: 23.8s\tremaining: 889ms\n",
      "964:\tlearn: 0.1315003\ttotal: 23.8s\tremaining: 864ms\n",
      "965:\tlearn: 0.1314716\ttotal: 23.9s\tremaining: 840ms\n",
      "966:\tlearn: 0.1314455\ttotal: 23.9s\tremaining: 815ms\n",
      "967:\tlearn: 0.1314180\ttotal: 23.9s\tremaining: 790ms\n",
      "968:\tlearn: 0.1313246\ttotal: 23.9s\tremaining: 766ms\n",
      "969:\tlearn: 0.1312317\ttotal: 24s\tremaining: 741ms\n",
      "970:\tlearn: 0.1311312\ttotal: 24s\tremaining: 716ms\n",
      "971:\tlearn: 0.1310686\ttotal: 24s\tremaining: 691ms\n",
      "972:\tlearn: 0.1309726\ttotal: 24s\tremaining: 667ms\n",
      "973:\tlearn: 0.1309498\ttotal: 24s\tremaining: 642ms\n",
      "974:\tlearn: 0.1308534\ttotal: 24.1s\tremaining: 617ms\n",
      "975:\tlearn: 0.1307223\ttotal: 24.1s\tremaining: 592ms\n",
      "976:\tlearn: 0.1306518\ttotal: 24.1s\tremaining: 568ms\n",
      "977:\tlearn: 0.1305751\ttotal: 24.1s\tremaining: 543ms\n",
      "978:\tlearn: 0.1305197\ttotal: 24.2s\tremaining: 518ms\n",
      "979:\tlearn: 0.1304992\ttotal: 24.2s\tremaining: 494ms\n",
      "980:\tlearn: 0.1304811\ttotal: 24.2s\tremaining: 469ms\n",
      "981:\tlearn: 0.1304608\ttotal: 24.2s\tremaining: 444ms\n",
      "982:\tlearn: 0.1304348\ttotal: 24.3s\tremaining: 420ms\n",
      "983:\tlearn: 0.1304193\ttotal: 24.3s\tremaining: 395ms\n",
      "984:\tlearn: 0.1303911\ttotal: 24.3s\tremaining: 370ms\n",
      "985:\tlearn: 0.1302324\ttotal: 24.3s\tremaining: 345ms\n",
      "986:\tlearn: 0.1301692\ttotal: 24.4s\tremaining: 321ms\n",
      "987:\tlearn: 0.1301421\ttotal: 24.4s\tremaining: 296ms\n",
      "988:\tlearn: 0.1301011\ttotal: 24.4s\tremaining: 271ms\n",
      "989:\tlearn: 0.1300483\ttotal: 24.4s\tremaining: 247ms\n",
      "990:\tlearn: 0.1300036\ttotal: 24.4s\tremaining: 222ms\n",
      "991:\tlearn: 0.1299753\ttotal: 24.5s\tremaining: 197ms\n",
      "992:\tlearn: 0.1299354\ttotal: 24.5s\tremaining: 173ms\n",
      "993:\tlearn: 0.1299066\ttotal: 24.5s\tremaining: 148ms\n",
      "994:\tlearn: 0.1298788\ttotal: 24.5s\tremaining: 123ms\n",
      "995:\tlearn: 0.1298283\ttotal: 24.6s\tremaining: 98.6ms\n",
      "996:\tlearn: 0.1297901\ttotal: 24.6s\tremaining: 74ms\n",
      "997:\tlearn: 0.1297373\ttotal: 24.6s\tremaining: 49.3ms\n",
      "998:\tlearn: 0.1297134\ttotal: 24.6s\tremaining: 24.7ms\n",
      "999:\tlearn: 0.1296513\ttotal: 24.7s\tremaining: 0us\n",
      "\n",
      "🔍 Najlepszy threshold (na podstawie F2-score): 0.10\n",
      "threshold    0.100000\n",
      "precision    0.051038\n",
      "recall       0.427687\n",
      "f2           0.172735\n",
      "Name: 0, dtype: float64\n"
     ]
    },
    {
     "data": {
      "image/png": "[encoded data removed]",
      "text/plain": [
       "<Figure size 1000x600 with 1 Axes>"
      ]
     },
     "metadata": {},
     "output_type": "display_data"
    },
    {
     "name": "stdout",
     "output_type": "stream",
     "text": [
      "✅ Best threshold: 0.10 \n"
     ]
    },
    {
     "data": {
      "image/png": "[encoded data removed]",
      "text/plain": [
       "<Figure size 600x500 with 2 Axes>"
      ]
     },
     "metadata": {},
     "output_type": "display_data"
    },
    {
     "name": "stdout",
     "output_type": "stream",
     "text": [
      "📊 Classification Report (custom threshold):\n",
      "              precision    recall  f1-score   support\n",
      "\n",
      "           0       0.97      0.67      0.79     43103\n",
      "           1       0.05      0.43      0.09      1777\n",
      "\n",
      "    accuracy                           0.66     44880\n",
      "   macro avg       0.51      0.55      0.44     44880\n",
      "weighted avg       0.93      0.66      0.76     44880\n",
      "\n",
      "F1 Score: 0.09119270458363331\n",
      "Precision (positive class): 0.05103753945336109\n"
     ]
    }
   ],
   "source": [
    "best_params = study.best_params\n",
    "model = CatBoostClassifier(\n",
    "    \n",
    "    **best_params\n",
    ")\n",
    "model.fit(X_train, y_train)\n",
    "\n",
    "# Predykcje prawdopodobieństw i dobór progu\n",
    "import numpy as np\n",
    "import pandas as pd\n",
    "import matplotlib.pyplot as plt\n",
    "from sklearn.metrics import precision_score, recall_score, f1_score\n",
    "\n",
    "# Przewidujemy prawdopodobieństwa\n",
    "y_probs = model.predict_proba(X_test)[:, 1]\n",
    "\n",
    "# Przygotowanie do optymalizacji progu\n",
    "thresholds = np.arange(0.1, 0.99, 0.01)\n",
    "results = []\n",
    "from sklearn.metrics import fbeta_score\n",
    "\n",
    "for thresh in thresholds:\n",
    "    y_pred_thresh = (y_probs >= thresh).astype(int)\n",
    "    precision = precision_score(y_test, y_pred_thresh, zero_division=0)\n",
    "    recall = recall_score(y_test, y_pred_thresh, zero_division=0)\n",
    "    f2 = fbeta_score(y_test, y_pred_thresh, beta=2, zero_division=0)\n",
    "    results.append({'threshold': thresh, 'precision': precision, 'recall': recall, 'f2': f2})\n",
    "\n",
    "# Konwertujemy wyniki do DataFrame\n",
    "results_df = pd.DataFrame(results)\n",
    "\n",
    "# Szukamy najlepszego progu\n",
    "best_row = results_df.loc[results_df['f2'].idxmax()]\n",
    "best_thresh = best_row['threshold']\n",
    "\n",
    "#ponieważ działa to giga kiepsko\n",
    "#best_thresh = 0.5\n",
    "\n",
    "print(f\"\\n🔍 Najlepszy threshold (na podstawie F2-score): {best_thresh:.2f}\")\n",
    "print(best_row)\n",
    "\n",
    "# Rysujemy wykres\n",
    "plt.figure(figsize=(10, 6))\n",
    "plt.plot(results_df['threshold'], results_df['precision'], label='Precision')\n",
    "plt.plot(results_df['threshold'], results_df['recall'], label='Recall')\n",
    "plt.plot(results_df['threshold'], results_df['f2'], label='F2-score', linewidth=2)\n",
    "plt.axvline(best_thresh, color='gray', linestyle='--', label=f'Best Threshold ({best_thresh:.2f})')\n",
    "plt.xlabel('Threshold')\n",
    "plt.ylabel('Score')\n",
    "plt.title('Threshold vs Precision, Recall, F1-score')\n",
    "plt.legend()\n",
    "plt.grid(True)\n",
    "plt.tight_layout()\n",
    "plt.show()\n",
    "\n",
    "\n",
    "print(f\"✅ Best threshold: {best_thresh:.2f} \")\n",
    "\n",
    "# Ostateczna predykcja z najlepszym thresholdem\n",
    "y_pred_final = (y_probs >= best_thresh).astype(int)\n",
    "from sklearn.metrics import classification_report, confusion_matrix\n",
    "import seaborn as sns\n",
    "cm = confusion_matrix(y_test, y_pred_final)\n",
    "\n",
    "plt.figure(figsize=(6, 5))\n",
    "sns.heatmap(cm, annot=True, fmt=\"d\", cmap=\"Blues\", xticklabels=[\"Pred 0\", \"Pred 1\"], yticklabels=[\"True 0\", \"True 1\"])\n",
    "plt.title(\"Confusion Matrix (custom threshold)\")\n",
    "plt.xlabel(\"Predicted\")\n",
    "plt.ylabel(\"True\")\n",
    "plt.tight_layout()\n",
    "plt.show()\n",
    "\n",
    "# Classification report\n",
    "print(\"📊 Classification Report (custom threshold):\")\n",
    "print(classification_report(y_test, y_pred_final, digits=2))\n",
    "\n",
    "print(\"F1 Score:\", f1_score(y_test, y_pred_final))\n",
    "print(\"Precision (positive class):\", precision_score(y_test, y_pred_final))\n"
   ]
  },
  {
   "cell_type": "code",
   "execution_count": null,
   "id": "fb376a98",
   "metadata": {},
   "outputs": [],
   "source": []
  },
  {
   "cell_type": "code",
   "execution_count": 41,
   "id": "fdb8e684",
   "metadata": {},
   "outputs": [],
   "source": [
    "import pickle\n",
    "def save_model(model, path):\n",
    "    with open(path, 'wb') as f:\n",
    "        pickle.dump(model, f)\n",
    "\n",
    "save_model(model, \"models/catboost+adasyn.pkl\")\n"
   ]
  },
  {
   "cell_type": "code",
   "execution_count": 42,
   "id": "34510a14",
   "metadata": {},
   "outputs": [
    {
     "data": {
      "application/vnd.plotly.v1+json": {
       "config": {
        "plotlyServerURL": "https://plot.ly"
       },
       "data": [
        {
         "mode": "markers",
         "name": "Objective Value",
         "type": "scatter",
         "x": [
          0,
          1,
          2,
          3,
          4,
          5,
          6,
          7,
          8,
          9,
          10,
          11,
          12,
          13,
          14
         ],
         "y": [
          0.9756217930500931,
          0.9695757159489847,
          0.9289917049292874,
          0.9505265777865802,
          0.9270067450073164,
          0.9575797679646891,
          0.9518448565846462,
          0.9511959416093348,
          0.9552551177900943,
          0.9646624350050718,
          0.9799413244713685,
          0.9801888864899806,
          0.9801034530177924,
          0.9796209746333865,
          0.9791645900599479
         ]
        },
        {
         "mode": "lines",
         "name": "Best Value",
         "type": "scatter",
         "x": [
          0,
          1,
          2,
          3,
          4,
          5,
          6,
          7,
          8,
          9,
          10,
          11,
          12,
          13,
          14
         ],
         "y": [
          0.9756217930500931,
          0.9756217930500931,
          0.9756217930500931,
          0.9756217930500931,
          0.9756217930500931,
          0.9756217930500931,
          0.9756217930500931,
          0.9756217930500931,
          0.9756217930500931,
          0.9756217930500931,
          0.9799413244713685,
          0.9801888864899806,
          0.9801888864899806,
          0.9801888864899806,
          0.9801888864899806
         ]
        },
        {
         "marker": {
          "color": "#cccccc"
         },
         "mode": "markers",
         "name": "Infeasible Trial",
         "showlegend": false,
         "type": "scatter",
         "x": [],
         "y": []
        }
       ],
       "layout": {
        "template": {
         "data": {
          "bar": [
           {
            "error_x": {
             "color": "#2a3f5f"
            },
            "error_y": {
             "color": "#2a3f5f"
            },
            "marker": {
             "line": {
              "color": "#E5ECF6",
              "width": 0.5
             },
             "pattern": {
              "fillmode": "overlay",
              "size": 10,
              "solidity": 0.2
             }
            },
            "type": "bar"
           }
          ],
          "barpolar": [
           {
            "marker": {
             "line": {
              "color": "#E5ECF6",
              "width": 0.5
             },
             "pattern": {
              "fillmode": "overlay",
              "size": 10,
              "solidity": 0.2
             }
            },
            "type": "barpolar"
           }
          ],
          "carpet": [
           {
            "aaxis": {
             "endlinecolor": "#2a3f5f",
             "gridcolor": "white",
             "linecolor": "white",
             "minorgridcolor": "white",
             "startlinecolor": "#2a3f5f"
            },
            "baxis": {
             "endlinecolor": "#2a3f5f",
             "gridcolor": "white",
             "linecolor": "white",
             "minorgridcolor": "white",
             "startlinecolor": "#2a3f5f"
            },
            "type": "carpet"
           }
          ],
          "choropleth": [
           {
            "colorbar": {
             "outlinewidth": 0,
             "ticks": ""
            },
            "type": "choropleth"
           }
          ],
          "contour": [
           {
            "colorbar": {
             "outlinewidth": 0,
             "ticks": ""
            },
            "colorscale": [
             [
              0,
              "#0d0887"
             ],
             [
              0.1111111111111111,
              "#46039f"
             ],
             [
              0.2222222222222222,
              "#7201a8"
             ],
             [
              0.3333333333333333,
              "#9c179e"
             ],
             [
              0.4444444444444444,
              "#bd3786"
             ],
             [
              0.5555555555555556,
              "#d8576b"
             ],
             [
              0.6666666666666666,
              "#ed7953"
             ],
             [
              0.7777777777777778,
              "#fb9f3a"
             ],
             [
              0.8888888888888888,
              "#fdca26"
             ],
             [
              1,
              "#f0f921"
             ]
            ],
            "type": "contour"
           }
          ],
          "contourcarpet": [
           {
            "colorbar": {
             "outlinewidth": 0,
             "ticks": ""
            },
            "type": "contourcarpet"
           }
          ],
          "heatmap": [
           {
            "colorbar": {
             "outlinewidth": 0,
             "ticks": ""
            },
            "colorscale": [
             [
              0,
              "#0d0887"
             ],
             [
              0.1111111111111111,
              "#46039f"
             ],
             [
              0.2222222222222222,
              "#7201a8"
             ],
             [
              0.3333333333333333,
              "#9c179e"
             ],
             [
              0.4444444444444444,
              "#bd3786"
             ],
             [
              0.5555555555555556,
              "#d8576b"
             ],
             [
              0.6666666666666666,
              "#ed7953"
             ],
             [
              0.7777777777777778,
              "#fb9f3a"
             ],
             [
              0.8888888888888888,
              "#fdca26"
             ],
             [
              1,
              "#f0f921"
             ]
            ],
            "type": "heatmap"
           }
          ],
          "heatmapgl": [
           {
            "colorbar": {
             "outlinewidth": 0,
             "ticks": ""
            },
            "colorscale": [
             [
              0,
              "#0d0887"
             ],
             [
              0.1111111111111111,
              "#46039f"
             ],
             [
              0.2222222222222222,
              "#7201a8"
             ],
             [
              0.3333333333333333,
              "#9c179e"
             ],
             [
              0.4444444444444444,
              "#bd3786"
             ],
             [
              0.5555555555555556,
              "#d8576b"
             ],
             [
              0.6666666666666666,
              "#ed7953"
             ],
             [
              0.7777777777777778,
              "#fb9f3a"
             ],
             [
              0.8888888888888888,
              "#fdca26"
             ],
             [
              1,
              "#f0f921"
             ]
            ],
            "type": "heatmapgl"
           }
          ],
          "histogram": [
           {
            "marker": {
             "pattern": {
              "fillmode": "overlay",
              "size": 10,
              "solidity": 0.2
             }
            },
            "type": "histogram"
           }
          ],
          "histogram2d": [
           {
            "colorbar": {
             "outlinewidth": 0,
             "ticks": ""
            },
            "colorscale": [
             [
              0,
              "#0d0887"
             ],
             [
              0.1111111111111111,
              "#46039f"
             ],
             [
              0.2222222222222222,
              "#7201a8"
             ],
             [
              0.3333333333333333,
              "#9c179e"
             ],
             [
              0.4444444444444444,
              "#bd3786"
             ],
             [
              0.5555555555555556,
              "#d8576b"
             ],
             [
              0.6666666666666666,
              "#ed7953"
             ],
             [
              0.7777777777777778,
              "#fb9f3a"
             ],
             [
              0.8888888888888888,
              "#fdca26"
             ],
             [
              1,
              "#f0f921"
             ]
            ],
            "type": "histogram2d"
           }
          ],
          "histogram2dcontour": [
           {
            "colorbar": {
             "outlinewidth": 0,
             "ticks": ""
            },
            "colorscale": [
             [
              0,
              "#0d0887"
             ],
             [
              0.1111111111111111,
              "#46039f"
             ],
             [
              0.2222222222222222,
              "#7201a8"
             ],
             [
              0.3333333333333333,
              "#9c179e"
             ],
             [
              0.4444444444444444,
              "#bd3786"
             ],
             [
              0.5555555555555556,
              "#d8576b"
             ],
             [
              0.6666666666666666,
              "#ed7953"
             ],
             [
              0.7777777777777778,
              "#fb9f3a"
             ],
             [
              0.8888888888888888,
              "#fdca26"
             ],
             [
              1,
              "#f0f921"
             ]
            ],
            "type": "histogram2dcontour"
           }
          ],
          "mesh3d": [
           {
            "colorbar": {
             "outlinewidth": 0,
             "ticks": ""
            },
            "type": "mesh3d"
           }
          ],
          "parcoords": [
           {
            "line": {
             "colorbar": {
              "outlinewidth": 0,
              "ticks": ""
             }
            },
            "type": "parcoords"
           }
          ],
          "pie": [
           {
            "automargin": true,
            "type": "pie"
           }
          ],
          "scatter": [
           {
            "fillpattern": {
             "fillmode": "overlay",
             "size": 10,
             "solidity": 0.2
            },
            "type": "scatter"
           }
          ],
          "scatter3d": [
           {
            "line": {
             "colorbar": {
              "outlinewidth": 0,
              "ticks": ""
             }
            },
            "marker": {
             "colorbar": {
              "outlinewidth": 0,
              "ticks": ""
             }
            },
            "type": "scatter3d"
           }
          ],
          "scattercarpet": [
           {
            "marker": {
             "colorbar": {
              "outlinewidth": 0,
              "ticks": ""
             }
            },
            "type": "scattercarpet"
           }
          ],
          "scattergeo": [
           {
            "marker": {
             "colorbar": {
              "outlinewidth": 0,
              "ticks": ""
             }
            },
            "type": "scattergeo"
           }
          ],
          "scattergl": [
           {
            "marker": {
             "colorbar": {
              "outlinewidth": 0,
              "ticks": ""
             }
            },
            "type": "scattergl"
           }
          ],
          "scattermapbox": [
           {
            "marker": {
             "colorbar": {
              "outlinewidth": 0,
              "ticks": ""
             }
            },
            "type": "scattermapbox"
           }
          ],
          "scatterpolar": [
           {
            "marker": {
             "colorbar": {
              "outlinewidth": 0,
              "ticks": ""
             }
            },
            "type": "scatterpolar"
           }
          ],
          "scatterpolargl": [
           {
            "marker": {
             "colorbar": {
              "outlinewidth": 0,
              "ticks": ""
             }
            },
            "type": "scatterpolargl"
           }
          ],
          "scatterternary": [
           {
            "marker": {
             "colorbar": {
              "outlinewidth": 0,
              "ticks": ""
             }
            },
            "type": "scatterternary"
           }
          ],
          "surface": [
           {
            "colorbar": {
             "outlinewidth": 0,
             "ticks": ""
            },
            "colorscale": [
             [
              0,
              "#0d0887"
             ],
             [
              0.1111111111111111,
              "#46039f"
             ],
             [
              0.2222222222222222,
              "#7201a8"
             ],
             [
              0.3333333333333333,
              "#9c179e"
             ],
             [
              0.4444444444444444,
              "#bd3786"
             ],
             [
              0.5555555555555556,
              "#d8576b"
             ],
             [
              0.6666666666666666,
              "#ed7953"
             ],
             [
              0.7777777777777778,
              "#fb9f3a"
             ],
             [
              0.8888888888888888,
              "#fdca26"
             ],
             [
              1,
              "#f0f921"
             ]
            ],
            "type": "surface"
           }
          ],
          "table": [
           {
            "cells": {
             "fill": {
              "color": "#EBF0F8"
             },
             "line": {
              "color": "white"
             }
            },
            "header": {
             "fill": {
              "color": "#C8D4E3"
             },
             "line": {
              "color": "white"
             }
            },
            "type": "table"
           }
          ]
         },
         "layout": {
          "annotationdefaults": {
           "arrowcolor": "#2a3f5f",
           "arrowhead": 0,
           "arrowwidth": 1
          },
          "autotypenumbers": "strict",
          "coloraxis": {
           "colorbar": {
            "outlinewidth": 0,
            "ticks": ""
           }
          },
          "colorscale": {
           "diverging": [
            [
             0,
             "#8e0152"
            ],
            [
             0.1,
             "#c51b7d"
            ],
            [
             0.2,
             "#de77ae"
            ],
            [
             0.3,
             "#f1b6da"
            ],
            [
             0.4,
             "#fde0ef"
            ],
            [
             0.5,
             "#f7f7f7"
            ],
            [
             0.6,
             "#e6f5d0"
            ],
            [
             0.7,
             "#b8e186"
            ],
            [
             0.8,
             "#7fbc41"
            ],
            [
             0.9,
             "#4d9221"
            ],
            [
             1,
             "#276419"
            ]
           ],
           "sequential": [
            [
             0,
             "#0d0887"
            ],
            [
             0.1111111111111111,
             "#46039f"
            ],
            [
             0.2222222222222222,
             "#7201a8"
            ],
            [
             0.3333333333333333,
             "#9c179e"
            ],
            [
             0.4444444444444444,
             "#bd3786"
            ],
            [
             0.5555555555555556,
             "#d8576b"
            ],
            [
             0.6666666666666666,
             "#ed7953"
            ],
            [
             0.7777777777777778,
             "#fb9f3a"
            ],
            [
             0.8888888888888888,
             "#fdca26"
            ],
            [
             1,
             "#f0f921"
            ]
           ],
           "sequentialminus": [
            [
             0,
             "#0d0887"
            ],
            [
             0.1111111111111111,
             "#46039f"
            ],
            [
             0.2222222222222222,
             "#7201a8"
            ],
            [
             0.3333333333333333,
             "#9c179e"
            ],
            [
             0.4444444444444444,
             "#bd3786"
            ],
            [
             0.5555555555555556,
             "#d8576b"
            ],
            [
             0.6666666666666666,
             "#ed7953"
            ],
            [
             0.7777777777777778,
             "#fb9f3a"
            ],
            [
             0.8888888888888888,
             "#fdca26"
            ],
            [
             1,
             "#f0f921"
            ]
           ]
          },
          "colorway": [
           "#636efa",
           "#EF553B",
           "#00cc96",
           "#ab63fa",
           "#FFA15A",
           "#19d3f3",
           "#FF6692",
           "#B6E880",
           "#FF97FF",
           "#FECB52"
          ],
          "font": {
           "color": "#2a3f5f"
          },
          "geo": {
           "bgcolor": "white",
           "lakecolor": "white",
           "landcolor": "#E5ECF6",
           "showlakes": true,
           "showland": true,
           "subunitcolor": "white"
          },
          "hoverlabel": {
           "align": "left"
          },
          "hovermode": "closest",
          "mapbox": {
           "style": "light"
          },
          "paper_bgcolor": "white",
          "plot_bgcolor": "#E5ECF6",
          "polar": {
           "angularaxis": {
            "gridcolor": "white",
            "linecolor": "white",
            "ticks": ""
           },
           "bgcolor": "#E5ECF6",
           "radialaxis": {
            "gridcolor": "white",
            "linecolor": "white",
            "ticks": ""
           }
          },
          "scene": {
           "xaxis": {
            "backgroundcolor": "#E5ECF6",
            "gridcolor": "white",
            "gridwidth": 2,
            "linecolor": "white",
            "showbackground": true,
            "ticks": "",
            "zerolinecolor": "white"
           },
           "yaxis": {
            "backgroundcolor": "#E5ECF6",
            "gridcolor": "white",
            "gridwidth": 2,
            "linecolor": "white",
            "showbackground": true,
            "ticks": "",
            "zerolinecolor": "white"
           },
           "zaxis": {
            "backgroundcolor": "#E5ECF6",
            "gridcolor": "white",
            "gridwidth": 2,
            "linecolor": "white",
            "showbackground": true,
            "ticks": "",
            "zerolinecolor": "white"
           }
          },
          "shapedefaults": {
           "line": {
            "color": "#2a3f5f"
           }
          },
          "ternary": {
           "aaxis": {
            "gridcolor": "white",
            "linecolor": "white",
            "ticks": ""
           },
           "baxis": {
            "gridcolor": "white",
            "linecolor": "white",
            "ticks": ""
           },
           "bgcolor": "#E5ECF6",
           "caxis": {
            "gridcolor": "white",
            "linecolor": "white",
            "ticks": ""
           }
          },
          "title": {
           "x": 0.05
          },
          "xaxis": {
           "automargin": true,
           "gridcolor": "white",
           "linecolor": "white",
           "ticks": "",
           "title": {
            "standoff": 15
           },
           "zerolinecolor": "white",
           "zerolinewidth": 2
          },
          "yaxis": {
           "automargin": true,
           "gridcolor": "white",
           "linecolor": "white",
           "ticks": "",
           "title": {
            "standoff": 15
           },
           "zerolinecolor": "white",
           "zerolinewidth": 2
          }
         }
        },
        "title": {
         "text": "Optimization History Plot"
        },
        "xaxis": {
         "title": {
          "text": "Trial"
         }
        },
        "yaxis": {
         "title": {
          "text": "Objective Value"
         }
        }
       }
      }
     },
     "metadata": {},
     "output_type": "display_data"
    },
    {
     "data": {
      "application/vnd.plotly.v1+json": {
       "config": {
        "plotlyServerURL": "https://plot.ly"
       },
       "data": [
        {
         "cliponaxis": false,
         "hovertemplate": [
          "l2_leaf_reg (FloatDistribution): 0.043073670425479375<extra></extra>",
          "bagging_temperature (FloatDistribution): 0.07211693353411432<extra></extra>",
          "border_count (IntDistribution): 0.09261049404264747<extra></extra>",
          "depth (IntDistribution): 0.1320540239746685<extra></extra>",
          "random_strength (FloatDistribution): 0.14761032255667064<extra></extra>",
          "learning_rate (FloatDistribution): 0.5125345554664197<extra></extra>"
         ],
         "name": "Objective Value",
         "orientation": "h",
         "text": [
          "0.04",
          "0.07",
          "0.09",
          "0.13",
          "0.15",
          "0.51"
         ],
         "textposition": "outside",
         "type": "bar",
         "x": [
          0.043073670425479375,
          0.07211693353411432,
          0.09261049404264747,
          0.1320540239746685,
          0.14761032255667064,
          0.5125345554664197
         ],
         "y": [
          "l2_leaf_reg",
          "bagging_temperature",
          "border_count",
          "depth",
          "random_strength",
          "learning_rate"
         ]
        }
       ],
       "layout": {
        "template": {
         "data": {
          "bar": [
           {
            "error_x": {
             "color": "#2a3f5f"
            },
            "error_y": {
             "color": "#2a3f5f"
            },
            "marker": {
             "line": {
              "color": "#E5ECF6",
              "width": 0.5
             },
             "pattern": {
              "fillmode": "overlay",
              "size": 10,
              "solidity": 0.2
             }
            },
            "type": "bar"
           }
          ],
          "barpolar": [
           {
            "marker": {
             "line": {
              "color": "#E5ECF6",
              "width": 0.5
             },
             "pattern": {
              "fillmode": "overlay",
              "size": 10,
              "solidity": 0.2
             }
            },
            "type": "barpolar"
           }
          ],
          "carpet": [
           {
            "aaxis": {
             "endlinecolor": "#2a3f5f",
             "gridcolor": "white",
             "linecolor": "white",
             "minorgridcolor": "white",
             "startlinecolor": "#2a3f5f"
            },
            "baxis": {
             "endlinecolor": "#2a3f5f",
             "gridcolor": "white",
             "linecolor": "white",
             "minorgridcolor": "white",
             "startlinecolor": "#2a3f5f"
            },
            "type": "carpet"
           }
          ],
          "choropleth": [
           {
            "colorbar": {
             "outlinewidth": 0,
             "ticks": ""
            },
            "type": "choropleth"
           }
          ],
          "contour": [
           {
            "colorbar": {
             "outlinewidth": 0,
             "ticks": ""
            },
            "colorscale": [
             [
              0,
              "#0d0887"
             ],
             [
              0.1111111111111111,
              "#46039f"
             ],
             [
              0.2222222222222222,
              "#7201a8"
             ],
             [
              0.3333333333333333,
              "#9c179e"
             ],
             [
              0.4444444444444444,
              "#bd3786"
             ],
             [
              0.5555555555555556,
              "#d8576b"
             ],
             [
              0.6666666666666666,
              "#ed7953"
             ],
             [
              0.7777777777777778,
              "#fb9f3a"
             ],
             [
              0.8888888888888888,
              "#fdca26"
             ],
             [
              1,
              "#f0f921"
             ]
            ],
            "type": "contour"
           }
          ],
          "contourcarpet": [
           {
            "colorbar": {
             "outlinewidth": 0,
             "ticks": ""
            },
            "type": "contourcarpet"
           }
          ],
          "heatmap": [
           {
            "colorbar": {
             "outlinewidth": 0,
             "ticks": ""
            },
            "colorscale": [
             [
              0,
              "#0d0887"
             ],
             [
              0.1111111111111111,
              "#46039f"
             ],
             [
              0.2222222222222222,
              "#7201a8"
             ],
             [
              0.3333333333333333,
              "#9c179e"
             ],
             [
              0.4444444444444444,
              "#bd3786"
             ],
             [
              0.5555555555555556,
              "#d8576b"
             ],
             [
              0.6666666666666666,
              "#ed7953"
             ],
             [
              0.7777777777777778,
              "#fb9f3a"
             ],
             [
              0.8888888888888888,
              "#fdca26"
             ],
             [
              1,
              "#f0f921"
             ]
            ],
            "type": "heatmap"
           }
          ],
          "heatmapgl": [
           {
            "colorbar": {
             "outlinewidth": 0,
             "ticks": ""
            },
            "colorscale": [
             [
              0,
              "#0d0887"
             ],
             [
              0.1111111111111111,
              "#46039f"
             ],
             [
              0.2222222222222222,
              "#7201a8"
             ],
             [
              0.3333333333333333,
              "#9c179e"
             ],
             [
              0.4444444444444444,
              "#bd3786"
             ],
             [
              0.5555555555555556,
              "#d8576b"
             ],
             [
              0.6666666666666666,
              "#ed7953"
             ],
             [
              0.7777777777777778,
              "#fb9f3a"
             ],
             [
              0.8888888888888888,
              "#fdca26"
             ],
             [
              1,
              "#f0f921"
             ]
            ],
            "type": "heatmapgl"
           }
          ],
          "histogram": [
           {
            "marker": {
             "pattern": {
              "fillmode": "overlay",
              "size": 10,
              "solidity": 0.2
             }
            },
            "type": "histogram"
           }
          ],
          "histogram2d": [
           {
            "colorbar": {
             "outlinewidth": 0,
             "ticks": ""
            },
            "colorscale": [
             [
              0,
              "#0d0887"
             ],
             [
              0.1111111111111111,
              "#46039f"
             ],
             [
              0.2222222222222222,
              "#7201a8"
             ],
             [
              0.3333333333333333,
              "#9c179e"
             ],
             [
              0.4444444444444444,
              "#bd3786"
             ],
             [
              0.5555555555555556,
              "#d8576b"
             ],
             [
              0.6666666666666666,
              "#ed7953"
             ],
             [
              0.7777777777777778,
              "#fb9f3a"
             ],
             [
              0.8888888888888888,
              "#fdca26"
             ],
             [
              1,
              "#f0f921"
             ]
            ],
            "type": "histogram2d"
           }
          ],
          "histogram2dcontour": [
           {
            "colorbar": {
             "outlinewidth": 0,
             "ticks": ""
            },
            "colorscale": [
             [
              0,
              "#0d0887"
             ],
             [
              0.1111111111111111,
              "#46039f"
             ],
             [
              0.2222222222222222,
              "#7201a8"
             ],
             [
              0.3333333333333333,
              "#9c179e"
             ],
             [
              0.4444444444444444,
              "#bd3786"
             ],
             [
              0.5555555555555556,
              "#d8576b"
             ],
             [
              0.6666666666666666,
              "#ed7953"
             ],
             [
              0.7777777777777778,
              "#fb9f3a"
             ],
             [
              0.8888888888888888,
              "#fdca26"
             ],
             [
              1,
              "#f0f921"
             ]
            ],
            "type": "histogram2dcontour"
           }
          ],
          "mesh3d": [
           {
            "colorbar": {
             "outlinewidth": 0,
             "ticks": ""
            },
            "type": "mesh3d"
           }
          ],
          "parcoords": [
           {
            "line": {
             "colorbar": {
              "outlinewidth": 0,
              "ticks": ""
             }
            },
            "type": "parcoords"
           }
          ],
          "pie": [
           {
            "automargin": true,
            "type": "pie"
           }
          ],
          "scatter": [
           {
            "fillpattern": {
             "fillmode": "overlay",
             "size": 10,
             "solidity": 0.2
            },
            "type": "scatter"
           }
          ],
          "scatter3d": [
           {
            "line": {
             "colorbar": {
              "outlinewidth": 0,
              "ticks": ""
             }
            },
            "marker": {
             "colorbar": {
              "outlinewidth": 0,
              "ticks": ""
             }
            },
            "type": "scatter3d"
           }
          ],
          "scattercarpet": [
           {
            "marker": {
             "colorbar": {
              "outlinewidth": 0,
              "ticks": ""
             }
            },
            "type": "scattercarpet"
           }
          ],
          "scattergeo": [
           {
            "marker": {
             "colorbar": {
              "outlinewidth": 0,
              "ticks": ""
             }
            },
            "type": "scattergeo"
           }
          ],
          "scattergl": [
           {
            "marker": {
             "colorbar": {
              "outlinewidth": 0,
              "ticks": ""
             }
            },
            "type": "scattergl"
           }
          ],
          "scattermapbox": [
           {
            "marker": {
             "colorbar": {
              "outlinewidth": 0,
              "ticks": ""
             }
            },
            "type": "scattermapbox"
           }
          ],
          "scatterpolar": [
           {
            "marker": {
             "colorbar": {
              "outlinewidth": 0,
              "ticks": ""
             }
            },
            "type": "scatterpolar"
           }
          ],
          "scatterpolargl": [
           {
            "marker": {
             "colorbar": {
              "outlinewidth": 0,
              "ticks": ""
             }
            },
            "type": "scatterpolargl"
           }
          ],
          "scatterternary": [
           {
            "marker": {
             "colorbar": {
              "outlinewidth": 0,
              "ticks": ""
             }
            },
            "type": "scatterternary"
           }
          ],
          "surface": [
           {
            "colorbar": {
             "outlinewidth": 0,
             "ticks": ""
            },
            "colorscale": [
             [
              0,
              "#0d0887"
             ],
             [
              0.1111111111111111,
              "#46039f"
             ],
             [
              0.2222222222222222,
              "#7201a8"
             ],
             [
              0.3333333333333333,
              "#9c179e"
             ],
             [
              0.4444444444444444,
              "#bd3786"
             ],
             [
              0.5555555555555556,
              "#d8576b"
             ],
             [
              0.6666666666666666,
              "#ed7953"
             ],
             [
              0.7777777777777778,
              "#fb9f3a"
             ],
             [
              0.8888888888888888,
              "#fdca26"
             ],
             [
              1,
              "#f0f921"
             ]
            ],
            "type": "surface"
           }
          ],
          "table": [
           {
            "cells": {
             "fill": {
              "color": "#EBF0F8"
             },
             "line": {
              "color": "white"
             }
            },
            "header": {
             "fill": {
              "color": "#C8D4E3"
             },
             "line": {
              "color": "white"
             }
            },
            "type": "table"
           }
          ]
         },
         "layout": {
          "annotationdefaults": {
           "arrowcolor": "#2a3f5f",
           "arrowhead": 0,
           "arrowwidth": 1
          },
          "autotypenumbers": "strict",
          "coloraxis": {
           "colorbar": {
            "outlinewidth": 0,
            "ticks": ""
           }
          },
          "colorscale": {
           "diverging": [
            [
             0,
             "#8e0152"
            ],
            [
             0.1,
             "#c51b7d"
            ],
            [
             0.2,
             "#de77ae"
            ],
            [
             0.3,
             "#f1b6da"
            ],
            [
             0.4,
             "#fde0ef"
            ],
            [
             0.5,
             "#f7f7f7"
            ],
            [
             0.6,
             "#e6f5d0"
            ],
            [
             0.7,
             "#b8e186"
            ],
            [
             0.8,
             "#7fbc41"
            ],
            [
             0.9,
             "#4d9221"
            ],
            [
             1,
             "#276419"
            ]
           ],
           "sequential": [
            [
             0,
             "#0d0887"
            ],
            [
             0.1111111111111111,
             "#46039f"
            ],
            [
             0.2222222222222222,
             "#7201a8"
            ],
            [
             0.3333333333333333,
             "#9c179e"
            ],
            [
             0.4444444444444444,
             "#bd3786"
            ],
            [
             0.5555555555555556,
             "#d8576b"
            ],
            [
             0.6666666666666666,
             "#ed7953"
            ],
            [
             0.7777777777777778,
             "#fb9f3a"
            ],
            [
             0.8888888888888888,
             "#fdca26"
            ],
            [
             1,
             "#f0f921"
            ]
           ],
           "sequentialminus": [
            [
             0,
             "#0d0887"
            ],
            [
             0.1111111111111111,
             "#46039f"
            ],
            [
             0.2222222222222222,
             "#7201a8"
            ],
            [
             0.3333333333333333,
             "#9c179e"
            ],
            [
             0.4444444444444444,
             "#bd3786"
            ],
            [
             0.5555555555555556,
             "#d8576b"
            ],
            [
             0.6666666666666666,
             "#ed7953"
            ],
            [
             0.7777777777777778,
             "#fb9f3a"
            ],
            [
             0.8888888888888888,
             "#fdca26"
            ],
            [
             1,
             "#f0f921"
            ]
           ]
          },
          "colorway": [
           "#636efa",
           "#EF553B",
           "#00cc96",
           "#ab63fa",
           "#FFA15A",
           "#19d3f3",
           "#FF6692",
           "#B6E880",
           "#FF97FF",
           "#FECB52"
          ],
          "font": {
           "color": "#2a3f5f"
          },
          "geo": {
           "bgcolor": "white",
           "lakecolor": "white",
           "landcolor": "#E5ECF6",
           "showlakes": true,
           "showland": true,
           "subunitcolor": "white"
          },
          "hoverlabel": {
           "align": "left"
          },
          "hovermode": "closest",
          "mapbox": {
           "style": "light"
          },
          "paper_bgcolor": "white",
          "plot_bgcolor": "#E5ECF6",
          "polar": {
           "angularaxis": {
            "gridcolor": "white",
            "linecolor": "white",
            "ticks": ""
           },
           "bgcolor": "#E5ECF6",
           "radialaxis": {
            "gridcolor": "white",
            "linecolor": "white",
            "ticks": ""
           }
          },
          "scene": {
           "xaxis": {
            "backgroundcolor": "#E5ECF6",
            "gridcolor": "white",
            "gridwidth": 2,
            "linecolor": "white",
            "showbackground": true,
            "ticks": "",
            "zerolinecolor": "white"
           },
           "yaxis": {
            "backgroundcolor": "#E5ECF6",
            "gridcolor": "white",
            "gridwidth": 2,
            "linecolor": "white",
            "showbackground": true,
            "ticks": "",
            "zerolinecolor": "white"
           },
           "zaxis": {
            "backgroundcolor": "#E5ECF6",
            "gridcolor": "white",
            "gridwidth": 2,
            "linecolor": "white",
            "showbackground": true,
            "ticks": "",
            "zerolinecolor": "white"
           }
          },
          "shapedefaults": {
           "line": {
            "color": "#2a3f5f"
           }
          },
          "ternary": {
           "aaxis": {
            "gridcolor": "white",
            "linecolor": "white",
            "ticks": ""
           },
           "baxis": {
            "gridcolor": "white",
            "linecolor": "white",
            "ticks": ""
           },
           "bgcolor": "#E5ECF6",
           "caxis": {
            "gridcolor": "white",
            "linecolor": "white",
            "ticks": ""
           }
          },
          "title": {
           "x": 0.05
          },
          "xaxis": {
           "automargin": true,
           "gridcolor": "white",
           "linecolor": "white",
           "ticks": "",
           "title": {
            "standoff": 15
           },
           "zerolinecolor": "white",
           "zerolinewidth": 2
          },
          "yaxis": {
           "automargin": true,
           "gridcolor": "white",
           "linecolor": "white",
           "ticks": "",
           "title": {
            "standoff": 15
           },
           "zerolinecolor": "white",
           "zerolinewidth": 2
          }
         }
        },
        "title": {
         "text": "Hyperparameter Importances"
        },
        "xaxis": {
         "title": {
          "text": "Hyperparameter Importance"
         }
        },
        "yaxis": {
         "title": {
          "text": "Hyperparameter"
         }
        }
       }
      }
     },
     "metadata": {},
     "output_type": "display_data"
    }
   ],
   "source": [
    "optuna.visualization.plot_optimization_history(study).show()\n",
    "optuna.visualization.plot_param_importances(study).show()"
   ]
  },
  {
   "cell_type": "code",
   "execution_count": 43,
   "id": "b0326144",
   "metadata": {},
   "outputs": [
    {
     "data": {
      "image/png": "[encoded data removed]",
      "text/plain": [
       "<Figure size 800x830 with 2 Axes>"
      ]
     },
     "metadata": {},
     "output_type": "display_data"
    },
    {
     "data": {
      "image/png": "[encoded data removed]",
      "text/plain": [
       "<Figure size 800x830 with 1 Axes>"
      ]
     },
     "metadata": {},
     "output_type": "display_data"
    },
    {
     "name": "stderr",
     "output_type": "stream",
     "text": [
      "c:\\Users\\66891\\anaconda3\\Lib\\site-packages\\catboost\\core.py:945: FutureWarning:\n",
      "\n",
      "Series.__getitem__ treating keys as positions is deprecated. In a future version, integer keys will always be treated as labels (consistent with DataFrame behavior). To access a value by position, use `ser.iloc[pos]`\n",
      "\n"
     ]
    },
    {
     "ename": "CatBoostError",
     "evalue": "catboost/libs/data/model_dataset_compatibility.cpp:72: Feature Years_of_Smoking is present in model but not in pool.",
     "output_type": "error",
     "traceback": [
      "\u001b[31m---------------------------------------------------------------------------\u001b[39m",
      "\u001b[31mCatBoostError\u001b[39m                             Traceback (most recent call last)",
      "\u001b[36mCell\u001b[39m\u001b[36m \u001b[39m\u001b[32mIn[43]\u001b[39m\u001b[32m, line 8\u001b[39m\n\u001b[32m      6\u001b[39m shap.summary_plot(shap_values, X_test, plot_type=\u001b[33m\"\u001b[39m\u001b[33mbar\u001b[39m\u001b[33m\"\u001b[39m)\n\u001b[32m      7\u001b[39m \u001b[38;5;66;03m# Wykres dla pojedynczej próbki\u001b[39;00m\n\u001b[32m----> \u001b[39m\u001b[32m8\u001b[39m shap.plots.waterfall(explainer(X_test.iloc[\u001b[32m20\u001b[39m]))\n",
      "\u001b[36mFile \u001b[39m\u001b[32mc:\\Users\\66891\\anaconda3\\Lib\\site-packages\\shap\\explainers\\_tree.py:380\u001b[39m, in \u001b[36mTreeExplainer.__call__\u001b[39m\u001b[34m(self, X, y, interactions, check_additivity, approximate)\u001b[39m\n\u001b[32m    377\u001b[39m     feature_names = \u001b[38;5;28mgetattr\u001b[39m(\u001b[38;5;28mself\u001b[39m, \u001b[33m\"\u001b[39m\u001b[33mdata_feature_names\u001b[39m\u001b[33m\"\u001b[39m, \u001b[38;5;28;01mNone\u001b[39;00m)\n\u001b[32m    379\u001b[39m \u001b[38;5;28;01mif\u001b[39;00m \u001b[38;5;129;01mnot\u001b[39;00m interactions:\n\u001b[32m--> \u001b[39m\u001b[32m380\u001b[39m     v = \u001b[38;5;28mself\u001b[39m.shap_values(X, y=y, from_call=\u001b[38;5;28;01mTrue\u001b[39;00m, check_additivity=check_additivity, approximate=approximate)\n\u001b[32m    381\u001b[39m     \u001b[38;5;28;01mif\u001b[39;00m \u001b[38;5;28misinstance\u001b[39m(v, \u001b[38;5;28mlist\u001b[39m):\n\u001b[32m    382\u001b[39m         v = np.stack(v, axis=-\u001b[32m1\u001b[39m)  \u001b[38;5;66;03m# put outputs at the end\u001b[39;00m\n",
      "\u001b[36mFile \u001b[39m\u001b[32mc:\\Users\\66891\\anaconda3\\Lib\\site-packages\\shap\\explainers\\_tree.py:603\u001b[39m, in \u001b[36mTreeExplainer.shap_values\u001b[39m\u001b[34m(self, X, y, tree_limit, approximate, check_additivity, from_call)\u001b[39m\n\u001b[32m    601\u001b[39m     \u001b[38;5;28;01mif\u001b[39;00m \u001b[38;5;129;01mnot\u001b[39;00m \u001b[38;5;28misinstance\u001b[39m(X, catboost.Pool):\n\u001b[32m    602\u001b[39m         X = catboost.Pool(X, cat_features=\u001b[38;5;28mself\u001b[39m.model.cat_feature_indices)\n\u001b[32m--> \u001b[39m\u001b[32m603\u001b[39m     phi = \u001b[38;5;28mself\u001b[39m.model.original_model.get_feature_importance(data=X, fstr_type=\u001b[33m\"\u001b[39m\u001b[33mShapValues\u001b[39m\u001b[33m\"\u001b[39m)\n\u001b[32m    605\u001b[39m \u001b[38;5;66;03m# note we pull off the last column and keep it as our expected_value\u001b[39;00m\n\u001b[32m    606\u001b[39m \u001b[38;5;28;01mif\u001b[39;00m phi \u001b[38;5;129;01mis\u001b[39;00m \u001b[38;5;129;01mnot\u001b[39;00m \u001b[38;5;28;01mNone\u001b[39;00m:\n",
      "\u001b[36mFile \u001b[39m\u001b[32mc:\\Users\\66891\\anaconda3\\Lib\\site-packages\\catboost\\core.py:3249\u001b[39m, in \u001b[36mCatBoost.get_feature_importance\u001b[39m\u001b[34m(self, data, type, prettified, thread_count, verbose, fstr_type, shap_mode, model_output, interaction_indices, shap_calc_type, reference_data, sage_n_samples, sage_batch_size, sage_detect_convergence, log_cout, log_cerr)\u001b[39m\n\u001b[32m   3246\u001b[39m         \u001b[38;5;28;01mraise\u001b[39;00m CatBoostError(\u001b[33m\"\u001b[39m\u001b[33mdata is empty.\u001b[39m\u001b[33m\"\u001b[39m)\n\u001b[32m   3248\u001b[39m shap_calc_type = enum_from_enum_or_str(EShapCalcType, shap_calc_type).value\n\u001b[32m-> \u001b[39m\u001b[32m3249\u001b[39m fstr, feature_names = \u001b[38;5;28mself\u001b[39m._calc_fstr(\u001b[38;5;28mtype\u001b[39m, data, reference_data, thread_count, verbose, model_output, shap_mode, interaction_indices,\n\u001b[32m   3250\u001b[39m                                       shap_calc_type, sage_n_samples, sage_batch_size, sage_detect_convergence)\n\u001b[32m   3251\u001b[39m \u001b[38;5;28;01mif\u001b[39;00m \u001b[38;5;28mtype\u001b[39m \u001b[38;5;129;01min\u001b[39;00m (EFstrType.PredictionValuesChange, EFstrType.LossFunctionChange,\n\u001b[32m   3252\u001b[39m             EFstrType.PredictionDiff, EFstrType.SageValues):\n\u001b[32m   3253\u001b[39m     feature_importances = [value[\u001b[32m0\u001b[39m] \u001b[38;5;28;01mfor\u001b[39;00m value \u001b[38;5;129;01min\u001b[39;00m fstr]\n",
      "\u001b[36mFile \u001b[39m\u001b[32mc:\\Users\\66891\\anaconda3\\Lib\\site-packages\\catboost\\core.py:1875\u001b[39m, in \u001b[36m_CatBoostBase._calc_fstr\u001b[39m\u001b[34m(self, type, pool, reference_data, thread_count, verbose, model_output, shap_mode, interaction_indices, shap_calc_type, sage_n_samples, sage_batch_size, sage_detect_convergence)\u001b[39m\n\u001b[32m   1860\u001b[39m \u001b[38;5;28;01mdef\u001b[39;00m \u001b[34m_calc_fstr\u001b[39m(\n\u001b[32m   1861\u001b[39m     \u001b[38;5;28mself\u001b[39m,\n\u001b[32m   1862\u001b[39m     \u001b[38;5;28mtype\u001b[39m,\n\u001b[32m   (...)\u001b[39m\u001b[32m   1873\u001b[39m     sage_detect_convergence\n\u001b[32m   1874\u001b[39m ):\n\u001b[32m-> \u001b[39m\u001b[32m1875\u001b[39m     \u001b[38;5;28;01mreturn\u001b[39;00m \u001b[38;5;28mself\u001b[39m._object._calc_fstr(\n\u001b[32m   1876\u001b[39m         \u001b[38;5;28mtype\u001b[39m.name,\n\u001b[32m   1877\u001b[39m         pool,\n\u001b[32m   1878\u001b[39m         reference_data,\n\u001b[32m   1879\u001b[39m         thread_count,\n\u001b[32m   1880\u001b[39m         verbose,\n\u001b[32m   1881\u001b[39m         model_output,\n\u001b[32m   1882\u001b[39m         shap_mode,\n\u001b[32m   1883\u001b[39m         interaction_indices,\n\u001b[32m   1884\u001b[39m         shap_calc_type,\n\u001b[32m   1885\u001b[39m         sage_n_samples,\n\u001b[32m   1886\u001b[39m         sage_batch_size,\n\u001b[32m   1887\u001b[39m         sage_detect_convergence\n\u001b[32m   1888\u001b[39m     )\n",
      "\u001b[36mFile \u001b[39m\u001b[32m_catboost.pyx:5257\u001b[39m, in \u001b[36m_catboost._CatBoost._calc_fstr\u001b[39m\u001b[34m()\u001b[39m\n",
      "\u001b[36mFile \u001b[39m\u001b[32m_catboost.pyx:5322\u001b[39m, in \u001b[36m_catboost._CatBoost._calc_fstr\u001b[39m\u001b[34m()\u001b[39m\n",
      "\u001b[31mCatBoostError\u001b[39m: catboost/libs/data/model_dataset_compatibility.cpp:72: Feature Years_of_Smoking is present in model but not in pool."
     ]
    }
   ],
   "source": [
    "explainer = shap.TreeExplainer(model)\n",
    "shap_values = explainer.shap_values(X_test)\n",
    "\n",
    "# Wykres ogólny\n",
    "shap.summary_plot(shap_values, X_test)\n",
    "shap.summary_plot(shap_values, X_test, plot_type=\"bar\")\n",
    "# Wykres dla pojedynczej próbki\n",
    "shap.plots.waterfall(explainer(X_test.iloc[20]))  # <-- odkomentuj dla konkretnej obserwacji\n",
    "\n"
   ]
  }
 ],
 "metadata": {
  "kernelspec": {
   "display_name": "base",
   "language": "python",
   "name": "python3"
  },
  "language_info": {
   "codemirror_mode": {
    "name": "ipython",
    "version": 3
   },
   "file_extension": ".py",
   "mimetype": "text/x-python",
   "name": "python",
   "nbconvert_exporter": "python",
   "pygments_lexer": "ipython3",
   "version": "3.11.5"
  }
 },
 "nbformat": 4,
 "nbformat_minor": 5
}
