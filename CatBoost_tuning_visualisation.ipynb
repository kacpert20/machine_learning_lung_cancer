{
 "cells": [
  {
   "cell_type": "code",
   "execution_count": 7,
   "id": "32440a6c",
   "metadata": {},
   "outputs": [],
   "source": [
    "#CATBOOST - trening i wizualizacja, jak model działa"
   ]
  },
  {
   "cell_type": "code",
   "execution_count": 8,
   "id": "42924141",
   "metadata": {},
   "outputs": [
    {
     "name": "stderr",
     "output_type": "stream",
     "text": [
      "[I 2025-04-22 14:08:05,564] A new study created in memory with name: no-name-3d67b8d5-a317-45e9-bf40-e4ae078dbaee\n",
      "[I 2025-04-22 14:08:39,677] Trial 0 finished with value: 0.06325659556389579 and parameters: {'depth': 5, 'l2_leaf_reg': 2.8402200829767588, 'bagging_temperature': 0.7637685941664579, 'random_strength': 2.9282310537548186, 'border_count': 254}. Best is trial 0 with value: 0.06325659556389579.\n",
      "[I 2025-04-22 14:09:17,096] Trial 1 finished with value: 0.06047221739500739 and parameters: {'depth': 6, 'l2_leaf_reg': 2.3110456542116404, 'bagging_temperature': 0.49370699399320317, 'random_strength': 8.981548766217655, 'border_count': 102}. Best is trial 0 with value: 0.06325659556389579.\n",
      "[I 2025-04-22 14:09:50,685] Trial 2 finished with value: 0.06301935283650899 and parameters: {'depth': 5, 'l2_leaf_reg': 9.006881571793429, 'bagging_temperature': 0.7880703420170456, 'random_strength': 3.725524626214848, 'border_count': 71}. Best is trial 0 with value: 0.06325659556389579.\n",
      "[I 2025-04-22 14:10:20,704] Trial 3 finished with value: 0.06345843021137645 and parameters: {'depth': 4, 'l2_leaf_reg': 9.29189045452554, 'bagging_temperature': 0.13318548649635542, 'random_strength': 2.226798429293886, 'border_count': 215}. Best is trial 3 with value: 0.06345843021137645.\n",
      "[I 2025-04-22 14:10:59,142] Trial 4 finished with value: 0.060885609565150066 and parameters: {'depth': 6, 'l2_leaf_reg': 6.777607450128395, 'bagging_temperature': 0.18580230266640785, 'random_strength': 3.382141671619258, 'border_count': 41}. Best is trial 3 with value: 0.06345843021137645.\n",
      "[I 2025-04-22 14:11:33,205] Trial 5 finished with value: 0.0631012547560576 and parameters: {'depth': 5, 'l2_leaf_reg': 9.584493594758625, 'bagging_temperature': 0.8373399475461435, 'random_strength': 9.692659225142094, 'border_count': 108}. Best is trial 3 with value: 0.06345843021137645.\n",
      "[I 2025-04-22 14:12:11,710] Trial 6 finished with value: 0.06116828233781658 and parameters: {'depth': 6, 'l2_leaf_reg': 6.30574627885409, 'bagging_temperature': 0.9688134162402936, 'random_strength': 8.465291547935083, 'border_count': 74}. Best is trial 3 with value: 0.06345843021137645.\n",
      "[I 2025-04-22 14:12:45,539] Trial 7 finished with value: 0.06308968633343233 and parameters: {'depth': 5, 'l2_leaf_reg': 6.853799163143996, 'bagging_temperature': 0.8570510631119461, 'random_strength': 2.4159751677448513, 'border_count': 119}. Best is trial 3 with value: 0.06345843021137645.\n",
      "[I 2025-04-22 14:13:26,269] Trial 8 finished with value: 0.061288354495767326 and parameters: {'depth': 6, 'l2_leaf_reg': 5.603521299005564, 'bagging_temperature': 0.9631445111993236, 'random_strength': 1.6774289986130042, 'border_count': 174}. Best is trial 3 with value: 0.06345843021137645.\n",
      "[I 2025-04-22 14:13:55,647] Trial 9 finished with value: 0.0635058147313099 and parameters: {'depth': 4, 'l2_leaf_reg': 4.785949550110075, 'bagging_temperature': 0.3990258332381227, 'random_strength': 3.799513336141956, 'border_count': 211}. Best is trial 9 with value: 0.0635058147313099.\n",
      "[I 2025-04-22 14:14:25,921] Trial 10 finished with value: 0.06334693362648709 and parameters: {'depth': 4, 'l2_leaf_reg': 4.175645229360776, 'bagging_temperature': 0.38037070646354754, 'random_strength': 6.08056610797558, 'border_count': 173}. Best is trial 9 with value: 0.0635058147313099.\n",
      "[I 2025-04-22 14:14:55,598] Trial 11 finished with value: 0.06343332544094694 and parameters: {'depth': 4, 'l2_leaf_reg': 4.128311878457998, 'bagging_temperature': 0.051804597385156484, 'random_strength': 0.5460070204884602, 'border_count': 241}. Best is trial 9 with value: 0.0635058147313099.\n",
      "[I 2025-04-22 14:15:25,311] Trial 12 finished with value: 0.0634531941708309 and parameters: {'depth': 4, 'l2_leaf_reg': 8.649689297316064, 'bagging_temperature': 0.2971517477071863, 'random_strength': 5.464354469500339, 'border_count': 212}. Best is trial 9 with value: 0.0635058147313099.\n",
      "[I 2025-04-22 14:15:55,013] Trial 13 finished with value: 0.06356312046635379 and parameters: {'depth': 4, 'l2_leaf_reg': 7.868064415169577, 'bagging_temperature': 0.010742501061085374, 'random_strength': 0.2744330681291114, 'border_count': 203}. Best is trial 13 with value: 0.06356312046635379.\n",
      "[I 2025-04-22 14:16:25,117] Trial 14 finished with value: 0.0633798590087547 and parameters: {'depth': 4, 'l2_leaf_reg': 7.7770402310820765, 'bagging_temperature': 0.6292684003181832, 'random_strength': 0.004767007969497694, 'border_count': 173}. Best is trial 13 with value: 0.06356312046635379.\n",
      "[I 2025-04-22 14:16:54,266] Trial 15 finished with value: 0.0631353556360934 and parameters: {'depth': 4, 'l2_leaf_reg': 4.504685686449833, 'bagging_temperature': 0.015574920364536393, 'random_strength': 7.057269101728787, 'border_count': 202}. Best is trial 13 with value: 0.06356312046635379.\n",
      "[I 2025-04-22 14:17:24,234] Trial 16 finished with value: 0.06334162764296039 and parameters: {'depth': 4, 'l2_leaf_reg': 7.689037729782978, 'bagging_temperature': 0.3368151292131984, 'random_strength': 4.546852219559461, 'border_count': 143}. Best is trial 13 with value: 0.06356312046635379.\n",
      "[I 2025-04-22 14:17:57,603] Trial 17 finished with value: 0.062253163413444036 and parameters: {'depth': 5, 'l2_leaf_reg': 1.0222136151029417, 'bagging_temperature': 0.6049274617675688, 'random_strength': 1.1833826572472121, 'border_count': 231}. Best is trial 13 with value: 0.06356312046635379.\n",
      "[I 2025-04-22 14:18:27,444] Trial 18 finished with value: 0.06348798506820841 and parameters: {'depth': 4, 'l2_leaf_reg': 5.1808556172909865, 'bagging_temperature': 0.23238962891813986, 'random_strength': 6.95261246063432, 'border_count': 195}. Best is trial 13 with value: 0.06356312046635379.\n",
      "[I 2025-04-22 14:19:01,142] Trial 19 finished with value: 0.06306919172766767 and parameters: {'depth': 5, 'l2_leaf_reg': 7.774029876124085, 'bagging_temperature': 0.4441576321403669, 'random_strength': 4.886514829151522, 'border_count': 158}. Best is trial 13 with value: 0.06356312046635379.\n",
      "[I 2025-04-22 14:19:30,555] Trial 20 finished with value: 0.06403866956416449 and parameters: {'depth': 4, 'l2_leaf_reg': 3.2054922301723288, 'bagging_temperature': 0.5985937960562558, 'random_strength': 4.014123864284676, 'border_count': 142}. Best is trial 20 with value: 0.06403866956416449.\n",
      "[I 2025-04-22 14:19:59,420] Trial 21 finished with value: 0.06358050581029524 and parameters: {'depth': 4, 'l2_leaf_reg': 3.2848262522574823, 'bagging_temperature': 0.6067513608876886, 'random_strength': 4.121953670728134, 'border_count': 137}. Best is trial 20 with value: 0.06403866956416449.\n",
      "[I 2025-04-22 14:20:28,218] Trial 22 finished with value: 0.06305905108803478 and parameters: {'depth': 4, 'l2_leaf_reg': 2.855955383220935, 'bagging_temperature': 0.6053760564150232, 'random_strength': 6.332606045324121, 'border_count': 135}. Best is trial 20 with value: 0.06403866956416449.\n",
      "[I 2025-04-22 14:20:57,472] Trial 23 finished with value: 0.06328554562370714 and parameters: {'depth': 4, 'l2_leaf_reg': 1.622724916125514, 'bagging_temperature': 0.5505502536444635, 'random_strength': 1.2216611784020501, 'border_count': 127}. Best is trial 20 with value: 0.06403866956416449.\n",
      "[I 2025-04-22 14:21:26,875] Trial 24 finished with value: 0.0631534701264483 and parameters: {'depth': 4, 'l2_leaf_reg': 3.501890061788044, 'bagging_temperature': 0.6990810732399892, 'random_strength': 4.383268241401143, 'border_count': 154}. Best is trial 20 with value: 0.06403866956416449.\n",
      "[I 2025-04-22 14:21:55,705] Trial 25 finished with value: 0.06353799972680452 and parameters: {'depth': 4, 'l2_leaf_reg': 5.874474969378161, 'bagging_temperature': 0.7024785812331402, 'random_strength': 5.616576743120725, 'border_count': 91}. Best is trial 20 with value: 0.06403866956416449.\n",
      "[I 2025-04-22 14:22:29,694] Trial 26 finished with value: 0.062214876156664024 and parameters: {'depth': 5, 'l2_leaf_reg': 3.521018223491224, 'bagging_temperature': 0.5048188193492501, 'random_strength': 2.82246929582187, 'border_count': 186}. Best is trial 20 with value: 0.06403866956416449.\n",
      "[I 2025-04-22 14:22:59,050] Trial 27 finished with value: 0.06318971713580716 and parameters: {'depth': 4, 'l2_leaf_reg': 2.077518992844957, 'bagging_temperature': 0.678712962259931, 'random_strength': 7.537482567769319, 'border_count': 155}. Best is trial 20 with value: 0.06403866956416449.\n",
      "[I 2025-04-22 14:23:27,768] Trial 28 finished with value: 0.06309305332351182 and parameters: {'depth': 4, 'l2_leaf_reg': 3.4674154191131583, 'bagging_temperature': 0.5253131667276087, 'random_strength': 4.201012343969135, 'border_count': 122}. Best is trial 20 with value: 0.06403866956416449.\n",
      "[I 2025-04-22 14:24:01,630] Trial 29 finished with value: 0.06288094404644597 and parameters: {'depth': 5, 'l2_leaf_reg': 2.7694992496850945, 'bagging_temperature': 0.7560667357173017, 'random_strength': 3.0201799690142663, 'border_count': 250}. Best is trial 20 with value: 0.06403866956416449.\n"
     ]
    },
    {
     "name": "stdout",
     "output_type": "stream",
     "text": [
      "Best parameters: {'depth': 4, 'l2_leaf_reg': 3.2054922301723288, 'bagging_temperature': 0.5985937960562558, 'random_strength': 4.014123864284676, 'border_count': 142}\n"
     ]
    }
   ],
   "source": [
    "import optuna\n",
    "from catboost import CatBoostClassifier\n",
    "from sklearn.metrics import f1_score, precision_score\n",
    "from sklearn.model_selection import cross_val_score\n",
    "import joblib\n",
    "import shap\n",
    "import matplotlib.pyplot as plt\n",
    "import numpy as np\n",
    "import pandas as pd\n",
    "\n",
    "df = pd.read_csv('learning_set.csv')\n",
    "df.head()\n",
    "\n",
    "# Zakładamy, że kolumna celu nazywa się:\n",
    "target_column = 'Lung_Cancer_Diagnosis'\n",
    "\n",
    "X = df.drop(columns=[target_column])\n",
    "y = df[target_column]\n",
    "\n",
    "from sklearn.model_selection import train_test_split\n",
    "\n",
    "X_train, X_test, y_train, y_test = train_test_split(\n",
    "    X, y,\n",
    "    test_size=0.3,\n",
    "    stratify=y,        # zachowujemy proporcje klas!\n",
    "    random_state=42\n",
    ")\n",
    "\n",
    "def objective(trial):\n",
    "    params = {\n",
    "        \"iterations\": 1000,\n",
    "        \"learning_rate\": 0.05,\n",
    "        \"scale_pos_weight\": 20,\n",
    "        \"depth\": trial.suggest_int(\"depth\", 4, 6),\n",
    "        \"l2_leaf_reg\": trial.suggest_float(\"l2_leaf_reg\", 1.0, 10.0),\n",
    "        \"bagging_temperature\": trial.suggest_float(\"bagging_temperature\", 0.0, 1.0),\n",
    "        \"random_strength\": trial.suggest_float(\"random_strength\", 0.0, 10.0),\n",
    "        \"border_count\": trial.suggest_int(\"border_count\", 32, 255),\n",
    "        \"verbose\": 0,\n",
    "        \"loss_function\": 'Logloss',\n",
    "        \"eval_metric\": 'Recall',  # Można też: 'Precision' / 'Recall' / 'F1'\n",
    "        \"random_state\": 42,\n",
    "    }\n",
    "\n",
    "    model = CatBoostClassifier(**params)\n",
    "    \n",
    "    # używamy average_precision, bo lepiej działa na niezbalansowanych danych\n",
    "    score = cross_val_score(model, X_train, y_train, cv=3, scoring=\"average_precision\").mean()\n",
    "    return score\n",
    "\n",
    "study = optuna.create_study(direction=\"maximize\")\n",
    "study.optimize(objective, n_trials=30)#bo na razie nie mam czasu, a zaraz chce [przetestowac] co jak mi poszło\n",
    "\n",
    "print(\"Best parameters:\", study.best_params)\n"
   ]
  },
  {
   "cell_type": "code",
   "execution_count": 22,
   "id": "77dc6fc0",
   "metadata": {},
   "outputs": [
    {
     "name": "stdout",
     "output_type": "stream",
     "text": [
      "\n",
      "🔍 Najlepszy threshold (na podstawie F2-score): 0.35\n",
      "threshold    0.380000\n",
      "precision    0.070034\n",
      "recall       0.648287\n",
      "f2           0.244511\n",
      "Name: 28, dtype: float64\n"
     ]
    },
    {
     "data": {
      "image/png": "[encoded data removed]",
      "text/plain": [
       "<Figure size 1000x600 with 1 Axes>"
      ]
     },
     "metadata": {},
     "output_type": "display_data"
    },
    {
     "name": "stdout",
     "output_type": "stream",
     "text": [
      "✅ Best threshold: 0.35 \n"
     ]
    },
    {
     "data": {
      "image/png": "[encoded data removed]",
      "text/plain": [
       "<Figure size 600x500 with 2 Axes>"
      ]
     },
     "metadata": {},
     "output_type": "display_data"
    },
    {
     "name": "stdout",
     "output_type": "stream",
     "text": [
      "📊 Classification Report (custom threshold):\n",
      "              precision    recall  f1-score   support\n",
      "\n",
      "           0       0.98      0.63      0.77     61576\n",
      "           1       0.07      0.66      0.12      2539\n",
      "\n",
      "    accuracy                           0.63     64115\n",
      "   macro avg       0.52      0.64      0.45     64115\n",
      "weighted avg       0.94      0.63      0.74     64115\n",
      "\n",
      "F1 Score: 0.1240959833846382\n",
      "Precision (positive class): 0.0684981984932853\n"
     ]
    }
   ],
   "source": [
    "best_params = study.best_params\n",
    "model = CatBoostClassifier(\n",
    "    iterations=1000,\n",
    "    learning_rate=0.05,\n",
    "    scale_pos_weight=20,\n",
    "    random_state=42,\n",
    "    verbose=0,\n",
    "    **best_params\n",
    ")\n",
    "model.fit(X_train, y_train)\n",
    "\n",
    "# Predykcje prawdopodobieństw i dobór progu\n",
    "import numpy as np\n",
    "import pandas as pd\n",
    "import matplotlib.pyplot as plt\n",
    "from sklearn.metrics import precision_score, recall_score, f1_score\n",
    "\n",
    "# Przewidujemy prawdopodobieństwa\n",
    "y_probs = model.predict_proba(X_test)[:, 1]\n",
    "\n",
    "# Przygotowanie do optymalizacji progu\n",
    "thresholds = np.arange(0.1, 0.9, 0.01)\n",
    "results = []\n",
    "from sklearn.metrics import fbeta_score\n",
    "\n",
    "for thresh in thresholds:\n",
    "    y_pred_thresh = (y_probs >= thresh).astype(int)\n",
    "    precision = precision_score(y_test, y_pred_thresh, zero_division=0)\n",
    "    recall = recall_score(y_test, y_pred_thresh, zero_division=0)\n",
    "    f2 = fbeta_score(y_test, y_pred_thresh, beta=2, zero_division=0)\n",
    "    results.append({'threshold': thresh, 'precision': precision, 'recall': recall, 'f2': f2})\n",
    "\n",
    "# Konwertujemy wyniki do DataFrame\n",
    "results_df = pd.DataFrame(results)\n",
    "\n",
    "# Szukamy najlepszego progu\n",
    "best_row = results_df.loc[results_df['f2'].idxmax()]\n",
    "best_thresh = best_row['threshold']\n",
    "\n",
    "#ponieważ działa to giga kiepsko\n",
    "best_thresh = 0.35\n",
    "\n",
    "print(f\"\\n🔍 Najlepszy threshold (na podstawie F2-score): {best_thresh:.2f}\")\n",
    "print(best_row)\n",
    "\n",
    "# Rysujemy wykres\n",
    "plt.figure(figsize=(10, 6))\n",
    "plt.plot(results_df['threshold'], results_df['precision'], label='Precision')\n",
    "plt.plot(results_df['threshold'], results_df['recall'], label='Recall')\n",
    "plt.plot(results_df['threshold'], results_df['f2'], label='F2-score', linewidth=2)\n",
    "plt.axvline(best_thresh, color='gray', linestyle='--', label=f'Best Threshold ({best_thresh:.2f})')\n",
    "plt.xlabel('Threshold')\n",
    "plt.ylabel('Score')\n",
    "plt.title('Threshold vs Precision, Recall, F1-score')\n",
    "plt.legend()\n",
    "plt.grid(True)\n",
    "plt.tight_layout()\n",
    "plt.show()\n",
    "\n",
    "\n",
    "print(f\"✅ Best threshold: {best_thresh:.2f} \")\n",
    "\n",
    "# Ostateczna predykcja z najlepszym thresholdem\n",
    "y_pred_final = (y_probs >= best_thresh).astype(int)\n",
    "from sklearn.metrics import classification_report, confusion_matrix\n",
    "import seaborn as sns\n",
    "cm = confusion_matrix(y_test, y_pred_final)\n",
    "\n",
    "plt.figure(figsize=(6, 5))\n",
    "sns.heatmap(cm, annot=True, fmt=\"d\", cmap=\"Blues\", xticklabels=[\"Pred 0\", \"Pred 1\"], yticklabels=[\"True 0\", \"True 1\"])\n",
    "plt.title(\"Confusion Matrix (custom threshold)\")\n",
    "plt.xlabel(\"Predicted\")\n",
    "plt.ylabel(\"True\")\n",
    "plt.tight_layout()\n",
    "plt.show()\n",
    "\n",
    "# Classification report\n",
    "print(\"📊 Classification Report (custom threshold):\")\n",
    "print(classification_report(y_test, y_pred_final, digits=2))\n",
    "\n",
    "print(\"F1 Score:\", f1_score(y_test, y_pred_final))\n",
    "print(\"Precision (positive class):\", precision_score(y_test, y_pred_final))\n"
   ]
  },
  {
   "cell_type": "code",
   "execution_count": null,
   "id": "fb376a98",
   "metadata": {},
   "outputs": [],
   "source": []
  },
  {
   "cell_type": "code",
   "execution_count": 23,
   "id": "fdb8e684",
   "metadata": {},
   "outputs": [],
   "source": [
    "import pickle\n",
    "def save_model(model, path):\n",
    "    with open(path, 'wb') as f:\n",
    "        pickle.dump(model, f)\n",
    "\n",
    "save_model(model, \"models/catboost.pkl\")\n"
   ]
  },
  {
   "cell_type": "code",
   "execution_count": 24,
   "id": "34510a14",
   "metadata": {},
   "outputs": [
    {
     "data": {
      "application/vnd.plotly.v1+json": {
       "config": {
        "plotlyServerURL": "https://plot.ly"
       },
       "data": [
        {
         "mode": "markers",
         "name": "Objective Value",
         "type": "scatter",
         "x": [
          0,
          1,
          2,
          3,
          4,
          5,
          6,
          7,
          8,
          9,
          10,
          11,
          12,
          13,
          14,
          15,
          16,
          17,
          18,
          19,
          20,
          21,
          22,
          23,
          24,
          25,
          26,
          27,
          28,
          29
         ],
         "y": [
          0.06325659556389579,
          0.06047221739500739,
          0.06301935283650899,
          0.06345843021137645,
          0.060885609565150066,
          0.0631012547560576,
          0.06116828233781658,
          0.06308968633343233,
          0.061288354495767326,
          0.0635058147313099,
          0.06334693362648709,
          0.06343332544094694,
          0.0634531941708309,
          0.06356312046635379,
          0.0633798590087547,
          0.0631353556360934,
          0.06334162764296039,
          0.062253163413444036,
          0.06348798506820841,
          0.06306919172766767,
          0.06403866956416449,
          0.06358050581029524,
          0.06305905108803478,
          0.06328554562370714,
          0.0631534701264483,
          0.06353799972680452,
          0.062214876156664024,
          0.06318971713580716,
          0.06309305332351182,
          0.06288094404644597
         ]
        },
        {
         "mode": "lines",
         "name": "Best Value",
         "type": "scatter",
         "x": [
          0,
          1,
          2,
          3,
          4,
          5,
          6,
          7,
          8,
          9,
          10,
          11,
          12,
          13,
          14,
          15,
          16,
          17,
          18,
          19,
          20,
          21,
          22,
          23,
          24,
          25,
          26,
          27,
          28,
          29
         ],
         "y": [
          0.06325659556389579,
          0.06325659556389579,
          0.06325659556389579,
          0.06345843021137645,
          0.06345843021137645,
          0.06345843021137645,
          0.06345843021137645,
          0.06345843021137645,
          0.06345843021137645,
          0.0635058147313099,
          0.0635058147313099,
          0.0635058147313099,
          0.0635058147313099,
          0.06356312046635379,
          0.06356312046635379,
          0.06356312046635379,
          0.06356312046635379,
          0.06356312046635379,
          0.06356312046635379,
          0.06356312046635379,
          0.06403866956416449,
          0.06403866956416449,
          0.06403866956416449,
          0.06403866956416449,
          0.06403866956416449,
          0.06403866956416449,
          0.06403866956416449,
          0.06403866956416449,
          0.06403866956416449,
          0.06403866956416449
         ]
        },
        {
         "marker": {
          "color": "#cccccc"
         },
         "mode": "markers",
         "name": "Infeasible Trial",
         "showlegend": false,
         "type": "scatter",
         "x": [],
         "y": []
        }
       ],
       "layout": {
        "template": {
         "data": {
          "bar": [
           {
            "error_x": {
             "color": "#2a3f5f"
            },
            "error_y": {
             "color": "#2a3f5f"
            },
            "marker": {
             "line": {
              "color": "#E5ECF6",
              "width": 0.5
             },
             "pattern": {
              "fillmode": "overlay",
              "size": 10,
              "solidity": 0.2
             }
            },
            "type": "bar"
           }
          ],
          "barpolar": [
           {
            "marker": {
             "line": {
              "color": "#E5ECF6",
              "width": 0.5
             },
             "pattern": {
              "fillmode": "overlay",
              "size": 10,
              "solidity": 0.2
             }
            },
            "type": "barpolar"
           }
          ],
          "carpet": [
           {
            "aaxis": {
             "endlinecolor": "#2a3f5f",
             "gridcolor": "white",
             "linecolor": "white",
             "minorgridcolor": "white",
             "startlinecolor": "#2a3f5f"
            },
            "baxis": {
             "endlinecolor": "#2a3f5f",
             "gridcolor": "white",
             "linecolor": "white",
             "minorgridcolor": "white",
             "startlinecolor": "#2a3f5f"
            },
            "type": "carpet"
           }
          ],
          "choropleth": [
           {
            "colorbar": {
             "outlinewidth": 0,
             "ticks": ""
            },
            "type": "choropleth"
           }
          ],
          "contour": [
           {
            "colorbar": {
             "outlinewidth": 0,
             "ticks": ""
            },
            "colorscale": [
             [
              0,
              "#0d0887"
             ],
             [
              0.1111111111111111,
              "#46039f"
             ],
             [
              0.2222222222222222,
              "#7201a8"
             ],
             [
              0.3333333333333333,
              "#9c179e"
             ],
             [
              0.4444444444444444,
              "#bd3786"
             ],
             [
              0.5555555555555556,
              "#d8576b"
             ],
             [
              0.6666666666666666,
              "#ed7953"
             ],
             [
              0.7777777777777778,
              "#fb9f3a"
             ],
             [
              0.8888888888888888,
              "#fdca26"
             ],
             [
              1,
              "#f0f921"
             ]
            ],
            "type": "contour"
           }
          ],
          "contourcarpet": [
           {
            "colorbar": {
             "outlinewidth": 0,
             "ticks": ""
            },
            "type": "contourcarpet"
           }
          ],
          "heatmap": [
           {
            "colorbar": {
             "outlinewidth": 0,
             "ticks": ""
            },
            "colorscale": [
             [
              0,
              "#0d0887"
             ],
             [
              0.1111111111111111,
              "#46039f"
             ],
             [
              0.2222222222222222,
              "#7201a8"
             ],
             [
              0.3333333333333333,
              "#9c179e"
             ],
             [
              0.4444444444444444,
              "#bd3786"
             ],
             [
              0.5555555555555556,
              "#d8576b"
             ],
             [
              0.6666666666666666,
              "#ed7953"
             ],
             [
              0.7777777777777778,
              "#fb9f3a"
             ],
             [
              0.8888888888888888,
              "#fdca26"
             ],
             [
              1,
              "#f0f921"
             ]
            ],
            "type": "heatmap"
           }
          ],
          "heatmapgl": [
           {
            "colorbar": {
             "outlinewidth": 0,
             "ticks": ""
            },
            "colorscale": [
             [
              0,
              "#0d0887"
             ],
             [
              0.1111111111111111,
              "#46039f"
             ],
             [
              0.2222222222222222,
              "#7201a8"
             ],
             [
              0.3333333333333333,
              "#9c179e"
             ],
             [
              0.4444444444444444,
              "#bd3786"
             ],
             [
              0.5555555555555556,
              "#d8576b"
             ],
             [
              0.6666666666666666,
              "#ed7953"
             ],
             [
              0.7777777777777778,
              "#fb9f3a"
             ],
             [
              0.8888888888888888,
              "#fdca26"
             ],
             [
              1,
              "#f0f921"
             ]
            ],
            "type": "heatmapgl"
           }
          ],
          "histogram": [
           {
            "marker": {
             "pattern": {
              "fillmode": "overlay",
              "size": 10,
              "solidity": 0.2
             }
            },
            "type": "histogram"
           }
          ],
          "histogram2d": [
           {
            "colorbar": {
             "outlinewidth": 0,
             "ticks": ""
            },
            "colorscale": [
             [
              0,
              "#0d0887"
             ],
             [
              0.1111111111111111,
              "#46039f"
             ],
             [
              0.2222222222222222,
              "#7201a8"
             ],
             [
              0.3333333333333333,
              "#9c179e"
             ],
             [
              0.4444444444444444,
              "#bd3786"
             ],
             [
              0.5555555555555556,
              "#d8576b"
             ],
             [
              0.6666666666666666,
              "#ed7953"
             ],
             [
              0.7777777777777778,
              "#fb9f3a"
             ],
             [
              0.8888888888888888,
              "#fdca26"
             ],
             [
              1,
              "#f0f921"
             ]
            ],
            "type": "histogram2d"
           }
          ],
          "histogram2dcontour": [
           {
            "colorbar": {
             "outlinewidth": 0,
             "ticks": ""
            },
            "colorscale": [
             [
              0,
              "#0d0887"
             ],
             [
              0.1111111111111111,
              "#46039f"
             ],
             [
              0.2222222222222222,
              "#7201a8"
             ],
             [
              0.3333333333333333,
              "#9c179e"
             ],
             [
              0.4444444444444444,
              "#bd3786"
             ],
             [
              0.5555555555555556,
              "#d8576b"
             ],
             [
              0.6666666666666666,
              "#ed7953"
             ],
             [
              0.7777777777777778,
              "#fb9f3a"
             ],
             [
              0.8888888888888888,
              "#fdca26"
             ],
             [
              1,
              "#f0f921"
             ]
            ],
            "type": "histogram2dcontour"
           }
          ],
          "mesh3d": [
           {
            "colorbar": {
             "outlinewidth": 0,
             "ticks": ""
            },
            "type": "mesh3d"
           }
          ],
          "parcoords": [
           {
            "line": {
             "colorbar": {
              "outlinewidth": 0,
              "ticks": ""
             }
            },
            "type": "parcoords"
           }
          ],
          "pie": [
           {
            "automargin": true,
            "type": "pie"
           }
          ],
          "scatter": [
           {
            "fillpattern": {
             "fillmode": "overlay",
             "size": 10,
             "solidity": 0.2
            },
            "type": "scatter"
           }
          ],
          "scatter3d": [
           {
            "line": {
             "colorbar": {
              "outlinewidth": 0,
              "ticks": ""
             }
            },
            "marker": {
             "colorbar": {
              "outlinewidth": 0,
              "ticks": ""
             }
            },
            "type": "scatter3d"
           }
          ],
          "scattercarpet": [
           {
            "marker": {
             "colorbar": {
              "outlinewidth": 0,
              "ticks": ""
             }
            },
            "type": "scattercarpet"
           }
          ],
          "scattergeo": [
           {
            "marker": {
             "colorbar": {
              "outlinewidth": 0,
              "ticks": ""
             }
            },
            "type": "scattergeo"
           }
          ],
          "scattergl": [
           {
            "marker": {
             "colorbar": {
              "outlinewidth": 0,
              "ticks": ""
             }
            },
            "type": "scattergl"
           }
          ],
          "scattermapbox": [
           {
            "marker": {
             "colorbar": {
              "outlinewidth": 0,
              "ticks": ""
             }
            },
            "type": "scattermapbox"
           }
          ],
          "scatterpolar": [
           {
            "marker": {
             "colorbar": {
              "outlinewidth": 0,
              "ticks": ""
             }
            },
            "type": "scatterpolar"
           }
          ],
          "scatterpolargl": [
           {
            "marker": {
             "colorbar": {
              "outlinewidth": 0,
              "ticks": ""
             }
            },
            "type": "scatterpolargl"
           }
          ],
          "scatterternary": [
           {
            "marker": {
             "colorbar": {
              "outlinewidth": 0,
              "ticks": ""
             }
            },
            "type": "scatterternary"
           }
          ],
          "surface": [
           {
            "colorbar": {
             "outlinewidth": 0,
             "ticks": ""
            },
            "colorscale": [
             [
              0,
              "#0d0887"
             ],
             [
              0.1111111111111111,
              "#46039f"
             ],
             [
              0.2222222222222222,
              "#7201a8"
             ],
             [
              0.3333333333333333,
              "#9c179e"
             ],
             [
              0.4444444444444444,
              "#bd3786"
             ],
             [
              0.5555555555555556,
              "#d8576b"
             ],
             [
              0.6666666666666666,
              "#ed7953"
             ],
             [
              0.7777777777777778,
              "#fb9f3a"
             ],
             [
              0.8888888888888888,
              "#fdca26"
             ],
             [
              1,
              "#f0f921"
             ]
            ],
            "type": "surface"
           }
          ],
          "table": [
           {
            "cells": {
             "fill": {
              "color": "#EBF0F8"
             },
             "line": {
              "color": "white"
             }
            },
            "header": {
             "fill": {
              "color": "#C8D4E3"
             },
             "line": {
              "color": "white"
             }
            },
            "type": "table"
           }
          ]
         },
         "layout": {
          "annotationdefaults": {
           "arrowcolor": "#2a3f5f",
           "arrowhead": 0,
           "arrowwidth": 1
          },
          "autotypenumbers": "strict",
          "coloraxis": {
           "colorbar": {
            "outlinewidth": 0,
            "ticks": ""
           }
          },
          "colorscale": {
           "diverging": [
            [
             0,
             "#8e0152"
            ],
            [
             0.1,
             "#c51b7d"
            ],
            [
             0.2,
             "#de77ae"
            ],
            [
             0.3,
             "#f1b6da"
            ],
            [
             0.4,
             "#fde0ef"
            ],
            [
             0.5,
             "#f7f7f7"
            ],
            [
             0.6,
             "#e6f5d0"
            ],
            [
             0.7,
             "#b8e186"
            ],
            [
             0.8,
             "#7fbc41"
            ],
            [
             0.9,
             "#4d9221"
            ],
            [
             1,
             "#276419"
            ]
           ],
           "sequential": [
            [
             0,
             "#0d0887"
            ],
            [
             0.1111111111111111,
             "#46039f"
            ],
            [
             0.2222222222222222,
             "#7201a8"
            ],
            [
             0.3333333333333333,
             "#9c179e"
            ],
            [
             0.4444444444444444,
             "#bd3786"
            ],
            [
             0.5555555555555556,
             "#d8576b"
            ],
            [
             0.6666666666666666,
             "#ed7953"
            ],
            [
             0.7777777777777778,
             "#fb9f3a"
            ],
            [
             0.8888888888888888,
             "#fdca26"
            ],
            [
             1,
             "#f0f921"
            ]
           ],
           "sequentialminus": [
            [
             0,
             "#0d0887"
            ],
            [
             0.1111111111111111,
             "#46039f"
            ],
            [
             0.2222222222222222,
             "#7201a8"
            ],
            [
             0.3333333333333333,
             "#9c179e"
            ],
            [
             0.4444444444444444,
             "#bd3786"
            ],
            [
             0.5555555555555556,
             "#d8576b"
            ],
            [
             0.6666666666666666,
             "#ed7953"
            ],
            [
             0.7777777777777778,
             "#fb9f3a"
            ],
            [
             0.8888888888888888,
             "#fdca26"
            ],
            [
             1,
             "#f0f921"
            ]
           ]
          },
          "colorway": [
           "#636efa",
           "#EF553B",
           "#00cc96",
           "#ab63fa",
           "#FFA15A",
           "#19d3f3",
           "#FF6692",
           "#B6E880",
           "#FF97FF",
           "#FECB52"
          ],
          "font": {
           "color": "#2a3f5f"
          },
          "geo": {
           "bgcolor": "white",
           "lakecolor": "white",
           "landcolor": "#E5ECF6",
           "showlakes": true,
           "showland": true,
           "subunitcolor": "white"
          },
          "hoverlabel": {
           "align": "left"
          },
          "hovermode": "closest",
          "mapbox": {
           "style": "light"
          },
          "paper_bgcolor": "white",
          "plot_bgcolor": "#E5ECF6",
          "polar": {
           "angularaxis": {
            "gridcolor": "white",
            "linecolor": "white",
            "ticks": ""
           },
           "bgcolor": "#E5ECF6",
           "radialaxis": {
            "gridcolor": "white",
            "linecolor": "white",
            "ticks": ""
           }
          },
          "scene": {
           "xaxis": {
            "backgroundcolor": "#E5ECF6",
            "gridcolor": "white",
            "gridwidth": 2,
            "linecolor": "white",
            "showbackground": true,
            "ticks": "",
            "zerolinecolor": "white"
           },
           "yaxis": {
            "backgroundcolor": "#E5ECF6",
            "gridcolor": "white",
            "gridwidth": 2,
            "linecolor": "white",
            "showbackground": true,
            "ticks": "",
            "zerolinecolor": "white"
           },
           "zaxis": {
            "backgroundcolor": "#E5ECF6",
            "gridcolor": "white",
            "gridwidth": 2,
            "linecolor": "white",
            "showbackground": true,
            "ticks": "",
            "zerolinecolor": "white"
           }
          },
          "shapedefaults": {
           "line": {
            "color": "#2a3f5f"
           }
          },
          "ternary": {
           "aaxis": {
            "gridcolor": "white",
            "linecolor": "white",
            "ticks": ""
           },
           "baxis": {
            "gridcolor": "white",
            "linecolor": "white",
            "ticks": ""
           },
           "bgcolor": "#E5ECF6",
           "caxis": {
            "gridcolor": "white",
            "linecolor": "white",
            "ticks": ""
           }
          },
          "title": {
           "x": 0.05
          },
          "xaxis": {
           "automargin": true,
           "gridcolor": "white",
           "linecolor": "white",
           "ticks": "",
           "title": {
            "standoff": 15
           },
           "zerolinecolor": "white",
           "zerolinewidth": 2
          },
          "yaxis": {
           "automargin": true,
           "gridcolor": "white",
           "linecolor": "white",
           "ticks": "",
           "title": {
            "standoff": 15
           },
           "zerolinecolor": "white",
           "zerolinewidth": 2
          }
         }
        },
        "title": {
         "text": "Optimization History Plot"
        },
        "xaxis": {
         "title": {
          "text": "Trial"
         }
        },
        "yaxis": {
         "title": {
          "text": "Objective Value"
         }
        }
       }
      }
     },
     "metadata": {},
     "output_type": "display_data"
    },
    {
     "data": {
      "application/vnd.plotly.v1+json": {
       "config": {
        "plotlyServerURL": "https://plot.ly"
       },
       "data": [
        {
         "cliponaxis": false,
         "hovertemplate": [
          "l2_leaf_reg (FloatDistribution): 0.014864613659935789<extra></extra>",
          "random_strength (FloatDistribution): 0.021289133550452054<extra></extra>",
          "border_count (IntDistribution): 0.03233596848018735<extra></extra>",
          "bagging_temperature (FloatDistribution): 0.034914631774549405<extra></extra>",
          "depth (IntDistribution): 0.8965956525348754<extra></extra>"
         ],
         "name": "Objective Value",
         "orientation": "h",
         "text": [
          "0.01",
          "0.02",
          "0.03",
          "0.03",
          "0.90"
         ],
         "textposition": "outside",
         "type": "bar",
         "x": [
          0.014864613659935789,
          0.021289133550452054,
          0.03233596848018735,
          0.034914631774549405,
          0.8965956525348754
         ],
         "y": [
          "l2_leaf_reg",
          "random_strength",
          "border_count",
          "bagging_temperature",
          "depth"
         ]
        }
       ],
       "layout": {
        "template": {
         "data": {
          "bar": [
           {
            "error_x": {
             "color": "#2a3f5f"
            },
            "error_y": {
             "color": "#2a3f5f"
            },
            "marker": {
             "line": {
              "color": "#E5ECF6",
              "width": 0.5
             },
             "pattern": {
              "fillmode": "overlay",
              "size": 10,
              "solidity": 0.2
             }
            },
            "type": "bar"
           }
          ],
          "barpolar": [
           {
            "marker": {
             "line": {
              "color": "#E5ECF6",
              "width": 0.5
             },
             "pattern": {
              "fillmode": "overlay",
              "size": 10,
              "solidity": 0.2
             }
            },
            "type": "barpolar"
           }
          ],
          "carpet": [
           {
            "aaxis": {
             "endlinecolor": "#2a3f5f",
             "gridcolor": "white",
             "linecolor": "white",
             "minorgridcolor": "white",
             "startlinecolor": "#2a3f5f"
            },
            "baxis": {
             "endlinecolor": "#2a3f5f",
             "gridcolor": "white",
             "linecolor": "white",
             "minorgridcolor": "white",
             "startlinecolor": "#2a3f5f"
            },
            "type": "carpet"
           }
          ],
          "choropleth": [
           {
            "colorbar": {
             "outlinewidth": 0,
             "ticks": ""
            },
            "type": "choropleth"
           }
          ],
          "contour": [
           {
            "colorbar": {
             "outlinewidth": 0,
             "ticks": ""
            },
            "colorscale": [
             [
              0,
              "#0d0887"
             ],
             [
              0.1111111111111111,
              "#46039f"
             ],
             [
              0.2222222222222222,
              "#7201a8"
             ],
             [
              0.3333333333333333,
              "#9c179e"
             ],
             [
              0.4444444444444444,
              "#bd3786"
             ],
             [
              0.5555555555555556,
              "#d8576b"
             ],
             [
              0.6666666666666666,
              "#ed7953"
             ],
             [
              0.7777777777777778,
              "#fb9f3a"
             ],
             [
              0.8888888888888888,
              "#fdca26"
             ],
             [
              1,
              "#f0f921"
             ]
            ],
            "type": "contour"
           }
          ],
          "contourcarpet": [
           {
            "colorbar": {
             "outlinewidth": 0,
             "ticks": ""
            },
            "type": "contourcarpet"
           }
          ],
          "heatmap": [
           {
            "colorbar": {
             "outlinewidth": 0,
             "ticks": ""
            },
            "colorscale": [
             [
              0,
              "#0d0887"
             ],
             [
              0.1111111111111111,
              "#46039f"
             ],
             [
              0.2222222222222222,
              "#7201a8"
             ],
             [
              0.3333333333333333,
              "#9c179e"
             ],
             [
              0.4444444444444444,
              "#bd3786"
             ],
             [
              0.5555555555555556,
              "#d8576b"
             ],
             [
              0.6666666666666666,
              "#ed7953"
             ],
             [
              0.7777777777777778,
              "#fb9f3a"
             ],
             [
              0.8888888888888888,
              "#fdca26"
             ],
             [
              1,
              "#f0f921"
             ]
            ],
            "type": "heatmap"
           }
          ],
          "heatmapgl": [
           {
            "colorbar": {
             "outlinewidth": 0,
             "ticks": ""
            },
            "colorscale": [
             [
              0,
              "#0d0887"
             ],
             [
              0.1111111111111111,
              "#46039f"
             ],
             [
              0.2222222222222222,
              "#7201a8"
             ],
             [
              0.3333333333333333,
              "#9c179e"
             ],
             [
              0.4444444444444444,
              "#bd3786"
             ],
             [
              0.5555555555555556,
              "#d8576b"
             ],
             [
              0.6666666666666666,
              "#ed7953"
             ],
             [
              0.7777777777777778,
              "#fb9f3a"
             ],
             [
              0.8888888888888888,
              "#fdca26"
             ],
             [
              1,
              "#f0f921"
             ]
            ],
            "type": "heatmapgl"
           }
          ],
          "histogram": [
           {
            "marker": {
             "pattern": {
              "fillmode": "overlay",
              "size": 10,
              "solidity": 0.2
             }
            },
            "type": "histogram"
           }
          ],
          "histogram2d": [
           {
            "colorbar": {
             "outlinewidth": 0,
             "ticks": ""
            },
            "colorscale": [
             [
              0,
              "#0d0887"
             ],
             [
              0.1111111111111111,
              "#46039f"
             ],
             [
              0.2222222222222222,
              "#7201a8"
             ],
             [
              0.3333333333333333,
              "#9c179e"
             ],
             [
              0.4444444444444444,
              "#bd3786"
             ],
             [
              0.5555555555555556,
              "#d8576b"
             ],
             [
              0.6666666666666666,
              "#ed7953"
             ],
             [
              0.7777777777777778,
              "#fb9f3a"
             ],
             [
              0.8888888888888888,
              "#fdca26"
             ],
             [
              1,
              "#f0f921"
             ]
            ],
            "type": "histogram2d"
           }
          ],
          "histogram2dcontour": [
           {
            "colorbar": {
             "outlinewidth": 0,
             "ticks": ""
            },
            "colorscale": [
             [
              0,
              "#0d0887"
             ],
             [
              0.1111111111111111,
              "#46039f"
             ],
             [
              0.2222222222222222,
              "#7201a8"
             ],
             [
              0.3333333333333333,
              "#9c179e"
             ],
             [
              0.4444444444444444,
              "#bd3786"
             ],
             [
              0.5555555555555556,
              "#d8576b"
             ],
             [
              0.6666666666666666,
              "#ed7953"
             ],
             [
              0.7777777777777778,
              "#fb9f3a"
             ],
             [
              0.8888888888888888,
              "#fdca26"
             ],
             [
              1,
              "#f0f921"
             ]
            ],
            "type": "histogram2dcontour"
           }
          ],
          "mesh3d": [
           {
            "colorbar": {
             "outlinewidth": 0,
             "ticks": ""
            },
            "type": "mesh3d"
           }
          ],
          "parcoords": [
           {
            "line": {
             "colorbar": {
              "outlinewidth": 0,
              "ticks": ""
             }
            },
            "type": "parcoords"
           }
          ],
          "pie": [
           {
            "automargin": true,
            "type": "pie"
           }
          ],
          "scatter": [
           {
            "fillpattern": {
             "fillmode": "overlay",
             "size": 10,
             "solidity": 0.2
            },
            "type": "scatter"
           }
          ],
          "scatter3d": [
           {
            "line": {
             "colorbar": {
              "outlinewidth": 0,
              "ticks": ""
             }
            },
            "marker": {
             "colorbar": {
              "outlinewidth": 0,
              "ticks": ""
             }
            },
            "type": "scatter3d"
           }
          ],
          "scattercarpet": [
           {
            "marker": {
             "colorbar": {
              "outlinewidth": 0,
              "ticks": ""
             }
            },
            "type": "scattercarpet"
           }
          ],
          "scattergeo": [
           {
            "marker": {
             "colorbar": {
              "outlinewidth": 0,
              "ticks": ""
             }
            },
            "type": "scattergeo"
           }
          ],
          "scattergl": [
           {
            "marker": {
             "colorbar": {
              "outlinewidth": 0,
              "ticks": ""
             }
            },
            "type": "scattergl"
           }
          ],
          "scattermapbox": [
           {
            "marker": {
             "colorbar": {
              "outlinewidth": 0,
              "ticks": ""
             }
            },
            "type": "scattermapbox"
           }
          ],
          "scatterpolar": [
           {
            "marker": {
             "colorbar": {
              "outlinewidth": 0,
              "ticks": ""
             }
            },
            "type": "scatterpolar"
           }
          ],
          "scatterpolargl": [
           {
            "marker": {
             "colorbar": {
              "outlinewidth": 0,
              "ticks": ""
             }
            },
            "type": "scatterpolargl"
           }
          ],
          "scatterternary": [
           {
            "marker": {
             "colorbar": {
              "outlinewidth": 0,
              "ticks": ""
             }
            },
            "type": "scatterternary"
           }
          ],
          "surface": [
           {
            "colorbar": {
             "outlinewidth": 0,
             "ticks": ""
            },
            "colorscale": [
             [
              0,
              "#0d0887"
             ],
             [
              0.1111111111111111,
              "#46039f"
             ],
             [
              0.2222222222222222,
              "#7201a8"
             ],
             [
              0.3333333333333333,
              "#9c179e"
             ],
             [
              0.4444444444444444,
              "#bd3786"
             ],
             [
              0.5555555555555556,
              "#d8576b"
             ],
             [
              0.6666666666666666,
              "#ed7953"
             ],
             [
              0.7777777777777778,
              "#fb9f3a"
             ],
             [
              0.8888888888888888,
              "#fdca26"
             ],
             [
              1,
              "#f0f921"
             ]
            ],
            "type": "surface"
           }
          ],
          "table": [
           {
            "cells": {
             "fill": {
              "color": "#EBF0F8"
             },
             "line": {
              "color": "white"
             }
            },
            "header": {
             "fill": {
              "color": "#C8D4E3"
             },
             "line": {
              "color": "white"
             }
            },
            "type": "table"
           }
          ]
         },
         "layout": {
          "annotationdefaults": {
           "arrowcolor": "#2a3f5f",
           "arrowhead": 0,
           "arrowwidth": 1
          },
          "autotypenumbers": "strict",
          "coloraxis": {
           "colorbar": {
            "outlinewidth": 0,
            "ticks": ""
           }
          },
          "colorscale": {
           "diverging": [
            [
             0,
             "#8e0152"
            ],
            [
             0.1,
             "#c51b7d"
            ],
            [
             0.2,
             "#de77ae"
            ],
            [
             0.3,
             "#f1b6da"
            ],
            [
             0.4,
             "#fde0ef"
            ],
            [
             0.5,
             "#f7f7f7"
            ],
            [
             0.6,
             "#e6f5d0"
            ],
            [
             0.7,
             "#b8e186"
            ],
            [
             0.8,
             "#7fbc41"
            ],
            [
             0.9,
             "#4d9221"
            ],
            [
             1,
             "#276419"
            ]
           ],
           "sequential": [
            [
             0,
             "#0d0887"
            ],
            [
             0.1111111111111111,
             "#46039f"
            ],
            [
             0.2222222222222222,
             "#7201a8"
            ],
            [
             0.3333333333333333,
             "#9c179e"
            ],
            [
             0.4444444444444444,
             "#bd3786"
            ],
            [
             0.5555555555555556,
             "#d8576b"
            ],
            [
             0.6666666666666666,
             "#ed7953"
            ],
            [
             0.7777777777777778,
             "#fb9f3a"
            ],
            [
             0.8888888888888888,
             "#fdca26"
            ],
            [
             1,
             "#f0f921"
            ]
           ],
           "sequentialminus": [
            [
             0,
             "#0d0887"
            ],
            [
             0.1111111111111111,
             "#46039f"
            ],
            [
             0.2222222222222222,
             "#7201a8"
            ],
            [
             0.3333333333333333,
             "#9c179e"
            ],
            [
             0.4444444444444444,
             "#bd3786"
            ],
            [
             0.5555555555555556,
             "#d8576b"
            ],
            [
             0.6666666666666666,
             "#ed7953"
            ],
            [
             0.7777777777777778,
             "#fb9f3a"
            ],
            [
             0.8888888888888888,
             "#fdca26"
            ],
            [
             1,
             "#f0f921"
            ]
           ]
          },
          "colorway": [
           "#636efa",
           "#EF553B",
           "#00cc96",
           "#ab63fa",
           "#FFA15A",
           "#19d3f3",
           "#FF6692",
           "#B6E880",
           "#FF97FF",
           "#FECB52"
          ],
          "font": {
           "color": "#2a3f5f"
          },
          "geo": {
           "bgcolor": "white",
           "lakecolor": "white",
           "landcolor": "#E5ECF6",
           "showlakes": true,
           "showland": true,
           "subunitcolor": "white"
          },
          "hoverlabel": {
           "align": "left"
          },
          "hovermode": "closest",
          "mapbox": {
           "style": "light"
          },
          "paper_bgcolor": "white",
          "plot_bgcolor": "#E5ECF6",
          "polar": {
           "angularaxis": {
            "gridcolor": "white",
            "linecolor": "white",
            "ticks": ""
           },
           "bgcolor": "#E5ECF6",
           "radialaxis": {
            "gridcolor": "white",
            "linecolor": "white",
            "ticks": ""
           }
          },
          "scene": {
           "xaxis": {
            "backgroundcolor": "#E5ECF6",
            "gridcolor": "white",
            "gridwidth": 2,
            "linecolor": "white",
            "showbackground": true,
            "ticks": "",
            "zerolinecolor": "white"
           },
           "yaxis": {
            "backgroundcolor": "#E5ECF6",
            "gridcolor": "white",
            "gridwidth": 2,
            "linecolor": "white",
            "showbackground": true,
            "ticks": "",
            "zerolinecolor": "white"
           },
           "zaxis": {
            "backgroundcolor": "#E5ECF6",
            "gridcolor": "white",
            "gridwidth": 2,
            "linecolor": "white",
            "showbackground": true,
            "ticks": "",
            "zerolinecolor": "white"
           }
          },
          "shapedefaults": {
           "line": {
            "color": "#2a3f5f"
           }
          },
          "ternary": {
           "aaxis": {
            "gridcolor": "white",
            "linecolor": "white",
            "ticks": ""
           },
           "baxis": {
            "gridcolor": "white",
            "linecolor": "white",
            "ticks": ""
           },
           "bgcolor": "#E5ECF6",
           "caxis": {
            "gridcolor": "white",
            "linecolor": "white",
            "ticks": ""
           }
          },
          "title": {
           "x": 0.05
          },
          "xaxis": {
           "automargin": true,
           "gridcolor": "white",
           "linecolor": "white",
           "ticks": "",
           "title": {
            "standoff": 15
           },
           "zerolinecolor": "white",
           "zerolinewidth": 2
          },
          "yaxis": {
           "automargin": true,
           "gridcolor": "white",
           "linecolor": "white",
           "ticks": "",
           "title": {
            "standoff": 15
           },
           "zerolinecolor": "white",
           "zerolinewidth": 2
          }
         }
        },
        "title": {
         "text": "Hyperparameter Importances"
        },
        "xaxis": {
         "title": {
          "text": "Hyperparameter Importance"
         }
        },
        "yaxis": {
         "title": {
          "text": "Hyperparameter"
         }
        }
       }
      }
     },
     "metadata": {},
     "output_type": "display_data"
    }
   ],
   "source": [
    "optuna.visualization.plot_optimization_history(study).show()\n",
    "optuna.visualization.plot_param_importances(study).show()"
   ]
  },
  {
   "cell_type": "code",
   "execution_count": 25,
   "id": "b0326144",
   "metadata": {},
   "outputs": [
    {
     "data": {
      "image/png": "[encoded data removed]",
      "text/plain": [
       "<Figure size 800x830 with 2 Axes>"
      ]
     },
     "metadata": {},
     "output_type": "display_data"
    },
    {
     "data": {
      "image/png": "[encoded data removed]",
      "text/plain": [
       "<Figure size 800x830 with 1 Axes>"
      ]
     },
     "metadata": {},
     "output_type": "display_data"
    },
    {
     "name": "stderr",
     "output_type": "stream",
     "text": [
      "c:\\Users\\66891\\anaconda3\\Lib\\site-packages\\catboost\\core.py:945: FutureWarning:\n",
      "\n",
      "Series.__getitem__ treating keys as positions is deprecated. In a future version, integer keys will always be treated as labels (consistent with DataFrame behavior). To access a value by position, use `ser.iloc[pos]`\n",
      "\n"
     ]
    },
    {
     "ename": "CatBoostError",
     "evalue": "catboost/libs/data/model_dataset_compatibility.cpp:72: Feature Years_of_Smoking is present in model but not in pool.",
     "output_type": "error",
     "traceback": [
      "\u001b[1;31m---------------------------------------------------------------------------\u001b[0m",
      "\u001b[1;31mCatBoostError\u001b[0m                             Traceback (most recent call last)",
      "Cell \u001b[1;32mIn[25], line 8\u001b[0m\n\u001b[0;32m      6\u001b[0m shap\u001b[38;5;241m.\u001b[39msummary_plot(shap_values, X_test, plot_type\u001b[38;5;241m=\u001b[39m\u001b[38;5;124m\"\u001b[39m\u001b[38;5;124mbar\u001b[39m\u001b[38;5;124m\"\u001b[39m)\n\u001b[0;32m      7\u001b[0m \u001b[38;5;66;03m# Wykres dla pojedynczej próbki\u001b[39;00m\n\u001b[1;32m----> 8\u001b[0m shap\u001b[38;5;241m.\u001b[39mplots\u001b[38;5;241m.\u001b[39mwaterfall(explainer(X_test\u001b[38;5;241m.\u001b[39miloc[\u001b[38;5;241m20\u001b[39m]))\n",
      "File \u001b[1;32mc:\\Users\\66891\\anaconda3\\Lib\\site-packages\\shap\\explainers\\_tree.py:380\u001b[0m, in \u001b[0;36mTreeExplainer.__call__\u001b[1;34m(self, X, y, interactions, check_additivity, approximate)\u001b[0m\n\u001b[0;32m    377\u001b[0m     feature_names \u001b[38;5;241m=\u001b[39m \u001b[38;5;28mgetattr\u001b[39m(\u001b[38;5;28mself\u001b[39m, \u001b[38;5;124m\"\u001b[39m\u001b[38;5;124mdata_feature_names\u001b[39m\u001b[38;5;124m\"\u001b[39m, \u001b[38;5;28;01mNone\u001b[39;00m)\n\u001b[0;32m    379\u001b[0m \u001b[38;5;28;01mif\u001b[39;00m \u001b[38;5;129;01mnot\u001b[39;00m interactions:\n\u001b[1;32m--> 380\u001b[0m     v \u001b[38;5;241m=\u001b[39m \u001b[38;5;28mself\u001b[39m\u001b[38;5;241m.\u001b[39mshap_values(X, y\u001b[38;5;241m=\u001b[39my, from_call\u001b[38;5;241m=\u001b[39m\u001b[38;5;28;01mTrue\u001b[39;00m, check_additivity\u001b[38;5;241m=\u001b[39mcheck_additivity, approximate\u001b[38;5;241m=\u001b[39mapproximate)\n\u001b[0;32m    381\u001b[0m     \u001b[38;5;28;01mif\u001b[39;00m \u001b[38;5;28misinstance\u001b[39m(v, \u001b[38;5;28mlist\u001b[39m):\n\u001b[0;32m    382\u001b[0m         v \u001b[38;5;241m=\u001b[39m np\u001b[38;5;241m.\u001b[39mstack(v, axis\u001b[38;5;241m=\u001b[39m\u001b[38;5;241m-\u001b[39m\u001b[38;5;241m1\u001b[39m)  \u001b[38;5;66;03m# put outputs at the end\u001b[39;00m\n",
      "File \u001b[1;32mc:\\Users\\66891\\anaconda3\\Lib\\site-packages\\shap\\explainers\\_tree.py:603\u001b[0m, in \u001b[0;36mTreeExplainer.shap_values\u001b[1;34m(self, X, y, tree_limit, approximate, check_additivity, from_call)\u001b[0m\n\u001b[0;32m    601\u001b[0m     \u001b[38;5;28;01mif\u001b[39;00m \u001b[38;5;129;01mnot\u001b[39;00m \u001b[38;5;28misinstance\u001b[39m(X, catboost\u001b[38;5;241m.\u001b[39mPool):\n\u001b[0;32m    602\u001b[0m         X \u001b[38;5;241m=\u001b[39m catboost\u001b[38;5;241m.\u001b[39mPool(X, cat_features\u001b[38;5;241m=\u001b[39m\u001b[38;5;28mself\u001b[39m\u001b[38;5;241m.\u001b[39mmodel\u001b[38;5;241m.\u001b[39mcat_feature_indices)\n\u001b[1;32m--> 603\u001b[0m     phi \u001b[38;5;241m=\u001b[39m \u001b[38;5;28mself\u001b[39m\u001b[38;5;241m.\u001b[39mmodel\u001b[38;5;241m.\u001b[39moriginal_model\u001b[38;5;241m.\u001b[39mget_feature_importance(data\u001b[38;5;241m=\u001b[39mX, fstr_type\u001b[38;5;241m=\u001b[39m\u001b[38;5;124m\"\u001b[39m\u001b[38;5;124mShapValues\u001b[39m\u001b[38;5;124m\"\u001b[39m)\n\u001b[0;32m    605\u001b[0m \u001b[38;5;66;03m# note we pull off the last column and keep it as our expected_value\u001b[39;00m\n\u001b[0;32m    606\u001b[0m \u001b[38;5;28;01mif\u001b[39;00m phi \u001b[38;5;129;01mis\u001b[39;00m \u001b[38;5;129;01mnot\u001b[39;00m \u001b[38;5;28;01mNone\u001b[39;00m:\n",
      "File \u001b[1;32mc:\\Users\\66891\\anaconda3\\Lib\\site-packages\\catboost\\core.py:3249\u001b[0m, in \u001b[0;36mCatBoost.get_feature_importance\u001b[1;34m(self, data, type, prettified, thread_count, verbose, fstr_type, shap_mode, model_output, interaction_indices, shap_calc_type, reference_data, sage_n_samples, sage_batch_size, sage_detect_convergence, log_cout, log_cerr)\u001b[0m\n\u001b[0;32m   3246\u001b[0m         \u001b[38;5;28;01mraise\u001b[39;00m CatBoostError(\u001b[38;5;124m\"\u001b[39m\u001b[38;5;124mdata is empty.\u001b[39m\u001b[38;5;124m\"\u001b[39m)\n\u001b[0;32m   3248\u001b[0m shap_calc_type \u001b[38;5;241m=\u001b[39m enum_from_enum_or_str(EShapCalcType, shap_calc_type)\u001b[38;5;241m.\u001b[39mvalue\n\u001b[1;32m-> 3249\u001b[0m fstr, feature_names \u001b[38;5;241m=\u001b[39m \u001b[38;5;28mself\u001b[39m\u001b[38;5;241m.\u001b[39m_calc_fstr(\u001b[38;5;28mtype\u001b[39m, data, reference_data, thread_count, verbose, model_output, shap_mode, interaction_indices,\n\u001b[0;32m   3250\u001b[0m                                       shap_calc_type, sage_n_samples, sage_batch_size, sage_detect_convergence)\n\u001b[0;32m   3251\u001b[0m \u001b[38;5;28;01mif\u001b[39;00m \u001b[38;5;28mtype\u001b[39m \u001b[38;5;129;01min\u001b[39;00m (EFstrType\u001b[38;5;241m.\u001b[39mPredictionValuesChange, EFstrType\u001b[38;5;241m.\u001b[39mLossFunctionChange,\n\u001b[0;32m   3252\u001b[0m             EFstrType\u001b[38;5;241m.\u001b[39mPredictionDiff, EFstrType\u001b[38;5;241m.\u001b[39mSageValues):\n\u001b[0;32m   3253\u001b[0m     feature_importances \u001b[38;5;241m=\u001b[39m [value[\u001b[38;5;241m0\u001b[39m] \u001b[38;5;28;01mfor\u001b[39;00m value \u001b[38;5;129;01min\u001b[39;00m fstr]\n",
      "File \u001b[1;32mc:\\Users\\66891\\anaconda3\\Lib\\site-packages\\catboost\\core.py:1875\u001b[0m, in \u001b[0;36m_CatBoostBase._calc_fstr\u001b[1;34m(self, type, pool, reference_data, thread_count, verbose, model_output, shap_mode, interaction_indices, shap_calc_type, sage_n_samples, sage_batch_size, sage_detect_convergence)\u001b[0m\n\u001b[0;32m   1860\u001b[0m \u001b[38;5;28;01mdef\u001b[39;00m \u001b[38;5;21m_calc_fstr\u001b[39m(\n\u001b[0;32m   1861\u001b[0m     \u001b[38;5;28mself\u001b[39m,\n\u001b[0;32m   1862\u001b[0m     \u001b[38;5;28mtype\u001b[39m,\n\u001b[1;32m   (...)\u001b[0m\n\u001b[0;32m   1873\u001b[0m     sage_detect_convergence\n\u001b[0;32m   1874\u001b[0m ):\n\u001b[1;32m-> 1875\u001b[0m     \u001b[38;5;28;01mreturn\u001b[39;00m \u001b[38;5;28mself\u001b[39m\u001b[38;5;241m.\u001b[39m_object\u001b[38;5;241m.\u001b[39m_calc_fstr(\n\u001b[0;32m   1876\u001b[0m         \u001b[38;5;28mtype\u001b[39m\u001b[38;5;241m.\u001b[39mname,\n\u001b[0;32m   1877\u001b[0m         pool,\n\u001b[0;32m   1878\u001b[0m         reference_data,\n\u001b[0;32m   1879\u001b[0m         thread_count,\n\u001b[0;32m   1880\u001b[0m         verbose,\n\u001b[0;32m   1881\u001b[0m         model_output,\n\u001b[0;32m   1882\u001b[0m         shap_mode,\n\u001b[0;32m   1883\u001b[0m         interaction_indices,\n\u001b[0;32m   1884\u001b[0m         shap_calc_type,\n\u001b[0;32m   1885\u001b[0m         sage_n_samples,\n\u001b[0;32m   1886\u001b[0m         sage_batch_size,\n\u001b[0;32m   1887\u001b[0m         sage_detect_convergence\n\u001b[0;32m   1888\u001b[0m     )\n",
      "File \u001b[1;32m_catboost.pyx:5257\u001b[0m, in \u001b[0;36m_catboost._CatBoost._calc_fstr\u001b[1;34m()\u001b[0m\n",
      "File \u001b[1;32m_catboost.pyx:5322\u001b[0m, in \u001b[0;36m_catboost._CatBoost._calc_fstr\u001b[1;34m()\u001b[0m\n",
      "\u001b[1;31mCatBoostError\u001b[0m: catboost/libs/data/model_dataset_compatibility.cpp:72: Feature Years_of_Smoking is present in model but not in pool."
     ]
    }
   ],
   "source": [
    "explainer = shap.TreeExplainer(model)\n",
    "shap_values = explainer.shap_values(X_test)\n",
    "\n",
    "# Wykres ogólny\n",
    "shap.summary_plot(shap_values, X_test)\n",
    "shap.summary_plot(shap_values, X_test, plot_type=\"bar\")\n",
    "# Wykres dla pojedynczej próbki\n",
    "shap.plots.waterfall(explainer(X_test.iloc[20]))  # <-- odkomentuj dla konkretnej obserwacji\n",
    "\n"
   ]
  }
 ],
 "metadata": {
  "kernelspec": {
   "display_name": "base",
   "language": "python",
   "name": "python3"
  },
  "language_info": {
   "codemirror_mode": {
    "name": "ipython",
    "version": 3
   },
   "file_extension": ".py",
   "mimetype": "text/x-python",
   "name": "python",
   "nbconvert_exporter": "python",
   "pygments_lexer": "ipython3",
   "version": "3.11.5"
  }
 },
 "nbformat": 4,
 "nbformat_minor": 5
}
