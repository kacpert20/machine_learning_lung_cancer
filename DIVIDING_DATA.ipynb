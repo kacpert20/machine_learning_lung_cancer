{
 "cells": [
  {
   "cell_type": "code",
   "execution_count": 2,
   "id": "e801fade",
   "metadata": {},
   "outputs": [
    {
     "name": "stdout",
     "output_type": "stream",
     "text": [
      "Zrobione: zapisano 70% i 30% danych do osobnych plików.\n"
     ]
    }
   ],
   "source": [
    "import pandas as pd\n",
    "from sklearn.model_selection import train_test_split\n",
    "\n",
    "# Wczytaj dane\n",
    "df = pd.read_csv('learning_set.csv')\n",
    "\n",
    "\n",
    "target_column = 'Lung_Cancer_Diagnosis'\n",
    "\n",
    "X = df.drop(columns=[target_column])\n",
    "y = df[target_column]\n",
    "\n",
    "# Podział z zachowaniem proporcji klas\n",
    "X_train, X_test, y_train, y_test = train_test_split(\n",
    "    X, y, \n",
    "    test_size=0.3, \n",
    "    stratify=y, \n",
    "    random_state=42\n",
    ")\n",
    "\n",
    "# Składamy z powrotem do ramki\n",
    "df_train = pd.concat([X_train, y_train], axis=1)\n",
    "df_test = pd.concat([X_test, y_test], axis=1)\n",
    "\n",
    "# Zapis do plików\n",
    "df_train.to_csv('70_percent_ls.csv', index=False)\n",
    "df_test.to_csv('30_percent_ls.csv', index=False)\n",
    "\n",
    "print(\"Zrobione: zapisano 70% i 30% danych do osobnych plików.\")\n"
   ]
  }
 ],
 "metadata": {
  "kernelspec": {
   "display_name": "base",
   "language": "python",
   "name": "python3"
  },
  "language_info": {
   "codemirror_mode": {
    "name": "ipython",
    "version": 3
   },
   "file_extension": ".py",
   "mimetype": "text/x-python",
   "name": "python",
   "nbconvert_exporter": "python",
   "pygments_lexer": "ipython3",
   "version": "3.11.5"
  }
 },
 "nbformat": 4,
 "nbformat_minor": 5
}
